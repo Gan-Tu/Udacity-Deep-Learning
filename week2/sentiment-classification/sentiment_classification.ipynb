{
 "cells": [
  {
   "cell_type": "markdown",
   "metadata": {},
   "source": [
    "# Sentiment Classification\n",
    "\n",
    "#### Sentiment classification using a noise-reduced, multilayer neural network\n",
    "by Gan Tu\n",
    "\n",
    "**Credits**: Andrew Trask"
   ]
  },
  {
   "cell_type": "markdown",
   "metadata": {},
   "source": [
    "### Techniques Used\n",
    "\n",
    "- neural networks, forward and back-propagation\n",
    "- stochastic gradient descent\n",
    "- mean squared error\n",
    "- and train/test splits\n",
    "- reduce noise by using binary input, min frequencies, popularity cutoff\n",
    "- postive and negative ratio\n",
    "- etc...\n",
    "\n",
    "### Bookmarks <a id=\"bookmark\"></a>\n",
    "- [Data Exploration](#data_exploration)\n",
    "- [Model Visualization](#visualization)\n",
    "- [Sentiment Netwowrk](#sentiment_network)\n",
    "- [Performance](#performance)\n",
    "- [Analysis of the Weights](#analysis)"
   ]
  },
  {
   "cell_type": "markdown",
   "metadata": {
    "nbpresent": {
     "id": "56bb3cba-260c-4ebe-9ed6-b995b4c72aa3"
    }
   },
   "source": [
    "# Data Exploration <a id='data_exploration'></a>"
   ]
  },
  {
   "cell_type": "code",
   "execution_count": 1,
   "metadata": {
    "collapsed": false,
    "nbpresent": {
     "id": "eba2b193-0419-431e-8db9-60f34dd3fe83"
    }
   },
   "outputs": [],
   "source": [
    "def pretty_print_review_and_label(i):\n",
    "    print(labels[i] + \"\\t:\\t\" + reviews[i][:80] + \"...\")\n",
    "\n",
    "g = open('data/reviews.txt','r') # What we know!\n",
    "reviews = list(map(lambda x:x[:-1],g.readlines()))\n",
    "g.close()\n",
    "\n",
    "g = open('data/labels.txt','r') # What we WANT to know!\n",
    "labels = list(map(lambda x:x[:-1].upper(),g.readlines()))\n",
    "g.close()"
   ]
  },
  {
   "cell_type": "markdown",
   "metadata": {},
   "source": [
    "**Note:** The data in `reviews.txt` we're using has already been preprocessed and contains only lower case characters. If we were working from raw data, where we didn't know it was all lower case, we would want to add a step here to convert it. That's so we treat different variations of the same word, like `The`, `the`, and `THE`, all the same way."
   ]
  },
  {
   "cell_type": "code",
   "execution_count": 2,
   "metadata": {
    "collapsed": false
   },
   "outputs": [
    {
     "data": {
      "text/plain": [
       "25000"
      ]
     },
     "execution_count": 2,
     "metadata": {},
     "output_type": "execute_result"
    }
   ],
   "source": [
    "len(reviews)"
   ]
  },
  {
   "cell_type": "code",
   "execution_count": 3,
   "metadata": {
    "collapsed": false,
    "nbpresent": {
     "id": "bb95574b-21a0-4213-ae50-34363cf4f87f"
    },
    "scrolled": true
   },
   "outputs": [
    {
     "data": {
      "text/plain": [
       "'bromwell high is a cartoon comedy . it ran at the same time as some other programs about school life  such as  teachers  . my   years in the teaching profession lead me to believe that bromwell high  s satire is much closer to reality than is  teachers  . the scramble to survive financially  the insightful students who can see right through their pathetic teachers  pomp  the pettiness of the whole situation  all remind me of the schools i knew and their students . when i saw the episode in which a student repeatedly tried to burn down the school  i immediately recalled . . . . . . . . . at . . . . . . . . . . high . a classic line inspector i  m here to sack one of your teachers . student welcome to bromwell high . i expect that many adults of my age think that bromwell high is far fetched . what a pity that it isn  t   '"
      ]
     },
     "execution_count": 3,
     "metadata": {},
     "output_type": "execute_result"
    }
   ],
   "source": [
    "reviews[0]"
   ]
  },
  {
   "cell_type": "code",
   "execution_count": 4,
   "metadata": {
    "collapsed": false,
    "nbpresent": {
     "id": "e0408810-c424-4ed4-afb9-1735e9ddbd0a"
    }
   },
   "outputs": [
    {
     "data": {
      "text/plain": [
       "'POSITIVE'"
      ]
     },
     "execution_count": 4,
     "metadata": {},
     "output_type": "execute_result"
    }
   ],
   "source": [
    "labels[0]"
   ]
  },
  {
   "cell_type": "code",
   "execution_count": 5,
   "metadata": {
    "collapsed": false,
    "nbpresent": {
     "id": "e67a709f-234f-4493-bae6-4fb192141ee0"
    }
   },
   "outputs": [
    {
     "name": "stdout",
     "output_type": "stream",
     "text": [
      "labels.txt \t : \t reviews.txt\n",
      "\n",
      "NEGATIVE\t:\tthis movie is terrible but it has some good effects .  ...\n",
      "POSITIVE\t:\tadrian pasdar is excellent is this film . he makes a fascinating woman .  ...\n",
      "NEGATIVE\t:\tcomment this movie is impossible . is terrible  very improbable  bad interpretat...\n",
      "POSITIVE\t:\texcellent episode movie ala pulp fiction .  days   suicides . it doesnt get more...\n",
      "NEGATIVE\t:\tif you haven  t seen this  it  s terrible . it is pure trash . i saw this about ...\n",
      "POSITIVE\t:\tthis schiffer guy is a real genius  the movie is of excellent quality and both e...\n"
     ]
    }
   ],
   "source": [
    "print(\"labels.txt \\t : \\t reviews.txt\\n\")\n",
    "pretty_print_review_and_label(2137)\n",
    "pretty_print_review_and_label(12816)\n",
    "pretty_print_review_and_label(6267)\n",
    "pretty_print_review_and_label(21934)\n",
    "pretty_print_review_and_label(5297)\n",
    "pretty_print_review_and_label(4998)"
   ]
  },
  {
   "cell_type": "markdown",
   "metadata": {},
   "source": [
    "# Model Visualization <a id='visualization'></a>\n",
    "- [Back to Bookmark](#bookmark)"
   ]
  },
  {
   "cell_type": "code",
   "execution_count": 6,
   "metadata": {
    "collapsed": false,
    "scrolled": true
   },
   "outputs": [],
   "source": [
    "from IPython.display import Image"
   ]
  },
  {
   "cell_type": "code",
   "execution_count": 7,
   "metadata": {
    "collapsed": false
   },
   "outputs": [
    {
     "data": {
      "image/png": "[encoded data removed]",
      "text/plain": [
       "<IPython.core.display.Image object>"
      ]
     },
     "execution_count": 7,
     "metadata": {},
     "output_type": "execute_result"
    }
   ],
   "source": [
    "Image(filename='img/sentiment_network.png')"
   ]
  },
  {
   "cell_type": "code",
   "execution_count": 8,
   "metadata": {
    "collapsed": false
   },
   "outputs": [
    {
     "data": {
      "image/png": "[encoded data removed]",
      "text/plain": [
       "<IPython.core.display.Image object>"
      ]
     },
     "execution_count": 8,
     "metadata": {},
     "output_type": "execute_result"
    }
   ],
   "source": [
    "Image(filename='img/sentiment_network_2.png')"
   ]
  },
  {
   "cell_type": "markdown",
   "metadata": {},
   "source": [
    "# Sentiment Network <a id='sentiment_network'></a>\n",
    "- [Back to Bookmark](#bookmark)"
   ]
  },
  {
   "cell_type": "code",
   "execution_count": 9,
   "metadata": {
    "collapsed": true
   },
   "outputs": [],
   "source": [
    "import numpy as np\n",
    "import time\n",
    "import sys\n",
    "from collections import Counter"
   ]
  },
  {
   "cell_type": "code",
   "execution_count": 10,
   "metadata": {
    "collapsed": true
   },
   "outputs": [],
   "source": [
    "# Encapsulate our neural network in a class\n",
    "class SentimentNetwork:\n",
    "    def __init__(self, reviews, labels, min_count = 10, polarity_cutoff = 0.1, \\\n",
    "                     hidden_nodes = 10, learning_rate = 0.1):\n",
    "        \"\"\"Create a SentimenNetwork with the given settings\n",
    "        Args:\n",
    "            reviews(list) - List of reviews used for training\n",
    "            labels(list) - List of POSITIVE/NEGATIVE labels associated with the given reviews\n",
    "            min_count(int) - Words should only be added to the vocabulary \n",
    "                             if they occur more than this many times\n",
    "            polarity_cutoff(float) - The absolute value of a word's positive-to-negative\n",
    "                                     ratio must be at least this big to be considered.\n",
    "            hidden_nodes(int) - Number of nodes to create in the hidden layer\n",
    "            learning_rate(float) - Learning rate to use while training\n",
    "        \n",
    "        \"\"\"\n",
    "        # Assign a seed to our random number generator to ensure we get\n",
    "        # reproducable results during development \n",
    "        np.random.seed(1)\n",
    "\n",
    "        # process the reviews and their associated labels so that everything\n",
    "        # is ready for training\n",
    "        self.pre_process_data(reviews, labels, polarity_cutoff, min_count)\n",
    "        \n",
    "        # Build the network to have the number of hidden nodes and the learning rate that\n",
    "        # were passed into this initializer. Make the same number of input nodes as\n",
    "        # there are vocabulary words and create a single output node.\n",
    "        self.init_network(len(self.review_vocab), hidden_nodes, 1, learning_rate)\n",
    "\n",
    "    def pre_process_data(self, reviews, labels, polarity_cutoff, min_count):\n",
    "        \n",
    "        # Calculate positive-to-negative ratios for words before building vocabulary\n",
    "        positive_counts = Counter()\n",
    "        negative_counts = Counter()\n",
    "        total_counts = Counter()\n",
    "\n",
    "        for i, review in enumerate(reviews):\n",
    "            for word in review.split(\" \"):\n",
    "                total_counts[word] += 1\n",
    "                if labels[i] == 'POSITIVE':\n",
    "                    positive_counts[word] += 1\n",
    "                else:\n",
    "                    negative_counts[word] += 1\n",
    "\n",
    "        pos_neg_ratios = Counter()\n",
    "\n",
    "        for word, count in list(total_counts.most_common()):\n",
    "            if count >= 50:\n",
    "                pos_neg_ratio = positive_counts[word] / float(negative_counts[word] + 1)\n",
    "                pos_neg_ratios[word] = pos_neg_ratio\n",
    "\n",
    "        for word, ratio in pos_neg_ratios.most_common():\n",
    "            if ratio > 1:\n",
    "                pos_neg_ratios[word] = np.log(ratio)\n",
    "            else:\n",
    "                pos_neg_ratios[word] = -np.log((1 / (ratio + 0.01)))\n",
    "\n",
    "        # populate review_vocab with all of the words in the given reviews\n",
    "        review_vocab = set()\n",
    "        pos_neg_ratios_keys = pos_neg_ratios.keys()\n",
    "        for review in reviews:\n",
    "            for word in review.split(\" \"):\n",
    "                # only add words that occur at least min_count times and for \n",
    "                # words with pos/neg ratios, only add words that meet the polarity_cutoff\n",
    "                if total_counts[word] > min_count:\n",
    "                    if word in pos_neg_ratios_keys:\n",
    "                        if np.abs(pos_neg_ratios[word]) >= polarity_cutoff:\n",
    "                            review_vocab.add(word)\n",
    "                    else:\n",
    "                        review_vocab.add(word)\n",
    "\n",
    "        # Convert the vocabulary set to a list so we can access words via indices\n",
    "        self.review_vocab = list(review_vocab)\n",
    "        \n",
    "        # populate label_vocab with all of the words in the given labels.\n",
    "        label_vocab = set()\n",
    "        for label in labels:\n",
    "            label_vocab.add(label)\n",
    "        \n",
    "        # Convert the label vocabulary set to a list so we can access labels via indices\n",
    "        self.label_vocab = list(label_vocab)\n",
    "        \n",
    "        # Store the sizes of the review and label vocabularies.\n",
    "        self.review_vocab_size = len(self.review_vocab)\n",
    "        self.label_vocab_size = len(self.label_vocab)\n",
    "        \n",
    "        # Create a dictionary of words in the vocabulary mapped to index positions\n",
    "        self.word2index = {}\n",
    "        for i, word in enumerate(self.review_vocab):\n",
    "            self.word2index[word] = i\n",
    "        \n",
    "        # Create a dictionary of labels mapped to index positions\n",
    "        self.label2index = {}\n",
    "        for i, label in enumerate(self.label_vocab):\n",
    "            self.label2index[label] = i\n",
    "\n",
    "    def init_network(self, input_nodes, hidden_nodes, output_nodes, learning_rate):\n",
    "        # Set number of nodes in input, hidden and output layers.\n",
    "        self.input_nodes = input_nodes\n",
    "        self.hidden_nodes = hidden_nodes\n",
    "        self.output_nodes = output_nodes\n",
    "\n",
    "        # Store the learning rate\n",
    "        self.learning_rate = learning_rate\n",
    "\n",
    "        # Initialize weights\n",
    "\n",
    "        # These are the weights between the input layer and the hidden layer.\n",
    "        self.weights_0_1 = np.zeros((self.input_nodes,self.hidden_nodes))\n",
    "\n",
    "        # These are the weights between the hidden layer and the output layer.\n",
    "        self.weights_1_2 = np.random.normal(scale = 1 / self.output_nodes ** 0.5, \n",
    "                                            size = (self.hidden_nodes, self.output_nodes))\n",
    "        \n",
    "        # The input layer, a two-dimensional matrix with shape 1 x hidden_nodes\n",
    "        self.layer_1 = np.zeros((1,hidden_nodes))\n",
    "    \n",
    "    def get_target_for_label(self, label):\n",
    "        return 1 if label == 'POSITIVE' else 0\n",
    "        \n",
    "    def sigmoid(self, x):\n",
    "        return 1 / (1 + np.exp(-x))\n",
    "    \n",
    "    def sigmoid_output_2_derivative(self, output):\n",
    "        return output * (1 - output)\n",
    "    \n",
    "    def train(self, training_reviews_raw, training_labels):\n",
    "\n",
    "        # pre-process training reviews so we can deal directly with \\\n",
    "        # the indices of non-zero inputs\n",
    "        training_reviews = list()\n",
    "        word2index_keys = self.word2index.keys()\n",
    "        for review in training_reviews_raw:\n",
    "            indices = set()\n",
    "            for word in review.split(\" \"):\n",
    "                if word in word2index_keys:\n",
    "                    indices.add(self.word2index[word])\n",
    "            training_reviews.append(list(indices))\n",
    "\n",
    "        # make sure out we have a matching number of reviews and labels\n",
    "        assert(len(training_reviews) == len(training_labels))\n",
    "        \n",
    "        # Keep track of correct predictions to display accuracy during training \n",
    "        correct_so_far = 0\n",
    "\n",
    "        # Remember when we started for printing time statistics\n",
    "        start = time.time()\n",
    "        \n",
    "        # loop through all the given reviews and run a forward and backward pass,\n",
    "        # updating weights for every item\n",
    "        for i in range(len(training_reviews)):\n",
    "            \n",
    "            # Get the next review and its correct label\n",
    "            review = training_reviews[i]\n",
    "            label = training_labels[i]\n",
    "            \n",
    "            ### Forward pass ###\n",
    "\n",
    "            ## Hidden layer\n",
    "            # Add in only the weights for non-zero items\n",
    "            self.layer_1 *= 0\n",
    "            for index in review:\n",
    "                self.layer_1 += self.weights_0_1[index]\n",
    "\n",
    "            ## Output layer\n",
    "            layer_2 = self.sigmoid(self.layer_1.dot(self.weights_1_2))            \n",
    "            \n",
    "            ### Backward pass ###\n",
    "\n",
    "            ## Output error\n",
    "            layer_2_error = layer_2 - self.get_target_for_label(label) \n",
    "            layer_2_delta = layer_2_error * self.sigmoid_output_2_derivative(layer_2)\n",
    "\n",
    "            ## Backpropagated error\n",
    "            layer_1_error = layer_2_delta.dot(self.weights_1_2.T)\n",
    "            # hidden layer gradients - no nonlinearity so it's the same as the error\n",
    "            layer_1_delta = layer_1_error\n",
    "\n",
    "            ## Update the weights\n",
    "            self.weights_1_2 -= self.layer_1.T.dot(layer_2_delta) * self.learning_rate\n",
    "            \n",
    "            for index in review:\n",
    "                self.weights_0_1[index] -= layer_1_delta[0] * self.learning_rate\n",
    "\n",
    "            # Keep track of correct predictions.\n",
    "            if(layer_2 >= 0.5 and label == 'POSITIVE'):\n",
    "                correct_so_far += 1\n",
    "            elif(layer_2 < 0.5 and label == 'NEGATIVE'):\n",
    "                correct_so_far += 1\n",
    "            \n",
    "            # For debug purposes, print out our prediction accuracy and speed \n",
    "            # throughout the training process. \n",
    "            elapsed_time = float(time.time() - start)\n",
    "            reviews_per_second = i / elapsed_time if elapsed_time > 0 else 0\n",
    "            \n",
    "            sys.stdout.write(\"\\rProgress:\" + str(100 * i/float(len(training_reviews)))[:4] \\\n",
    "                             + \"% Speed(reviews/sec):\" + str(reviews_per_second)[0:5] \\\n",
    "                             + \" #Correct:\" + str(correct_so_far) + \" #Trained:\" + str(i+1) \\\n",
    "                             + \" Training Accuracy:\" + str(correct_so_far * 100 / float(i+1))[:4] + \"%\")\n",
    "            if(i % 2500 == 0):\n",
    "                print(\"\")\n",
    "    \n",
    "    def test(self, testing_reviews, testing_labels):\n",
    "        \"\"\"\n",
    "        Attempts to predict the labels for the given testing_reviews,\n",
    "        and uses the test_labels to calculate the accuracy of those predictions.\n",
    "        \"\"\"\n",
    "        \n",
    "        # keep track of how many correct predictions we make\n",
    "        correct = 0\n",
    "\n",
    "        # we'll time how many predictions per second we make\n",
    "        start = time.time()\n",
    "\n",
    "        # Loop through each of the given reviews and call run to predict\n",
    "        # its label. \n",
    "        for i, review in enumerate(testing_reviews):\n",
    "            pred = self.run(review)\n",
    "            if pred == testing_labels[i]:\n",
    "                correct += 1\n",
    "            \n",
    "            # For debug purposes, print out our prediction accuracy and speed \n",
    "            # throughout the prediction process. \n",
    "\n",
    "            elapsed_time = float(time.time() - start)\n",
    "            reviews_per_second = i / elapsed_time if elapsed_time > 0 else 0\n",
    "            \n",
    "            sys.stdout.write(\"\\rProgress:\" + str(100 * i/float(len(testing_reviews)))[:4] \\\n",
    "                             + \"% Speed(reviews/sec):\" + str(reviews_per_second)[0:5] \\\n",
    "                             + \" #Correct:\" + str(correct) + \" #Tested:\" + str(i+1) \\\n",
    "                             + \" Testing Accuracy:\" + str(correct * 100 / float(i+1))[:4] + \"%\")\n",
    "    \n",
    "    def run(self, review):\n",
    "        \"\"\"\n",
    "        Returns a POSITIVE or NEGATIVE prediction for the given review.\n",
    "        \"\"\"\n",
    "        # Run a forward pass through the network, like in the \"train\" function.\n",
    "        \n",
    "        # make sure reviews are all in lower case because our \\\n",
    "        # neural net is trained on lower case\n",
    "        review = review.lower()\n",
    "        \n",
    "        ## Hidden layer\n",
    "        self.layer_1 *= 0\n",
    "        indices_of_words_used = set()\n",
    "        word2index_keys = self.word2index.keys()\n",
    "        \n",
    "        for word in review.split(\" \"):\n",
    "            if word in word2index_keys:\n",
    "                indices_of_words_used.add(self.word2index[word])\n",
    "                \n",
    "        for index in indices_of_words_used:\n",
    "            self.layer_1 += self.weights_0_1[index]\n",
    "        \n",
    "        ## Output layer\n",
    "        layer_2 = self.sigmoid(self.layer_1.dot(self.weights_1_2))\n",
    "         \n",
    "        # Return POSITIVE for values above greater-than-or-equal-to 0.5 in the output layer;\n",
    "        # return NEGATIVE for other values\n",
    "        return \"POSITIVE\" if layer_2[0] >= 0.5 else \"NEGATIVE\""
   ]
  },
  {
   "cell_type": "markdown",
   "metadata": {},
   "source": [
    "# Performance <a id=\"performance\"></a>\n",
    "- [Back to Bookmark](#bookmark)"
   ]
  },
  {
   "cell_type": "markdown",
   "metadata": {},
   "source": [
    "The following cell trains the network with a small polarity cutoff."
   ]
  },
  {
   "cell_type": "code",
   "execution_count": 11,
   "metadata": {
    "collapsed": false
   },
   "outputs": [
    {
     "name": "stdout",
     "output_type": "stream",
     "text": [
      "Progress:0.0% Speed(reviews/sec):0.0 #Correct:1 #Trained:1 Training Accuracy:100.%\n",
      "Progress:10.4% Speed(reviews/sec):1786. #Correct:1994 #Trained:2501 Training Accuracy:79.7%\n",
      "Progress:20.8% Speed(reviews/sec):1778. #Correct:4063 #Trained:5001 Training Accuracy:81.2%\n",
      "Progress:31.2% Speed(reviews/sec):1847. #Correct:6176 #Trained:7501 Training Accuracy:82.3%\n",
      "Progress:41.6% Speed(reviews/sec):1895. #Correct:8336 #Trained:10001 Training Accuracy:83.3%\n",
      "Progress:52.0% Speed(reviews/sec):1905. #Correct:10501 #Trained:12501 Training Accuracy:84.0%\n",
      "Progress:62.5% Speed(reviews/sec):1921. #Correct:12641 #Trained:15001 Training Accuracy:84.2%\n",
      "Progress:72.9% Speed(reviews/sec):1890. #Correct:14782 #Trained:17501 Training Accuracy:84.4%\n",
      "Progress:83.3% Speed(reviews/sec):1901. #Correct:16954 #Trained:20001 Training Accuracy:84.7%\n",
      "Progress:93.7% Speed(reviews/sec):1887. #Correct:19143 #Trained:22501 Training Accuracy:85.0%\n",
      "Progress:99.9% Speed(reviews/sec):1872. #Correct:20461 #Trained:24000 Training Accuracy:85.2%"
     ]
    }
   ],
   "source": [
    "mlp = SentimentNetwork(reviews[:-1000], labels[:-1000], min_count=20, \\\n",
    "                       polarity_cutoff=0.05, learning_rate=0.01)\n",
    "mlp.train(reviews[:-1000], labels[:-1000])"
   ]
  },
  {
   "cell_type": "markdown",
   "metadata": {},
   "source": [
    "The following cell tests its performance."
   ]
  },
  {
   "cell_type": "code",
   "execution_count": 12,
   "metadata": {
    "collapsed": false
   },
   "outputs": [
    {
     "name": "stdout",
     "output_type": "stream",
     "text": [
      "Progress:99.9% Speed(reviews/sec):1866. #Correct:859 #Tested:1000 Testing Accuracy:85.9%"
     ]
    }
   ],
   "source": [
    "mlp.test(reviews[-1000:], labels[-1000:])"
   ]
  },
  {
   "cell_type": "markdown",
   "metadata": {},
   "source": [
    "The following cell trains the network with a much larger polarity cutoff."
   ]
  },
  {
   "cell_type": "code",
   "execution_count": 13,
   "metadata": {
    "collapsed": false
   },
   "outputs": [
    {
     "name": "stdout",
     "output_type": "stream",
     "text": [
      "Progress:0.0% Speed(reviews/sec):0.0 #Correct:1 #Trained:1 Training Accuracy:100.%\n",
      "Progress:10.4% Speed(reviews/sec):6128. #Correct:2114 #Trained:2501 Training Accuracy:84.5%\n",
      "Progress:20.8% Speed(reviews/sec):5813. #Correct:4235 #Trained:5001 Training Accuracy:84.6%\n",
      "Progress:31.2% Speed(reviews/sec):5958. #Correct:6362 #Trained:7501 Training Accuracy:84.8%\n",
      "Progress:41.6% Speed(reviews/sec):5999. #Correct:8513 #Trained:10001 Training Accuracy:85.1%\n",
      "Progress:52.0% Speed(reviews/sec):5860. #Correct:10641 #Trained:12501 Training Accuracy:85.1%\n",
      "Progress:62.5% Speed(reviews/sec):5168. #Correct:12796 #Trained:15001 Training Accuracy:85.3%\n",
      "Progress:72.9% Speed(reviews/sec):5055. #Correct:14911 #Trained:17501 Training Accuracy:85.2%\n",
      "Progress:83.3% Speed(reviews/sec):4735. #Correct:17077 #Trained:20001 Training Accuracy:85.3%\n",
      "Progress:93.7% Speed(reviews/sec):4837. #Correct:19258 #Trained:22501 Training Accuracy:85.5%\n",
      "Progress:99.9% Speed(reviews/sec):4900. #Correct:20552 #Trained:24000 Training Accuracy:85.6%"
     ]
    }
   ],
   "source": [
    "mlp = SentimentNetwork(reviews[:-1000], labels[:-1000], min_count=20, \\\n",
    "                       polarity_cutoff=0.8, learning_rate=0.01)\n",
    "mlp.train(reviews[:-1000], labels[:-1000])"
   ]
  },
  {
   "cell_type": "markdown",
   "metadata": {},
   "source": [
    "The following cell tests its performance."
   ]
  },
  {
   "cell_type": "code",
   "execution_count": 14,
   "metadata": {
    "collapsed": false
   },
   "outputs": [
    {
     "name": "stdout",
     "output_type": "stream",
     "text": [
      "Progress:99.9% Speed(reviews/sec):3756. #Correct:822 #Tested:1000 Testing Accuracy:82.2%"
     ]
    }
   ],
   "source": [
    "mlp.test(reviews[-1000:], labels[-1000:])"
   ]
  },
  {
   "cell_type": "markdown",
   "metadata": {
    "collapsed": true
   },
   "source": [
    "# Analysis of the Weights <a id='analysis'></a>\n",
    "- [Back to Bookmark](#bookmark)"
   ]
  },
  {
   "cell_type": "code",
   "execution_count": 15,
   "metadata": {
    "collapsed": false
   },
   "outputs": [],
   "source": [
    "mlp_full = SentimentNetwork(reviews[:-1000], labels[:-1000], min_count=0, \\\n",
    "                            polarity_cutoff=0, learning_rate=0.01)"
   ]
  },
  {
   "cell_type": "code",
   "execution_count": 16,
   "metadata": {
    "collapsed": false
   },
   "outputs": [
    {
     "name": "stdout",
     "output_type": "stream",
     "text": [
      "Progress:0.0% Speed(reviews/sec):0.0 #Correct:1 #Trained:1 Training Accuracy:100.%\n",
      "Progress:10.4% Speed(reviews/sec):1686. #Correct:1962 #Trained:2501 Training Accuracy:78.4%\n",
      "Progress:20.8% Speed(reviews/sec):1678. #Correct:4002 #Trained:5001 Training Accuracy:80.0%\n",
      "Progress:31.2% Speed(reviews/sec):1632. #Correct:6120 #Trained:7501 Training Accuracy:81.5%\n",
      "Progress:41.6% Speed(reviews/sec):1586. #Correct:8271 #Trained:10001 Training Accuracy:82.7%\n",
      "Progress:52.0% Speed(reviews/sec):1582. #Correct:10431 #Trained:12501 Training Accuracy:83.4%\n",
      "Progress:62.5% Speed(reviews/sec):1591. #Correct:12565 #Trained:15001 Training Accuracy:83.7%\n",
      "Progress:72.9% Speed(reviews/sec):1602. #Correct:14670 #Trained:17501 Training Accuracy:83.8%\n",
      "Progress:83.3% Speed(reviews/sec):1599. #Correct:16833 #Trained:20001 Training Accuracy:84.1%\n",
      "Progress:93.7% Speed(reviews/sec):1584. #Correct:19015 #Trained:22501 Training Accuracy:84.5%\n",
      "Progress:99.9% Speed(reviews/sec):1568. #Correct:20335 #Trained:24000 Training Accuracy:84.7%"
     ]
    }
   ],
   "source": [
    "mlp_full.train(reviews[:-1000], labels[:-1000])"
   ]
  },
  {
   "cell_type": "code",
   "execution_count": 17,
   "metadata": {
    "collapsed": true
   },
   "outputs": [],
   "source": [
    "def get_most_similar_words(focus = \"horrible\"):\n",
    "    most_similar = Counter()\n",
    "\n",
    "    for word in mlp_full.word2index.keys():\n",
    "        most_similar[word] = np.dot(mlp_full.weights_0_1[mlp_full.word2index[word]],\\\n",
    "                                    mlp_full.weights_0_1[mlp_full.word2index[focus]])\n",
    "    \n",
    "    return most_similar.most_common()"
   ]
  },
  {
   "cell_type": "code",
   "execution_count": 18,
   "metadata": {
    "collapsed": false
   },
   "outputs": [
    {
     "data": {
      "text/plain": [
       "[('excellent', 0.13672950757352476),\n",
       " ('perfect', 0.12548286087225946),\n",
       " ('amazing', 0.091827633925999741),\n",
       " ('today', 0.090223662694414203),\n",
       " ('wonderful', 0.089355976962214631),\n",
       " ('fun', 0.087504466674206888),\n",
       " ('great', 0.087141758882292072),\n",
       " ('best', 0.085810885617880583),\n",
       " ('liked', 0.077697629123843426),\n",
       " ('definitely', 0.076628781406966023)]"
      ]
     },
     "execution_count": 18,
     "metadata": {},
     "output_type": "execute_result"
    }
   ],
   "source": [
    "get_most_similar_words(\"excellent\")[:10]"
   ]
  },
  {
   "cell_type": "code",
   "execution_count": 19,
   "metadata": {
    "collapsed": false
   },
   "outputs": [
    {
     "data": {
      "text/plain": [
       "[('worst', 0.16966107259049851),\n",
       " ('awful', 0.12026847019691247),\n",
       " ('waste', 0.11945367265311006),\n",
       " ('poor', 0.092758887574435497),\n",
       " ('terrible', 0.09142538719772797),\n",
       " ('dull', 0.084209271678223618),\n",
       " ('poorly', 0.081241544516042055),\n",
       " ('disappointment', 0.08006475962136872),\n",
       " ('fails', 0.078599773723337527),\n",
       " ('disappointing', 0.07733948548032335)]"
      ]
     },
     "execution_count": 19,
     "metadata": {},
     "output_type": "execute_result"
    }
   ],
   "source": [
    "get_most_similar_words(\"terrible\")[:10]"
   ]
  },
  {
   "cell_type": "code",
   "execution_count": 22,
   "metadata": {
    "collapsed": false
   },
   "outputs": [],
   "source": [
    "import matplotlib.colors as colors\n",
    "\n",
    "positive_counts = Counter()\n",
    "negative_counts = Counter()\n",
    "total_counts = Counter()\n",
    "\n",
    "for i, review in enumerate(reviews):\n",
    "    for word in review.split(\" \"):\n",
    "        total_counts[word] += 1\n",
    "        if labels[i] == 'POSITIVE':\n",
    "            positive_counts[word] += 1\n",
    "        else:\n",
    "            negative_counts[word] += 1\n",
    "\n",
    "pos_neg_ratios = Counter()\n",
    "\n",
    "for word, count in list(total_counts.most_common()):\n",
    "    if count >= 50:\n",
    "        pos_neg_ratio = positive_counts[word] / float(negative_counts[word] + 1)\n",
    "        pos_neg_ratios[word] = pos_neg_ratio\n",
    "\n",
    "for word, ratio in pos_neg_ratios.most_common():\n",
    "    if ratio > 1:\n",
    "        pos_neg_ratios[word] = np.log(ratio)\n",
    "    else:\n",
    "        pos_neg_ratios[word] = -np.log((1 / (ratio + 0.01)))\n",
    "        \n",
    "words_to_visualize = list()\n",
    "for word, ratio in pos_neg_ratios.most_common(500):\n",
    "    if(word in mlp_full.word2index.keys()):\n",
    "        words_to_visualize.append(word)\n",
    "    \n",
    "for word, ratio in list(reversed(pos_neg_ratios.most_common()))[0:500]:\n",
    "    if(word in mlp_full.word2index.keys()):\n",
    "        words_to_visualize.append(word)"
   ]
  },
  {
   "cell_type": "code",
   "execution_count": 23,
   "metadata": {
    "collapsed": true
   },
   "outputs": [],
   "source": [
    "pos = 0\n",
    "neg = 0\n",
    "\n",
    "colors_list = list()\n",
    "vectors_list = list()\n",
    "for word in words_to_visualize:\n",
    "    if word in pos_neg_ratios.keys():\n",
    "        vectors_list.append(mlp_full.weights_0_1[mlp_full.word2index[word]])\n",
    "        if(pos_neg_ratios[word] > 0):\n",
    "            pos+=1\n",
    "            colors_list.append(\"#00ff00\")\n",
    "        else:\n",
    "            neg+=1\n",
    "            colors_list.append(\"#000000\")"
   ]
  },
  {
   "cell_type": "code",
   "execution_count": 24,
   "metadata": {
    "collapsed": true
   },
   "outputs": [],
   "source": [
    "from sklearn.manifold import TSNE\n",
    "tsne = TSNE(n_components=2, random_state=0)\n",
    "words_top_ted_tsne = tsne.fit_transform(vectors_list)"
   ]
  },
  {
   "cell_type": "code",
   "execution_count": 26,
   "metadata": {
    "collapsed": false,
    "scrolled": true
   },
   "outputs": [
    {
     "data": {
      "text/html": [
       "\n",
       "    <div class=\"bk-root\">\n",
       "        <a href=\"http://bokeh.pydata.org\" target=\"_blank\" class=\"bk-logo bk-logo-small bk-logo-notebook\"></a>\n",
       "        <span id=\"95d0d20f-792f-4674-b79f-c4c93c865a6d\">Loading BokehJS ...</span>\n",
       "    </div>"
      ]
     },
     "metadata": {},
     "output_type": "display_data"
    },
    {
     "data": {
      "application/javascript": [
       "\n",
       "(function(global) {\n",
       "  function now() {\n",
       "    return new Date();\n",
       "  }\n",
       "\n",
       "  var force = true;\n",
       "\n",
       "  if (typeof (window._bokeh_onload_callbacks) === \"undefined\" || force === true) {\n",
       "    window._bokeh_onload_callbacks = [];\n",
       "    window._bokeh_is_loading = undefined;\n",
       "  }\n",
       "\n",
       "\n",
       "  \n",
       "  if (typeof (window._bokeh_timeout) === \"undefined\" || force === true) {\n",
       "    window._bokeh_timeout = Date.now() + 5000;\n",
       "    window._bokeh_failed_load = false;\n",
       "  }\n",
       "\n",
       "  var NB_LOAD_WARNING = {'data': {'text/html':\n",
       "     \"<div style='background-color: #fdd'>\\n\"+\n",
       "     \"<p>\\n\"+\n",
       "     \"BokehJS does not appear to have successfully loaded. If loading BokehJS from CDN, this \\n\"+\n",
       "     \"may be due to a slow or bad network connection. Possible fixes:\\n\"+\n",
       "     \"</p>\\n\"+\n",
       "     \"<ul>\\n\"+\n",
       "     \"<li>re-rerun `output_notebook()` to attempt to load from CDN again, or</li>\\n\"+\n",
       "     \"<li>use INLINE resources instead, as so:</li>\\n\"+\n",
       "     \"</ul>\\n\"+\n",
       "     \"<code>\\n\"+\n",
       "     \"from bokeh.resources import INLINE\\n\"+\n",
       "     \"output_notebook(resources=INLINE)\\n\"+\n",
       "     \"</code>\\n\"+\n",
       "     \"</div>\"}};\n",
       "\n",
       "  function display_loaded() {\n",
       "    if (window.Bokeh !== undefined) {\n",
       "      document.getElementById(\"95d0d20f-792f-4674-b79f-c4c93c865a6d\").textContent = \"BokehJS successfully loaded.\";\n",
       "    } else if (Date.now() < window._bokeh_timeout) {\n",
       "      setTimeout(display_loaded, 100)\n",
       "    }\n",
       "  }\n",
       "\n",
       "  function run_callbacks() {\n",
       "    window._bokeh_onload_callbacks.forEach(function(callback) { callback() });\n",
       "    delete window._bokeh_onload_callbacks\n",
       "    console.info(\"Bokeh: all callbacks have finished\");\n",
       "  }\n",
       "\n",
       "  function load_libs(js_urls, callback) {\n",
       "    window._bokeh_onload_callbacks.push(callback);\n",
       "    if (window._bokeh_is_loading > 0) {\n",
       "      console.log(\"Bokeh: BokehJS is being loaded, scheduling callback at\", now());\n",
       "      return null;\n",
       "    }\n",
       "    if (js_urls == null || js_urls.length === 0) {\n",
       "      run_callbacks();\n",
       "      return null;\n",
       "    }\n",
       "    console.log(\"Bokeh: BokehJS not loaded, scheduling load and callback at\", now());\n",
       "    window._bokeh_is_loading = js_urls.length;\n",
       "    for (var i = 0; i < js_urls.length; i++) {\n",
       "      var url = js_urls[i];\n",
       "      var s = document.createElement('script');\n",
       "      s.src = url;\n",
       "      s.async = false;\n",
       "      s.onreadystatechange = s.onload = function() {\n",
       "        window._bokeh_is_loading--;\n",
       "        if (window._bokeh_is_loading === 0) {\n",
       "          console.log(\"Bokeh: all BokehJS libraries loaded\");\n",
       "          run_callbacks()\n",
       "        }\n",
       "      };\n",
       "      s.onerror = function() {\n",
       "        console.warn(\"failed to load library \" + url);\n",
       "      };\n",
       "      console.log(\"Bokeh: injecting script tag for BokehJS library: \", url);\n",
       "      document.getElementsByTagName(\"head\")[0].appendChild(s);\n",
       "    }\n",
       "  };var element = document.getElementById(\"95d0d20f-792f-4674-b79f-c4c93c865a6d\");\n",
       "  if (element == null) {\n",
       "    console.log(\"Bokeh: ERROR: autoload.js configured with elementid '95d0d20f-792f-4674-b79f-c4c93c865a6d' but no matching script tag was found. \")\n",
       "    return false;\n",
       "  }\n",
       "\n",
       "  var js_urls = [\"https://cdn.pydata.org/bokeh/release/bokeh-0.12.4.min.js\", \"https://cdn.pydata.org/bokeh/release/bokeh-widgets-0.12.4.min.js\"];\n",
       "\n",
       "  var inline_js = [\n",
       "    function(Bokeh) {\n",
       "      Bokeh.set_log_level(\"info\");\n",
       "    },\n",
       "    \n",
       "    function(Bokeh) {\n",
       "      \n",
       "      document.getElementById(\"95d0d20f-792f-4674-b79f-c4c93c865a6d\").textContent = \"BokehJS is loading...\";\n",
       "    },\n",
       "    function(Bokeh) {\n",
       "      console.log(\"Bokeh: injecting CSS: https://cdn.pydata.org/bokeh/release/bokeh-0.12.4.min.css\");\n",
       "      Bokeh.embed.inject_css(\"https://cdn.pydata.org/bokeh/release/bokeh-0.12.4.min.css\");\n",
       "      console.log(\"Bokeh: injecting CSS: https://cdn.pydata.org/bokeh/release/bokeh-widgets-0.12.4.min.css\");\n",
       "      Bokeh.embed.inject_css(\"https://cdn.pydata.org/bokeh/release/bokeh-widgets-0.12.4.min.css\");\n",
       "    }\n",
       "  ];\n",
       "\n",
       "  function run_inline_js() {\n",
       "    \n",
       "    if ((window.Bokeh !== undefined) || (force === true)) {\n",
       "      for (var i = 0; i < inline_js.length; i++) {\n",
       "        inline_js[i](window.Bokeh);\n",
       "      }if (force === true) {\n",
       "        display_loaded();\n",
       "      }} else if (Date.now() < window._bokeh_timeout) {\n",
       "      setTimeout(run_inline_js, 100);\n",
       "    } else if (!window._bokeh_failed_load) {\n",
       "      console.log(\"Bokeh: BokehJS failed to load within specified timeout.\");\n",
       "      window._bokeh_failed_load = true;\n",
       "    } else if (force !== true) {\n",
       "      var cell = $(document.getElementById(\"95d0d20f-792f-4674-b79f-c4c93c865a6d\")).parents('.cell').data().cell;\n",
       "      cell.output_area.append_execute_result(NB_LOAD_WARNING)\n",
       "    }\n",
       "\n",
       "  }\n",
       "\n",
       "  if (window._bokeh_is_loading === 0) {\n",
       "    console.log(\"Bokeh: BokehJS loaded, going straight to plotting\");\n",
       "    run_inline_js();\n",
       "  } else {\n",
       "    load_libs(js_urls, function() {\n",
       "      console.log(\"Bokeh: BokehJS plotting callback run at\", now());\n",
       "      run_inline_js();\n",
       "    });\n",
       "  }\n",
       "}(this));"
      ]
     },
     "metadata": {},
     "output_type": "display_data"
    },
    {
     "name": "stderr",
     "output_type": "stream",
     "text": [
      "/Users/Michael-Tu/anaconda3/lib/python3.6/site-packages/bokeh/util/deprecation.py:34: BokehDeprecationWarning: \n",
      "Supplying a user-defined data source AND iterable values to glyph methods is deprecated.\n",
      "\n",
      "See https://github.com/bokeh/bokeh/issues/2056 for more information.\n",
      "\n",
      "  warn(message)\n",
      "/Users/Michael-Tu/anaconda3/lib/python3.6/site-packages/bokeh/util/deprecation.py:34: BokehDeprecationWarning: \n",
      "Supplying a user-defined data source AND iterable values to glyph methods is deprecated.\n",
      "\n",
      "See https://github.com/bokeh/bokeh/issues/2056 for more information.\n",
      "\n",
      "  warn(message)\n"
     ]
    },
    {
     "data": {
      "text/html": [
       "\n",
       "\n",
       "    <div class=\"bk-root\">\n",
       "        <div class=\"bk-plotdiv\" id=\"56935635-576e-4b65-a711-8fd719447b79\"></div>\n",
       "    </div>\n",
       "<script type=\"text/javascript\">\n",
       "  \n",
       "  (function(global) {\n",
       "    function now() {\n",
       "      return new Date();\n",
       "    }\n",
       "  \n",
       "    var force = false;\n",
       "  \n",
       "    if (typeof (window._bokeh_onload_callbacks) === \"undefined\" || force === true) {\n",
       "      window._bokeh_onload_callbacks = [];\n",
       "      window._bokeh_is_loading = undefined;\n",
       "    }\n",
       "  \n",
       "  \n",
       "    \n",
       "    if (typeof (window._bokeh_timeout) === \"undefined\" || force === true) {\n",
       "      window._bokeh_timeout = Date.now() + 0;\n",
       "      window._bokeh_failed_load = false;\n",
       "    }\n",
       "  \n",
       "    var NB_LOAD_WARNING = {'data': {'text/html':\n",
       "       \"<div style='background-color: #fdd'>\\n\"+\n",
       "       \"<p>\\n\"+\n",
       "       \"BokehJS does not appear to have successfully loaded. If loading BokehJS from CDN, this \\n\"+\n",
       "       \"may be due to a slow or bad network connection. Possible fixes:\\n\"+\n",
       "       \"</p>\\n\"+\n",
       "       \"<ul>\\n\"+\n",
       "       \"<li>re-rerun `output_notebook()` to attempt to load from CDN again, or</li>\\n\"+\n",
       "       \"<li>use INLINE resources instead, as so:</li>\\n\"+\n",
       "       \"</ul>\\n\"+\n",
       "       \"<code>\\n\"+\n",
       "       \"from bokeh.resources import INLINE\\n\"+\n",
       "       \"output_notebook(resources=INLINE)\\n\"+\n",
       "       \"</code>\\n\"+\n",
       "       \"</div>\"}};\n",
       "  \n",
       "    function display_loaded() {\n",
       "      if (window.Bokeh !== undefined) {\n",
       "        document.getElementById(\"56935635-576e-4b65-a711-8fd719447b79\").textContent = \"BokehJS successfully loaded.\";\n",
       "      } else if (Date.now() < window._bokeh_timeout) {\n",
       "        setTimeout(display_loaded, 100)\n",
       "      }\n",
       "    }\n",
       "  \n",
       "    function run_callbacks() {\n",
       "      window._bokeh_onload_callbacks.forEach(function(callback) { callback() });\n",
       "      delete window._bokeh_onload_callbacks\n",
       "      console.info(\"Bokeh: all callbacks have finished\");\n",
       "    }\n",
       "  \n",
       "    function load_libs(js_urls, callback) {\n",
       "      window._bokeh_onload_callbacks.push(callback);\n",
       "      if (window._bokeh_is_loading > 0) {\n",
       "        console.log(\"Bokeh: BokehJS is being loaded, scheduling callback at\", now());\n",
       "        return null;\n",
       "      }\n",
       "      if (js_urls == null || js_urls.length === 0) {\n",
       "        run_callbacks();\n",
       "        return null;\n",
       "      }\n",
       "      console.log(\"Bokeh: BokehJS not loaded, scheduling load and callback at\", now());\n",
       "      window._bokeh_is_loading = js_urls.length;\n",
       "      for (var i = 0; i < js_urls.length; i++) {\n",
       "        var url = js_urls[i];\n",
       "        var s = document.createElement('script');\n",
       "        s.src = url;\n",
       "        s.async = false;\n",
       "        s.onreadystatechange = s.onload = function() {\n",
       "          window._bokeh_is_loading--;\n",
       "          if (window._bokeh_is_loading === 0) {\n",
       "            console.log(\"Bokeh: all BokehJS libraries loaded\");\n",
       "            run_callbacks()\n",
       "          }\n",
       "        };\n",
       "        s.onerror = function() {\n",
       "          console.warn(\"failed to load library \" + url);\n",
       "        };\n",
       "        console.log(\"Bokeh: injecting script tag for BokehJS library: \", url);\n",
       "        document.getElementsByTagName(\"head\")[0].appendChild(s);\n",
       "      }\n",
       "    };var element = document.getElementById(\"56935635-576e-4b65-a711-8fd719447b79\");\n",
       "    if (element == null) {\n",
       "      console.log(\"Bokeh: ERROR: autoload.js configured with elementid '56935635-576e-4b65-a711-8fd719447b79' but no matching script tag was found. \")\n",
       "      return false;\n",
       "    }\n",
       "  \n",
       "    var js_urls = [];\n",
       "  \n",
       "    var inline_js = [\n",
       "      function(Bokeh) {\n",
       "        (function() {\n",
       "          var fn = function() {\n",
       "            var docs_json = {\"6357dce5-352f-4127-b0dd-d8c809235647\":{\"roots\":{\"references\":[{\"attributes\":{\"data_source\":{\"id\":\"d60395cd-1528-4fd1-ae1b-0673db392846\",\"type\":\"ColumnDataSource\"},\"glyph\":{\"id\":\"183b9770-9e93-459a-a72e-8c3fae359b8e\",\"type\":\"Circle\"},\"hover_glyph\":null,\"nonselection_glyph\":{\"id\":\"3703aee2-1c33-4eff-beda-c61f66c52d05\",\"type\":\"Circle\"},\"selection_glyph\":null},\"id\":\"ddbb3ffd-dbc0-4463-bbf6-a6786def07d6\",\"type\":\"GlyphRenderer\"},{\"attributes\":{\"fill_color\":{\"field\":\"fill_color\"},\"line_color\":{\"field\":\"line_color\"},\"size\":{\"units\":\"screen\",\"value\":8},\"x\":{\"field\":\"x1\"},\"y\":{\"field\":\"x2\"}},\"id\":\"183b9770-9e93-459a-a72e-8c3fae359b8e\",\"type\":\"Circle\"},{\"attributes\":{},\"id\":\"90399ade-d8db-41c7-a204-9f4ac2f30277\",\"type\":\"BasicTickFormatter\"},{\"attributes\":{},\"id\":\"d4e115ff-1baf-41c9-baf8-d715747568a8\",\"type\":\"BasicTickFormatter\"},{\"attributes\":{},\"id\":\"5daa12ba-7f57-43e1-99e0-c7f78bcef08f\",\"type\":\"ToolEvents\"},{\"attributes\":{\"fill_alpha\":{\"value\":0.1},\"fill_color\":{\"value\":\"#1f77b4\"},\"line_alpha\":{\"value\":0.1},\"line_color\":{\"value\":\"#1f77b4\"},\"size\":{\"units\":\"screen\",\"value\":8},\"x\":{\"field\":\"x1\"},\"y\":{\"field\":\"x2\"}},\"id\":\"3703aee2-1c33-4eff-beda-c61f66c52d05\",\"type\":\"Circle\"},{\"attributes\":{\"callback\":null},\"id\":\"00d28c61-d394-4ba5-bac6-16bddca80452\",\"type\":\"DataRange1d\"},{\"attributes\":{},\"id\":\"d25d2529-8ce0-4fa7-9548-19a6694eb26c\",\"type\":\"BasicTicker\"},{\"attributes\":{\"callback\":null},\"id\":\"c36d5599-d6bf-402e-929f-853cf3504962\",\"type\":\"DataRange1d\"},{\"attributes\":{\"active_drag\":\"auto\",\"active_scroll\":\"auto\",\"active_tap\":\"auto\",\"tools\":[{\"id\":\"a548d027-c1d4-47b6-a181-1b4323b1db29\",\"type\":\"PanTool\"},{\"id\":\"5adbb4b4-c7b1-42f3-bf1c-6c029c0d9d2e\",\"type\":\"WheelZoomTool\"},{\"id\":\"000624a2-040b-4008-95c8-6deb0ec9cda1\",\"type\":\"ResetTool\"},{\"id\":\"6e037712-07d5-4fde-bb7b-1888de4f71b5\",\"type\":\"SaveTool\"}]},\"id\":\"661138e6-bd4c-454e-83a6-517fc8f8d414\",\"type\":\"Toolbar\"},{\"attributes\":{\"plot\":{\"id\":\"255b3904-5ede-4473-a0dd-dff6a70210dc\",\"subtype\":\"Figure\",\"type\":\"Plot\"},\"ticker\":{\"id\":\"d25d2529-8ce0-4fa7-9548-19a6694eb26c\",\"type\":\"BasicTicker\"}},\"id\":\"84b41d49-1b8c-4d45-918c-958ada19919c\",\"type\":\"Grid\"},{\"attributes\":{\"formatter\":{\"id\":\"d4e115ff-1baf-41c9-baf8-d715747568a8\",\"type\":\"BasicTickFormatter\"},\"plot\":{\"id\":\"255b3904-5ede-4473-a0dd-dff6a70210dc\",\"subtype\":\"Figure\",\"type\":\"Plot\"},\"ticker\":{\"id\":\"60b08ea6-022d-4116-aad2-c2847d778744\",\"type\":\"BasicTicker\"}},\"id\":\"fbde6b31-0da8-4ce6-84c6-c090ef8a280b\",\"type\":\"LinearAxis\"},{\"attributes\":{},\"id\":\"60b08ea6-022d-4116-aad2-c2847d778744\",\"type\":\"BasicTicker\"},{\"attributes\":{\"dimension\":1,\"plot\":{\"id\":\"255b3904-5ede-4473-a0dd-dff6a70210dc\",\"subtype\":\"Figure\",\"type\":\"Plot\"},\"ticker\":{\"id\":\"60b08ea6-022d-4116-aad2-c2847d778744\",\"type\":\"BasicTicker\"}},\"id\":\"46a89b13-3b3f-41b6-9e8e-2b1f2ae121c7\",\"type\":\"Grid\"},{\"attributes\":{\"plot\":{\"id\":\"255b3904-5ede-4473-a0dd-dff6a70210dc\",\"subtype\":\"Figure\",\"type\":\"Plot\"}},\"id\":\"a548d027-c1d4-47b6-a181-1b4323b1db29\",\"type\":\"PanTool\"},{\"attributes\":{\"plot\":null,\"text\":\"vector T-SNE for most polarized words\"},\"id\":\"6adda3dc-b0b1-4d82-96ab-52d4aa3c4809\",\"type\":\"Title\"},{\"attributes\":{\"plot\":{\"id\":\"255b3904-5ede-4473-a0dd-dff6a70210dc\",\"subtype\":\"Figure\",\"type\":\"Plot\"},\"source\":{\"id\":\"d60395cd-1528-4fd1-ae1b-0673db392846\",\"type\":\"ColumnDataSource\"},\"text\":{\"field\":\"names\"},\"text_align\":\"center\",\"text_color\":{\"value\":\"#555555\"},\"text_font_size\":{\"value\":\"8pt\"},\"x\":{\"field\":\"x1\"},\"y\":{\"field\":\"x2\"},\"y_offset\":{\"value\":6}},\"id\":\"8c7fe729-ced8-48ee-87fb-2eed9b2dbdeb\",\"type\":\"LabelSet\"},{\"attributes\":{\"callback\":null,\"column_names\":[\"x1\",\"x2\",\"names\",\"fill_color\",\"line_color\"],\"data\":{\"fill_color\":[\"#00ff00\",\"#00ff00\",\"#00ff00\",\"#00ff00\",\"#00ff00\",\"#00ff00\",\"#00ff00\",\"#00ff00\",\"#00ff00\",\"#00ff00\",\"#00ff00\",\"#00ff00\",\"#00ff00\",\"#00ff00\",\"#00ff00\",\"#00ff00\",\"#00ff00\",\"#00ff00\",\"#00ff00\",\"#00ff00\",\"#00ff00\",\"#00ff00\",\"#00ff00\",\"#00ff00\",\"#00ff00\",\"#00ff00\",\"#00ff00\",\"#00ff00\",\"#00ff00\",\"#00ff00\",\"#00ff00\",\"#00ff00\",\"#00ff00\",\"#00ff00\",\"#00ff00\",\"#00ff00\",\"#00ff00\",\"#00ff00\",\"#00ff00\",\"#00ff00\",\"#00ff00\",\"#00ff00\",\"#00ff00\",\"#00ff00\",\"#00ff00\",\"#00ff00\",\"#00ff00\",\"#00ff00\",\"#00ff00\",\"#00ff00\",\"#00ff00\",\"#00ff00\",\"#00ff00\",\"#00ff00\",\"#00ff00\",\"#00ff00\",\"#00ff00\",\"#00ff00\",\"#00ff00\",\"#00ff00\",\"#00ff00\",\"#00ff00\",\"#00ff00\",\"#00ff00\",\"#00ff00\",\"#00ff00\",\"#00ff00\",\"#00ff00\",\"#00ff00\",\"#00ff00\",\"#00ff00\",\"#00ff00\",\"#00ff00\",\"#00ff00\",\"#00ff00\",\"#00ff00\",\"#00ff00\",\"#00ff00\",\"#00ff00\",\"#00ff00\",\"#00ff00\",\"#00ff00\",\"#00ff00\",\"#00ff00\",\"#00ff00\",\"#00ff00\",\"#00ff00\",\"#00ff00\",\"#00ff00\",\"#00ff00\",\"#00ff00\",\"#00ff00\",\"#00ff00\",\"#00ff00\",\"#00ff00\",\"#00ff00\",\"#00ff00\",\"#00ff00\",\"#00ff00\",\"#00ff00\",\"#00ff00\",\"#00ff00\",\"#00ff00\",\"#00ff00\",\"#00ff00\",\"#00ff00\",\"#00ff00\",\"#00ff00\",\"#00ff00\",\"#00ff00\",\"#00ff00\",\"#00ff00\",\"#00ff00\",\"#00ff00\",\"#00ff00\",\"#00ff00\",\"#00ff00\",\"#00ff00\",\"#00ff00\",\"#00ff00\",\"#00ff00\",\"#00ff00\",\"#00ff00\",\"#00ff00\",\"#00ff00\",\"#00ff00\",\"#00ff00\",\"#00ff00\",\"#00ff00\",\"#00ff00\",\"#00ff00\",\"#00ff00\",\"#00ff00\",\"#00ff00\",\"#00ff00\",\"#00ff00\",\"#00ff00\",\"#00ff00\",\"#00ff00\",\"#00ff00\",\"#00ff00\",\"#00ff00\",\"#00ff00\",\"#00ff00\",\"#00ff00\",\"#00ff00\",\"#00ff00\",\"#00ff00\",\"#00ff00\",\"#00ff00\",\"#00ff00\",\"#00ff00\",\"#00ff00\",\"#00ff00\",\"#00ff00\",\"#00ff00\",\"#00ff00\",\"#00ff00\",\"#00ff00\",\"#00ff00\",\"#00ff00\",\"#00ff00\",\"#00ff00\",\"#00ff00\",\"#00ff00\",\"#00ff00\",\"#00ff00\",\"#00ff00\",\"#00ff00\",\"#00ff00\",\"#00ff00\",\"#00ff00\",\"#00ff00\",\"#00ff00\",\"#00ff00\",\"#00ff00\",\"#00ff00\",\"#00ff00\",\"#00ff00\",\"#00ff00\",\"#00ff00\",\"#00ff00\",\"#00ff00\",\"#00ff00\",\"#00ff00\",\"#00ff00\",\"#00ff00\",\"#00ff00\",\"#00ff00\",\"#00ff00\",\"#00ff00\",\"#00ff00\",\"#00ff00\",\"#00ff00\",\"#00ff00\",\"#00ff00\",\"#00ff00\",\"#00ff00\",\"#00ff00\",\"#00ff00\",\"#00ff00\",\"#00ff00\",\"#00ff00\",\"#00ff00\",\"#00ff00\",\"#00ff00\",\"#00ff00\",\"#00ff00\",\"#00ff00\",\"#00ff00\",\"#00ff00\",\"#00ff00\",\"#00ff00\",\"#00ff00\",\"#00ff00\",\"#00ff00\",\"#00ff00\",\"#00ff00\",\"#00ff00\",\"#00ff00\",\"#00ff00\",\"#00ff00\",\"#00ff00\",\"#00ff00\",\"#00ff00\",\"#00ff00\",\"#00ff00\",\"#00ff00\",\"#00ff00\",\"#00ff00\",\"#00ff00\",\"#00ff00\",\"#00ff00\",\"#00ff00\",\"#00ff00\",\"#00ff00\",\"#00ff00\",\"#00ff00\",\"#00ff00\",\"#00ff00\",\"#00ff00\",\"#00ff00\",\"#00ff00\",\"#00ff00\",\"#00ff00\",\"#00ff00\",\"#00ff00\",\"#00ff00\",\"#00ff00\",\"#00ff00\",\"#00ff00\",\"#00ff00\",\"#00ff00\",\"#00ff00\",\"#00ff00\",\"#00ff00\",\"#00ff00\",\"#00ff00\",\"#00ff00\",\"#00ff00\",\"#00ff00\",\"#00ff00\",\"#00ff00\",\"#00ff00\",\"#00ff00\",\"#00ff00\",\"#00ff00\",\"#00ff00\",\"#00ff00\",\"#00ff00\",\"#00ff00\",\"#00ff00\",\"#00ff00\",\"#00ff00\",\"#00ff00\",\"#00ff00\",\"#00ff00\",\"#00ff00\",\"#00ff00\",\"#00ff00\",\"#00ff00\",\"#00ff00\",\"#00ff00\",\"#00ff00\",\"#00ff00\",\"#00ff00\",\"#00ff00\",\"#00ff00\",\"#00ff00\",\"#00ff00\",\"#00ff00\",\"#00ff00\",\"#00ff00\",\"#00ff00\",\"#00ff00\",\"#00ff00\",\"#00ff00\",\"#00ff00\",\"#00ff00\",\"#00ff00\",\"#00ff00\",\"#00ff00\",\"#00ff00\",\"#00ff00\",\"#00ff00\",\"#00ff00\",\"#00ff00\",\"#00ff00\",\"#00ff00\",\"#00ff00\",\"#00ff00\",\"#00ff00\",\"#00ff00\",\"#00ff00\",\"#00ff00\",\"#00ff00\",\"#00ff00\",\"#00ff00\",\"#00ff00\",\"#00ff00\",\"#00ff00\",\"#00ff00\",\"#00ff00\",\"#00ff00\",\"#00ff00\",\"#00ff00\",\"#00ff00\",\"#00ff00\",\"#00ff00\",\"#00ff00\",\"#00ff00\",\"#00ff00\",\"#00ff00\",\"#00ff00\",\"#00ff00\",\"#00ff00\",\"#00ff00\",\"#00ff00\",\"#00ff00\",\"#00ff00\",\"#00ff00\",\"#00ff00\",\"#00ff00\",\"#00ff00\",\"#00ff00\",\"#00ff00\",\"#00ff00\",\"#00ff00\",\"#00ff00\",\"#00ff00\",\"#00ff00\",\"#00ff00\",\"#00ff00\",\"#00ff00\",\"#00ff00\",\"#00ff00\",\"#00ff00\",\"#00ff00\",\"#00ff00\",\"#00ff00\",\"#00ff00\",\"#00ff00\",\"#00ff00\",\"#00ff00\",\"#00ff00\",\"#00ff00\",\"#00ff00\",\"#00ff00\",\"#00ff00\",\"#00ff00\",\"#00ff00\",\"#00ff00\",\"#00ff00\",\"#00ff00\",\"#00ff00\",\"#00ff00\",\"#00ff00\",\"#00ff00\",\"#00ff00\",\"#00ff00\",\"#00ff00\",\"#00ff00\",\"#00ff00\",\"#00ff00\",\"#00ff00\",\"#00ff00\",\"#00ff00\",\"#00ff00\",\"#00ff00\",\"#00ff00\",\"#00ff00\",\"#00ff00\",\"#00ff00\",\"#00ff00\",\"#00ff00\",\"#00ff00\",\"#00ff00\",\"#00ff00\",\"#00ff00\",\"#00ff00\",\"#00ff00\",\"#00ff00\",\"#00ff00\",\"#00ff00\",\"#00ff00\",\"#00ff00\",\"#00ff00\",\"#00ff00\",\"#00ff00\",\"#00ff00\",\"#00ff00\",\"#00ff00\",\"#00ff00\",\"#00ff00\",\"#00ff00\",\"#00ff00\",\"#00ff00\",\"#00ff00\",\"#00ff00\",\"#00ff00\",\"#00ff00\",\"#00ff00\",\"#00ff00\",\"#00ff00\",\"#00ff00\",\"#00ff00\",\"#00ff00\",\"#00ff00\",\"#00ff00\",\"#00ff00\",\"#00ff00\",\"#00ff00\",\"#00ff00\",\"#00ff00\",\"#00ff00\",\"#00ff00\",\"#00ff00\",\"#00ff00\",\"#00ff00\",\"#00ff00\",\"#00ff00\",\"#00ff00\",\"#00ff00\",\"#00ff00\",\"#00ff00\",\"#00ff00\",\"#00ff00\",\"#00ff00\",\"#00ff00\",\"#00ff00\",\"#00ff00\",\"#00ff00\",\"#00ff00\",\"#00ff00\",\"#00ff00\",\"#00ff00\",\"#00ff00\",\"#00ff00\",\"#00ff00\",\"#00ff00\",\"#00ff00\",\"#00ff00\",\"#00ff00\",\"#00ff00\",\"#00ff00\",\"#00ff00\",\"#00ff00\",\"#00ff00\",\"#00ff00\",\"#00ff00\",\"#00ff00\",\"#00ff00\",\"#00ff00\",\"#00ff00\",\"#00ff00\",\"#00ff00\",\"#00ff00\",\"#00ff00\",\"#00ff00\",\"#00ff00\",\"#00ff00\",\"#00ff00\",\"#00ff00\",\"#00ff00\",\"#00ff00\",\"#00ff00\",\"#00ff00\",\"#00ff00\",\"#00ff00\",\"#00ff00\",\"#00ff00\",\"#00ff00\",\"#00ff00\",\"#00ff00\",\"#00ff00\",\"#00ff00\",\"#00ff00\",\"#00ff00\",\"#00ff00\",\"#000000\",\"#000000\",\"#000000\",\"#000000\",\"#000000\",\"#000000\",\"#000000\",\"#000000\",\"#000000\",\"#000000\",\"#000000\",\"#000000\",\"#000000\",\"#000000\",\"#000000\",\"#000000\",\"#000000\",\"#000000\",\"#000000\",\"#000000\",\"#000000\",\"#000000\",\"#000000\",\"#000000\",\"#000000\",\"#000000\",\"#000000\",\"#000000\",\"#000000\",\"#000000\",\"#000000\",\"#000000\",\"#000000\",\"#000000\",\"#000000\",\"#000000\",\"#000000\",\"#000000\",\"#000000\",\"#000000\",\"#000000\",\"#000000\",\"#000000\",\"#000000\",\"#000000\",\"#000000\",\"#000000\",\"#000000\",\"#000000\",\"#000000\",\"#000000\",\"#000000\",\"#000000\",\"#000000\",\"#000000\",\"#000000\",\"#000000\",\"#000000\",\"#000000\",\"#000000\",\"#000000\",\"#000000\",\"#000000\",\"#000000\",\"#000000\",\"#000000\",\"#000000\",\"#000000\",\"#000000\",\"#000000\",\"#000000\",\"#000000\",\"#000000\",\"#000000\",\"#000000\",\"#000000\",\"#000000\",\"#000000\",\"#000000\",\"#000000\",\"#000000\",\"#000000\",\"#000000\",\"#000000\",\"#000000\",\"#000000\",\"#000000\",\"#000000\",\"#000000\",\"#000000\",\"#000000\",\"#000000\",\"#000000\",\"#000000\",\"#000000\",\"#000000\",\"#000000\",\"#000000\",\"#000000\",\"#000000\",\"#000000\",\"#000000\",\"#000000\",\"#000000\",\"#000000\",\"#000000\",\"#000000\",\"#000000\",\"#000000\",\"#000000\",\"#000000\",\"#000000\",\"#000000\",\"#000000\",\"#000000\",\"#000000\",\"#000000\",\"#000000\",\"#000000\",\"#000000\",\"#000000\",\"#000000\",\"#000000\",\"#000000\",\"#000000\",\"#000000\",\"#000000\",\"#000000\",\"#000000\",\"#000000\",\"#000000\",\"#000000\",\"#000000\",\"#000000\",\"#000000\",\"#000000\",\"#000000\",\"#000000\",\"#000000\",\"#000000\",\"#000000\",\"#000000\",\"#000000\",\"#000000\",\"#000000\",\"#000000\",\"#000000\",\"#000000\",\"#000000\",\"#000000\",\"#000000\",\"#000000\",\"#000000\",\"#000000\",\"#000000\",\"#000000\",\"#000000\",\"#000000\",\"#000000\",\"#000000\",\"#000000\",\"#000000\",\"#000000\",\"#000000\",\"#000000\",\"#000000\",\"#000000\",\"#000000\",\"#000000\",\"#000000\",\"#000000\",\"#000000\",\"#000000\",\"#000000\",\"#000000\",\"#000000\",\"#000000\",\"#000000\",\"#000000\",\"#000000\",\"#000000\",\"#000000\",\"#000000\",\"#000000\",\"#000000\",\"#000000\",\"#000000\",\"#000000\",\"#000000\",\"#000000\",\"#000000\",\"#000000\",\"#000000\",\"#000000\",\"#000000\",\"#000000\",\"#000000\",\"#000000\",\"#000000\",\"#000000\",\"#000000\",\"#000000\",\"#000000\",\"#000000\",\"#000000\",\"#000000\",\"#000000\",\"#000000\",\"#000000\",\"#000000\",\"#000000\",\"#000000\",\"#000000\",\"#000000\",\"#000000\",\"#000000\",\"#000000\",\"#000000\",\"#000000\",\"#000000\",\"#000000\",\"#000000\",\"#000000\",\"#000000\",\"#000000\",\"#000000\",\"#000000\",\"#000000\",\"#000000\",\"#000000\",\"#000000\",\"#000000\",\"#000000\",\"#000000\",\"#000000\",\"#000000\",\"#000000\",\"#000000\",\"#000000\",\"#000000\",\"#000000\",\"#000000\",\"#000000\",\"#000000\",\"#000000\",\"#000000\",\"#000000\",\"#000000\",\"#000000\",\"#000000\",\"#000000\",\"#000000\",\"#000000\",\"#000000\",\"#000000\",\"#000000\",\"#000000\",\"#000000\",\"#000000\",\"#000000\",\"#000000\",\"#000000\",\"#000000\",\"#000000\",\"#000000\",\"#000000\",\"#000000\",\"#000000\",\"#000000\",\"#000000\",\"#000000\",\"#000000\",\"#000000\",\"#000000\",\"#000000\",\"#000000\",\"#000000\",\"#000000\",\"#000000\",\"#000000\",\"#000000\",\"#000000\",\"#000000\",\"#000000\",\"#000000\",\"#000000\",\"#000000\",\"#000000\",\"#000000\",\"#000000\",\"#000000\",\"#000000\",\"#000000\",\"#000000\",\"#000000\",\"#000000\",\"#000000\",\"#000000\",\"#000000\",\"#000000\",\"#000000\",\"#000000\",\"#000000\",\"#000000\",\"#000000\",\"#000000\",\"#000000\",\"#000000\",\"#000000\",\"#000000\",\"#000000\",\"#000000\",\"#000000\",\"#000000\",\"#000000\",\"#000000\",\"#000000\",\"#000000\",\"#000000\",\"#000000\",\"#000000\",\"#000000\",\"#000000\",\"#000000\",\"#000000\",\"#000000\",\"#000000\",\"#000000\",\"#000000\",\"#000000\",\"#000000\",\"#000000\",\"#000000\",\"#000000\",\"#000000\",\"#000000\",\"#000000\",\"#000000\",\"#000000\",\"#000000\",\"#000000\",\"#000000\",\"#000000\",\"#000000\",\"#000000\",\"#000000\",\"#000000\",\"#000000\",\"#000000\",\"#000000\",\"#000000\",\"#000000\",\"#000000\",\"#000000\",\"#000000\",\"#000000\",\"#000000\",\"#000000\",\"#000000\",\"#000000\",\"#000000\",\"#000000\",\"#000000\",\"#000000\",\"#000000\",\"#000000\",\"#000000\",\"#000000\",\"#000000\",\"#000000\",\"#000000\",\"#000000\",\"#000000\",\"#000000\",\"#000000\",\"#000000\",\"#000000\",\"#000000\",\"#000000\",\"#000000\",\"#000000\",\"#000000\",\"#000000\",\"#000000\",\"#000000\",\"#000000\",\"#000000\",\"#000000\",\"#000000\",\"#000000\",\"#000000\",\"#000000\",\"#000000\",\"#000000\",\"#000000\",\"#000000\",\"#000000\",\"#000000\",\"#000000\",\"#000000\",\"#000000\",\"#000000\",\"#000000\",\"#000000\",\"#000000\",\"#000000\",\"#000000\",\"#000000\",\"#000000\",\"#000000\",\"#000000\",\"#000000\",\"#000000\",\"#000000\",\"#000000\",\"#000000\",\"#000000\",\"#000000\",\"#000000\",\"#000000\",\"#000000\",\"#000000\",\"#000000\",\"#000000\",\"#000000\",\"#000000\",\"#000000\",\"#000000\",\"#000000\",\"#000000\",\"#000000\",\"#000000\",\"#000000\",\"#000000\",\"#000000\",\"#000000\",\"#000000\",\"#000000\",\"#000000\",\"#000000\",\"#000000\",\"#000000\",\"#000000\",\"#000000\",\"#000000\",\"#000000\",\"#000000\",\"#000000\",\"#000000\",\"#000000\",\"#000000\",\"#000000\",\"#000000\",\"#000000\",\"#000000\",\"#000000\",\"#000000\",\"#000000\",\"#000000\",\"#000000\",\"#000000\",\"#000000\",\"#000000\",\"#000000\",\"#000000\",\"#000000\",\"#000000\",\"#000000\",\"#000000\",\"#000000\",\"#000000\",\"#000000\",\"#000000\",\"#000000\",\"#000000\",\"#000000\",\"#000000\",\"#000000\",\"#000000\",\"#000000\",\"#000000\",\"#000000\",\"#000000\",\"#000000\",\"#000000\",\"#000000\",\"#000000\",\"#000000\",\"#000000\",\"#000000\",\"#000000\",\"#000000\",\"#000000\",\"#000000\",\"#000000\",\"#000000\",\"#000000\",\"#000000\",\"#000000\",\"#000000\"],\"line_color\":[\"#00ff00\",\"#00ff00\",\"#00ff00\",\"#00ff00\",\"#00ff00\",\"#00ff00\",\"#00ff00\",\"#00ff00\",\"#00ff00\",\"#00ff00\",\"#00ff00\",\"#00ff00\",\"#00ff00\",\"#00ff00\",\"#00ff00\",\"#00ff00\",\"#00ff00\",\"#00ff00\",\"#00ff00\",\"#00ff00\",\"#00ff00\",\"#00ff00\",\"#00ff00\",\"#00ff00\",\"#00ff00\",\"#00ff00\",\"#00ff00\",\"#00ff00\",\"#00ff00\",\"#00ff00\",\"#00ff00\",\"#00ff00\",\"#00ff00\",\"#00ff00\",\"#00ff00\",\"#00ff00\",\"#00ff00\",\"#00ff00\",\"#00ff00\",\"#00ff00\",\"#00ff00\",\"#00ff00\",\"#00ff00\",\"#00ff00\",\"#00ff00\",\"#00ff00\",\"#00ff00\",\"#00ff00\",\"#00ff00\",\"#00ff00\",\"#00ff00\",\"#00ff00\",\"#00ff00\",\"#00ff00\",\"#00ff00\",\"#00ff00\",\"#00ff00\",\"#00ff00\",\"#00ff00\",\"#00ff00\",\"#00ff00\",\"#00ff00\",\"#00ff00\",\"#00ff00\",\"#00ff00\",\"#00ff00\",\"#00ff00\",\"#00ff00\",\"#00ff00\",\"#00ff00\",\"#00ff00\",\"#00ff00\",\"#00ff00\",\"#00ff00\",\"#00ff00\",\"#00ff00\",\"#00ff00\",\"#00ff00\",\"#00ff00\",\"#00ff00\",\"#00ff00\",\"#00ff00\",\"#00ff00\",\"#00ff00\",\"#00ff00\",\"#00ff00\",\"#00ff00\",\"#00ff00\",\"#00ff00\",\"#00ff00\",\"#00ff00\",\"#00ff00\",\"#00ff00\",\"#00ff00\",\"#00ff00\",\"#00ff00\",\"#00ff00\",\"#00ff00\",\"#00ff00\",\"#00ff00\",\"#00ff00\",\"#00ff00\",\"#00ff00\",\"#00ff00\",\"#00ff00\",\"#00ff00\",\"#00ff00\",\"#00ff00\",\"#00ff00\",\"#00ff00\",\"#00ff00\",\"#00ff00\",\"#00ff00\",\"#00ff00\",\"#00ff00\",\"#00ff00\",\"#00ff00\",\"#00ff00\",\"#00ff00\",\"#00ff00\",\"#00ff00\",\"#00ff00\",\"#00ff00\",\"#00ff00\",\"#00ff00\",\"#00ff00\",\"#00ff00\",\"#00ff00\",\"#00ff00\",\"#00ff00\",\"#00ff00\",\"#00ff00\",\"#00ff00\",\"#00ff00\",\"#00ff00\",\"#00ff00\",\"#00ff00\",\"#00ff00\",\"#00ff00\",\"#00ff00\",\"#00ff00\",\"#00ff00\",\"#00ff00\",\"#00ff00\",\"#00ff00\",\"#00ff00\",\"#00ff00\",\"#00ff00\",\"#00ff00\",\"#00ff00\",\"#00ff00\",\"#00ff00\",\"#00ff00\",\"#00ff00\",\"#00ff00\",\"#00ff00\",\"#00ff00\",\"#00ff00\",\"#00ff00\",\"#00ff00\",\"#00ff00\",\"#00ff00\",\"#00ff00\",\"#00ff00\",\"#00ff00\",\"#00ff00\",\"#00ff00\",\"#00ff00\",\"#00ff00\",\"#00ff00\",\"#00ff00\",\"#00ff00\",\"#00ff00\",\"#00ff00\",\"#00ff00\",\"#00ff00\",\"#00ff00\",\"#00ff00\",\"#00ff00\",\"#00ff00\",\"#00ff00\",\"#00ff00\",\"#00ff00\",\"#00ff00\",\"#00ff00\",\"#00ff00\",\"#00ff00\",\"#00ff00\",\"#00ff00\",\"#00ff00\",\"#00ff00\",\"#00ff00\",\"#00ff00\",\"#00ff00\",\"#00ff00\",\"#00ff00\",\"#00ff00\",\"#00ff00\",\"#00ff00\",\"#00ff00\",\"#00ff00\",\"#00ff00\",\"#00ff00\",\"#00ff00\",\"#00ff00\",\"#00ff00\",\"#00ff00\",\"#00ff00\",\"#00ff00\",\"#00ff00\",\"#00ff00\",\"#00ff00\",\"#00ff00\",\"#00ff00\",\"#00ff00\",\"#00ff00\",\"#00ff00\",\"#00ff00\",\"#00ff00\",\"#00ff00\",\"#00ff00\",\"#00ff00\",\"#00ff00\",\"#00ff00\",\"#00ff00\",\"#00ff00\",\"#00ff00\",\"#00ff00\",\"#00ff00\",\"#00ff00\",\"#00ff00\",\"#00ff00\",\"#00ff00\",\"#00ff00\",\"#00ff00\",\"#00ff00\",\"#00ff00\",\"#00ff00\",\"#00ff00\",\"#00ff00\",\"#00ff00\",\"#00ff00\",\"#00ff00\",\"#00ff00\",\"#00ff00\",\"#00ff00\",\"#00ff00\",\"#00ff00\",\"#00ff00\",\"#00ff00\",\"#00ff00\",\"#00ff00\",\"#00ff00\",\"#00ff00\",\"#00ff00\",\"#00ff00\",\"#00ff00\",\"#00ff00\",\"#00ff00\",\"#00ff00\",\"#00ff00\",\"#00ff00\",\"#00ff00\",\"#00ff00\",\"#00ff00\",\"#00ff00\",\"#00ff00\",\"#00ff00\",\"#00ff00\",\"#00ff00\",\"#00ff00\",\"#00ff00\",\"#00ff00\",\"#00ff00\",\"#00ff00\",\"#00ff00\",\"#00ff00\",\"#00ff00\",\"#00ff00\",\"#00ff00\",\"#00ff00\",\"#00ff00\",\"#00ff00\",\"#00ff00\",\"#00ff00\",\"#00ff00\",\"#00ff00\",\"#00ff00\",\"#00ff00\",\"#00ff00\",\"#00ff00\",\"#00ff00\",\"#00ff00\",\"#00ff00\",\"#00ff00\",\"#00ff00\",\"#00ff00\",\"#00ff00\",\"#00ff00\",\"#00ff00\",\"#00ff00\",\"#00ff00\",\"#00ff00\",\"#00ff00\",\"#00ff00\",\"#00ff00\",\"#00ff00\",\"#00ff00\",\"#00ff00\",\"#00ff00\",\"#00ff00\",\"#00ff00\",\"#00ff00\",\"#00ff00\",\"#00ff00\",\"#00ff00\",\"#00ff00\",\"#00ff00\",\"#00ff00\",\"#00ff00\",\"#00ff00\",\"#00ff00\",\"#00ff00\",\"#00ff00\",\"#00ff00\",\"#00ff00\",\"#00ff00\",\"#00ff00\",\"#00ff00\",\"#00ff00\",\"#00ff00\",\"#00ff00\",\"#00ff00\",\"#00ff00\",\"#00ff00\",\"#00ff00\",\"#00ff00\",\"#00ff00\",\"#00ff00\",\"#00ff00\",\"#00ff00\",\"#00ff00\",\"#00ff00\",\"#00ff00\",\"#00ff00\",\"#00ff00\",\"#00ff00\",\"#00ff00\",\"#00ff00\",\"#00ff00\",\"#00ff00\",\"#00ff00\",\"#00ff00\",\"#00ff00\",\"#00ff00\",\"#00ff00\",\"#00ff00\",\"#00ff00\",\"#00ff00\",\"#00ff00\",\"#00ff00\",\"#00ff00\",\"#00ff00\",\"#00ff00\",\"#00ff00\",\"#00ff00\",\"#00ff00\",\"#00ff00\",\"#00ff00\",\"#00ff00\",\"#00ff00\",\"#00ff00\",\"#00ff00\",\"#00ff00\",\"#00ff00\",\"#00ff00\",\"#00ff00\",\"#00ff00\",\"#00ff00\",\"#00ff00\",\"#00ff00\",\"#00ff00\",\"#00ff00\",\"#00ff00\",\"#00ff00\",\"#00ff00\",\"#00ff00\",\"#00ff00\",\"#00ff00\",\"#00ff00\",\"#00ff00\",\"#00ff00\",\"#00ff00\",\"#00ff00\",\"#00ff00\",\"#00ff00\",\"#00ff00\",\"#00ff00\",\"#00ff00\",\"#00ff00\",\"#00ff00\",\"#00ff00\",\"#00ff00\",\"#00ff00\",\"#00ff00\",\"#00ff00\",\"#00ff00\",\"#00ff00\",\"#00ff00\",\"#00ff00\",\"#00ff00\",\"#00ff00\",\"#00ff00\",\"#00ff00\",\"#00ff00\",\"#00ff00\",\"#00ff00\",\"#00ff00\",\"#00ff00\",\"#00ff00\",\"#00ff00\",\"#00ff00\",\"#00ff00\",\"#00ff00\",\"#00ff00\",\"#00ff00\",\"#00ff00\",\"#00ff00\",\"#00ff00\",\"#00ff00\",\"#00ff00\",\"#00ff00\",\"#00ff00\",\"#00ff00\",\"#00ff00\",\"#00ff00\",\"#00ff00\",\"#00ff00\",\"#00ff00\",\"#00ff00\",\"#00ff00\",\"#00ff00\",\"#00ff00\",\"#00ff00\",\"#00ff00\",\"#00ff00\",\"#00ff00\",\"#00ff00\",\"#00ff00\",\"#00ff00\",\"#00ff00\",\"#00ff00\",\"#00ff00\",\"#00ff00\",\"#00ff00\",\"#00ff00\",\"#00ff00\",\"#00ff00\",\"#00ff00\",\"#00ff00\",\"#00ff00\",\"#00ff00\",\"#00ff00\",\"#00ff00\",\"#00ff00\",\"#00ff00\",\"#00ff00\",\"#00ff00\",\"#00ff00\",\"#00ff00\",\"#00ff00\",\"#00ff00\",\"#00ff00\",\"#00ff00\",\"#00ff00\",\"#00ff00\",\"#00ff00\",\"#00ff00\",\"#00ff00\",\"#00ff00\",\"#00ff00\",\"#00ff00\",\"#00ff00\",\"#00ff00\",\"#00ff00\",\"#00ff00\",\"#00ff00\",\"#00ff00\",\"#00ff00\",\"#00ff00\",\"#00ff00\",\"#00ff00\",\"#00ff00\",\"#00ff00\",\"#00ff00\",\"#00ff00\",\"#00ff00\",\"#00ff00\",\"#00ff00\",\"#000000\",\"#000000\",\"#000000\",\"#000000\",\"#000000\",\"#000000\",\"#000000\",\"#000000\",\"#000000\",\"#000000\",\"#000000\",\"#000000\",\"#000000\",\"#000000\",\"#000000\",\"#000000\",\"#000000\",\"#000000\",\"#000000\",\"#000000\",\"#000000\",\"#000000\",\"#000000\",\"#000000\",\"#000000\",\"#000000\",\"#000000\",\"#000000\",\"#000000\",\"#000000\",\"#000000\",\"#000000\",\"#000000\",\"#000000\",\"#000000\",\"#000000\",\"#000000\",\"#000000\",\"#000000\",\"#000000\",\"#000000\",\"#000000\",\"#000000\",\"#000000\",\"#000000\",\"#000000\",\"#000000\",\"#000000\",\"#000000\",\"#000000\",\"#000000\",\"#000000\",\"#000000\",\"#000000\",\"#000000\",\"#000000\",\"#000000\",\"#000000\",\"#000000\",\"#000000\",\"#000000\",\"#000000\",\"#000000\",\"#000000\",\"#000000\",\"#000000\",\"#000000\",\"#000000\",\"#000000\",\"#000000\",\"#000000\",\"#000000\",\"#000000\",\"#000000\",\"#000000\",\"#000000\",\"#000000\",\"#000000\",\"#000000\",\"#000000\",\"#000000\",\"#000000\",\"#000000\",\"#000000\",\"#000000\",\"#000000\",\"#000000\",\"#000000\",\"#000000\",\"#000000\",\"#000000\",\"#000000\",\"#000000\",\"#000000\",\"#000000\",\"#000000\",\"#000000\",\"#000000\",\"#000000\",\"#000000\",\"#000000\",\"#000000\",\"#000000\",\"#000000\",\"#000000\",\"#000000\",\"#000000\",\"#000000\",\"#000000\",\"#000000\",\"#000000\",\"#000000\",\"#000000\",\"#000000\",\"#000000\",\"#000000\",\"#000000\",\"#000000\",\"#000000\",\"#000000\",\"#000000\",\"#000000\",\"#000000\",\"#000000\",\"#000000\",\"#000000\",\"#000000\",\"#000000\",\"#000000\",\"#000000\",\"#000000\",\"#000000\",\"#000000\",\"#000000\",\"#000000\",\"#000000\",\"#000000\",\"#000000\",\"#000000\",\"#000000\",\"#000000\",\"#000000\",\"#000000\",\"#000000\",\"#000000\",\"#000000\",\"#000000\",\"#000000\",\"#000000\",\"#000000\",\"#000000\",\"#000000\",\"#000000\",\"#000000\",\"#000000\",\"#000000\",\"#000000\",\"#000000\",\"#000000\",\"#000000\",\"#000000\",\"#000000\",\"#000000\",\"#000000\",\"#000000\",\"#000000\",\"#000000\",\"#000000\",\"#000000\",\"#000000\",\"#000000\",\"#000000\",\"#000000\",\"#000000\",\"#000000\",\"#000000\",\"#000000\",\"#000000\",\"#000000\",\"#000000\",\"#000000\",\"#000000\",\"#000000\",\"#000000\",\"#000000\",\"#000000\",\"#000000\",\"#000000\",\"#000000\",\"#000000\",\"#000000\",\"#000000\",\"#000000\",\"#000000\",\"#000000\",\"#000000\",\"#000000\",\"#000000\",\"#000000\",\"#000000\",\"#000000\",\"#000000\",\"#000000\",\"#000000\",\"#000000\",\"#000000\",\"#000000\",\"#000000\",\"#000000\",\"#000000\",\"#000000\",\"#000000\",\"#000000\",\"#000000\",\"#000000\",\"#000000\",\"#000000\",\"#000000\",\"#000000\",\"#000000\",\"#000000\",\"#000000\",\"#000000\",\"#000000\",\"#000000\",\"#000000\",\"#000000\",\"#000000\",\"#000000\",\"#000000\",\"#000000\",\"#000000\",\"#000000\",\"#000000\",\"#000000\",\"#000000\",\"#000000\",\"#000000\",\"#000000\",\"#000000\",\"#000000\",\"#000000\",\"#000000\",\"#000000\",\"#000000\",\"#000000\",\"#000000\",\"#000000\",\"#000000\",\"#000000\",\"#000000\",\"#000000\",\"#000000\",\"#000000\",\"#000000\",\"#000000\",\"#000000\",\"#000000\",\"#000000\",\"#000000\",\"#000000\",\"#000000\",\"#000000\",\"#000000\",\"#000000\",\"#000000\",\"#000000\",\"#000000\",\"#000000\",\"#000000\",\"#000000\",\"#000000\",\"#000000\",\"#000000\",\"#000000\",\"#000000\",\"#000000\",\"#000000\",\"#000000\",\"#000000\",\"#000000\",\"#000000\",\"#000000\",\"#000000\",\"#000000\",\"#000000\",\"#000000\",\"#000000\",\"#000000\",\"#000000\",\"#000000\",\"#000000\",\"#000000\",\"#000000\",\"#000000\",\"#000000\",\"#000000\",\"#000000\",\"#000000\",\"#000000\",\"#000000\",\"#000000\",\"#000000\",\"#000000\",\"#000000\",\"#000000\",\"#000000\",\"#000000\",\"#000000\",\"#000000\",\"#000000\",\"#000000\",\"#000000\",\"#000000\",\"#000000\",\"#000000\",\"#000000\",\"#000000\",\"#000000\",\"#000000\",\"#000000\",\"#000000\",\"#000000\",\"#000000\",\"#000000\",\"#000000\",\"#000000\",\"#000000\",\"#000000\",\"#000000\",\"#000000\",\"#000000\",\"#000000\",\"#000000\",\"#000000\",\"#000000\",\"#000000\",\"#000000\",\"#000000\",\"#000000\",\"#000000\",\"#000000\",\"#000000\",\"#000000\",\"#000000\",\"#000000\",\"#000000\",\"#000000\",\"#000000\",\"#000000\",\"#000000\",\"#000000\",\"#000000\",\"#000000\",\"#000000\",\"#000000\",\"#000000\",\"#000000\",\"#000000\",\"#000000\",\"#000000\",\"#000000\",\"#000000\",\"#000000\",\"#000000\",\"#000000\",\"#000000\",\"#000000\",\"#000000\",\"#000000\",\"#000000\",\"#000000\",\"#000000\",\"#000000\",\"#000000\",\"#000000\",\"#000000\",\"#000000\",\"#000000\",\"#000000\",\"#000000\",\"#000000\",\"#000000\",\"#000000\",\"#000000\",\"#000000\",\"#000000\",\"#000000\",\"#000000\",\"#000000\",\"#000000\",\"#000000\",\"#000000\",\"#000000\",\"#000000\",\"#000000\",\"#000000\",\"#000000\",\"#000000\",\"#000000\",\"#000000\",\"#000000\",\"#000000\",\"#000000\",\"#000000\",\"#000000\",\"#000000\",\"#000000\",\"#000000\",\"#000000\",\"#000000\",\"#000000\",\"#000000\",\"#000000\",\"#000000\",\"#000000\",\"#000000\",\"#000000\",\"#000000\",\"#000000\",\"#000000\",\"#000000\",\"#000000\",\"#000000\",\"#000000\",\"#000000\",\"#000000\",\"#000000\",\"#000000\",\"#000000\",\"#000000\",\"#000000\",\"#000000\",\"#000000\",\"#000000\",\"#000000\",\"#000000\",\"#000000\",\"#000000\",\"#000000\",\"#000000\",\"#000000\",\"#000000\",\"#000000\",\"#000000\",\"#000000\",\"#000000\",\"#000000\",\"#000000\",\"#000000\",\"#000000\",\"#000000\",\"#000000\",\"#000000\",\"#000000\",\"#000000\",\"#000000\",\"#000000\",\"#000000\",\"#000000\",\"#000000\",\"#000000\",\"#000000\",\"#000000\",\"#000000\",\"#000000\",\"#000000\",\"#000000\",\"#000000\",\"#000000\",\"#000000\",\"#000000\",\"#000000\",\"#000000\",\"#000000\",\"#000000\",\"#000000\",\"#000000\",\"#000000\",\"#000000\",\"#000000\",\"#000000\",\"#000000\",\"#000000\",\"#000000\",\"#000000\",\"#000000\",\"#000000\",\"#000000\",\"#000000\",\"#000000\",\"#000000\",\"#000000\",\"#000000\",\"#000000\",\"#000000\",\"#000000\",\"#000000\",\"#000000\",\"#000000\"],\"names\":[\"edie\",\"antwone\",\"din\",\"gunga\",\"goldsworthy\",\"gypo\",\"paulie\",\"visconti\",\"flavia\",\"gundam\",\"iturbi\",\"felix\",\"capote\",\"fido\",\"excellently\",\"vance\",\"kolchak\",\"deanna\",\"hayworth\",\"sammo\",\"biko\",\"sox\",\"laputa\",\"polanski\",\"alvin\",\"matthau\",\"mathieu\",\"gilliam\",\"victoria\",\"chavez\",\"ratso\",\"harriet\",\"mildred\",\"ultimatum\",\"mclaglen\",\"corbett\",\"gandhi\",\"delightfully\",\"sirk\",\"creasy\",\"braveheart\",\"kazan\",\"vonnegut\",\"mccoy\",\"flawless\",\"othello\",\"novak\",\"christy\",\"cheadle\",\"fuller\",\"ramones\",\"cal\",\"winchester\",\"chamberlain\",\"rea\",\"haines\",\"colman\",\"carla\",\"sabrina\",\"superbly\",\"peters\",\"northam\",\"tenant\",\"stardust\",\"kinnear\",\"raines\",\"georges\",\"perfection\",\"rukh\",\"astaire\",\"dixon\",\"trier\",\"miyazaki\",\"malone\",\"mol\",\"captures\",\"edith\",\"scoop\",\"pickford\",\"voight\",\"wonderfully\",\"zorro\",\"dandy\",\"heartbreaking\",\"powell\",\"wang\",\"brosnan\",\"masterful\",\"hawke\",\"truman\",\"sg\",\"masterson\",\"sunrise\",\"lily\",\"expertly\",\"bakshi\",\"lincoln\",\"europa\",\"darren\",\"tomei\",\"cypher\",\"greene\",\"carell\",\"refreshing\",\"montana\",\"pegg\",\"breathtaking\",\"bourne\",\"lemmon\",\"walsh\",\"explores\",\"steele\",\"delightful\",\"flynn\",\"chess\",\"andrews\",\"homer\",\"beautifully\",\"soccer\",\"ira\",\"deliciously\",\"lumet\",\"affection\",\"elvira\",\"kidman\",\"underrated\",\"sopranos\",\"gripping\",\"superb\",\"nina\",\"paula\",\"deliverance\",\"determination\",\"tierney\",\"delight\",\"welles\",\"reeve\",\"sadness\",\"technicolor\",\"ae\",\"soylent\",\"kline\",\"sinatra\",\"touching\",\"gershwin\",\"timeless\",\"macy\",\"unforgettable\",\"favorites\",\"stewart\",\"sullivan\",\"extraordinary\",\"hartley\",\"grayson\",\"kurosawa\",\"brilliantly\",\"clara\",\"liu\",\"einstein\",\"dustin\",\"iran\",\"shanghai\",\"mesmerizing\",\"friendship\",\"wonderful\",\"heartwarming\",\"palma\",\"watson\",\"wrenching\",\"fairbanks\",\"magnificent\",\"finest\",\"understated\",\"jackie\",\"ritter\",\"simmons\",\"election\",\"delirious\",\"johansson\",\"lang\",\"rowlands\",\"tremendous\",\"conveys\",\"nathan\",\"buffalo\",\"scrooge\",\"freedom\",\"fantastic\",\"elliott\",\"terrific\",\"spock\",\"noir\",\"sidney\",\"loy\",\"outstanding\",\"pleasantly\",\"mann\",\"nancy\",\"heartfelt\",\"marie\",\"hyde\",\"marvelous\",\"odyssey\",\"astonishing\",\"andre\",\"stack\",\"excellent\",\"delicate\",\"ruth\",\"sondra\",\"kitty\",\"sidewalk\",\"absorbing\",\"longing\",\"cunningham\",\"stargate\",\"jedi\",\"stanwyck\",\"sassy\",\"fontaine\",\"macarthur\",\"widmark\",\"soprano\",\"jose\",\"hadley\",\"splendid\",\"detract\",\"layers\",\"chan\",\"exceptional\",\"stark\",\"tender\",\"iranian\",\"demille\",\"jacques\",\"gielgud\",\"gentle\",\"definitive\",\"denis\",\"poignant\",\"ruby\",\"gem\",\"amazing\",\"chilling\",\"fisher\",\"davies\",\"captivating\",\"dickens\",\"elegant\",\"sentinel\",\"cerebral\",\"restrained\",\"darker\",\"pathos\",\"gerard\",\"april\",\"pixar\",\"kelly\",\"rewarding\",\"blake\",\"uplifting\",\"neglected\",\"overlooked\",\"ralph\",\"standout\",\"stunningly\",\"amrita\",\"juliette\",\"vanilla\",\"cushing\",\"bette\",\"fleet\",\"hoffman\",\"gentleman\",\"cole\",\"marc\",\"delicious\",\"shines\",\"powerful\",\"dalton\",\"swim\",\"bud\",\"thelma\",\"notch\",\"richardson\",\"errol\",\"engrossing\",\"enchanted\",\"reiser\",\"remarkable\",\"preminger\",\"pitt\",\"winters\",\"neill\",\"vivid\",\"gritty\",\"giallo\",\"portrait\",\"innocence\",\"psychiatrist\",\"favorite\",\"ensemble\",\"riveting\",\"stunning\",\"loneliness\",\"orleans\",\"burns\",\"cleverly\",\"garbo\",\"barbara\",\"philip\",\"panic\",\"holly\",\"scariest\",\"sailor\",\"pfeiffer\",\"carol\",\"perfect\",\"appreciated\",\"september\",\"divine\",\"frontier\",\"favourite\",\"journey\",\"rural\",\"bond\",\"strengths\",\"builds\",\"brilliant\",\"brooklyn\",\"paxton\",\"von\",\"alison\",\"alexandre\",\"recommended\",\"unfolds\",\"sissy\",\"pierce\",\"rookie\",\"energetic\",\"vividly\",\"accessible\",\"bacall\",\"rifle\",\"neatly\",\"daniel\",\"coup\",\"perfectly\",\"crafted\",\"cultures\",\"lavish\",\"vega\",\"prince\",\"troubled\",\"devastating\",\"posey\",\"consequences\",\"bsg\",\"rita\",\"haunting\",\"cinderella\",\"anton\",\"maureen\",\"sterling\",\"alexander\",\"emotions\",\"viewings\",\"reflects\",\"boxing\",\"subtle\",\"phenomenal\",\"cuban\",\"reign\",\"kyle\",\"sublime\",\"berkeley\",\"solo\",\"curtis\",\"championship\",\"ustinov\",\"masterfully\",\"bravo\",\"rare\",\"loved\",\"daughters\",\"ladder\",\"karl\",\"beckinsale\",\"marion\",\"courage\",\"depicts\",\"dentist\",\"highly\",\"nominated\",\"tony\",\"clan\",\"paramount\",\"draws\",\"everyday\",\"contrast\",\"lends\",\"aftermath\",\"unusually\",\"cried\",\"fabulous\",\"ned\",\"fay\",\"mice\",\"exquisite\",\"emma\",\"loretta\",\"globe\",\"vibrant\",\"loyalty\",\"damon\",\"sensitive\",\"orson\",\"corruption\",\"smooth\",\"dramas\",\"today\",\"helps\",\"inspiring\",\"shelley\",\"simplicity\",\"newman\",\"realities\",\"irene\",\"lola\",\"caron\",\"herbert\",\"manners\",\"jimmy\",\"awesome\",\"unique\",\"tragic\",\"intense\",\"stellar\",\"thoughtful\",\"june\",\"warmth\",\"tends\",\"deniro\",\"rival\",\"wwe\",\"beatles\",\"vader\",\"provides\",\"depression\",\"shy\",\"dazzling\",\"contribution\",\"carrie\",\"isolation\",\"packs\",\"blend\",\"arkin\",\"owl\",\"hank\",\"diana\",\"adorable\",\"playwright\",\"unexpected\",\"affect\",\"intimate\",\"poem\",\"achievement\",\"bettie\",\"happiness\",\"renaissance\",\"glorious\",\"prominent\",\"rounded\",\"mitch\",\"fishburne\",\"dub\",\"macabre\",\"davis\",\"vintage\",\"terrifying\",\"beauty\",\"psyche\",\"ideal\",\"esther\",\"fears\",\"lena\",\"wilder\",\"hong\",\"seasons\",\"fascinating\",\"carries\",\"enhanced\",\"palance\",\"sandra\",\"satisfying\",\"definite\",\"touched\",\"laurence\",\"collette\",\"boll\",\"uwe\",\"thunderbirds\",\"beowulf\",\"dahmer\",\"wayans\",\"seagal\",\"gamera\",\"dreck\",\"unwatchable\",\"stinker\",\"mst\",\"incoherent\",\"flimsy\",\"dillinger\",\"yawn\",\"unfunny\",\"ugh\",\"turd\",\"waste\",\"blah\",\"slugs\",\"tripe\",\"wtf\",\"horrid\",\"pointless\",\"atrocious\",\"damme\",\"redeeming\",\"prom\",\"baldwin\",\"drivel\",\"arquette\",\"lousy\",\"worst\",\"laughable\",\"awful\",\"poorly\",\"unimaginative\",\"wasting\",\"remotely\",\"camcorder\",\"excruciatingly\",\"nope\",\"chiba\",\"unoriginal\",\"unlikeable\",\"insipid\",\"existent\",\"embarrassingly\",\"embarrassment\",\"ariel\",\"rangers\",\"crocodile\",\"omen\",\"stink\",\"cannibal\",\"lundgren\",\"boredom\",\"miserably\",\"sucks\",\"quantum\",\"uninspired\",\"lame\",\"abysmal\",\"insult\",\"godzilla\",\"dumber\",\"snakes\",\"incompetent\",\"inane\",\"uninteresting\",\"gadget\",\"tooth\",\"appalling\",\"hooper\",\"unconvincing\",\"unintentional\",\"horrible\",\"amateurish\",\"pathetic\",\"idiotic\",\"timberlake\",\"porno\",\"dumbest\",\"stupidity\",\"snipes\",\"werewolves\",\"carlito\",\"cardboard\",\"wasted\",\"wretched\",\"whiny\",\"crap\",\"insulting\",\"dukes\",\"tedious\",\"hackman\",\"moronic\",\"dreadful\",\"madsen\",\"dire\",\"anil\",\"badly\",\"suck\",\"worse\",\"terrible\",\"excruciating\",\"lifeless\",\"hostel\",\"funding\",\"tomb\",\"embarrassing\",\"naschy\",\"mess\",\"pitiful\",\"garbage\",\"laughably\",\"springer\",\"shoddy\",\"pile\",\"stupid\",\"claus\",\"tolerable\",\"headache\",\"mutant\",\"barrel\",\"ashamed\",\"vampires\",\"worthless\",\"vomit\",\"severed\",\"filth\",\"tomatoes\",\"numbing\",\"arty\",\"dull\",\"inept\",\"avoid\",\"melody\",\"wooden\",\"stinks\",\"forgettable\",\"downhill\",\"horny\",\"fulci\",\"abortion\",\"plodding\",\"crappy\",\"missile\",\"bat\",\"incomprehensible\",\"serum\",\"morons\",\"unbelievably\",\"dinosaur\",\"whatsoever\",\"nonsensical\",\"excuse\",\"rubbish\",\"ridiculous\",\"muddled\",\"hackneyed\",\"junk\",\"flop\",\"boring\",\"turkey\",\"shark\",\"topless\",\"hulk\",\"feeble\",\"cliched\",\"ridiculously\",\"useless\",\"seed\",\"rubber\",\"ripped\",\"lackluster\",\"simpson\",\"motions\",\"embarrassed\",\"karate\",\"moron\",\"rambo\",\"tiresome\",\"costs\",\"stabbed\",\"hideous\",\"horrendous\",\"bikini\",\"inaccurate\",\"scifi\",\"bother\",\"dumb\",\"disjointed\",\"plastic\",\"horribly\",\"fest\",\"brainless\",\"tossed\",\"spit\",\"inexplicably\",\"ludicrous\",\"inappropriate\",\"unintentionally\",\"sht\",\"olds\",\"tasteless\",\"sellers\",\"obnoxious\",\"mildly\",\"bland\",\"mummy\",\"travesty\",\"annoying\",\"basket\",\"amateur\",\"christians\",\"bad\",\"dinosaurs\",\"inconsistent\",\"unless\",\"fails\",\"conveniently\",\"mediocre\",\"awake\",\"clichd\",\"clich\",\"meaningless\",\"meyer\",\"disappointment\",\"zombies\",\"promptly\",\"asleep\",\"mormon\",\"redeem\",\"spacey\",\"skull\",\"miscast\",\"irritating\",\"brat\",\"utter\",\"overacting\",\"disappointing\",\"corpses\",\"meandering\",\"rave\",\"screaming\",\"supposed\",\"pedestrian\",\"sickening\",\"kidding\",\"lampoon\",\"ta\",\"poor\",\"apes\",\"illogical\",\"unbelievable\",\"troma\",\"chopped\",\"surgery\",\"choppy\",\"randomly\",\"fake\",\"uh\",\"indulgent\",\"scarecrow\",\"dude\",\"dracula\",\"ham\",\"preposterous\",\"affleck\",\"joke\",\"clumsy\",\"random\",\"cheap\",\"consist\",\"steer\",\"naughty\",\"hopelessly\",\"idiots\",\"basinger\",\"devoid\",\"trite\",\"wannabe\",\"wander\",\"puerto\",\"derivative\",\"unbearable\",\"alright\",\"screw\",\"aiming\",\"redundant\",\"alleged\",\"pretentious\",\"scooby\",\"asylum\",\"sucked\",\"disgrace\",\"senseless\",\"bo\",\"dreary\",\"hack\",\"bin\",\"coherent\",\"idiot\",\"toilet\",\"doo\",\"repulsive\",\"werewolf\",\"cabin\",\"generous\",\"offensive\",\"monkey\",\"painfully\",\"unsympathetic\",\"renting\",\"tara\",\"lazy\",\"attract\",\"disgusting\",\"blame\",\"prequel\",\"chicks\",\"walked\",\"seconds\",\"wastes\",\"generic\",\"cheese\",\"bachchan\",\"sloppy\",\"demonic\",\"shouting\",\"mins\",\"huh\",\"artsy\",\"retarded\",\"nerd\",\"lowest\",\"trash\",\"coffin\",\"insomnia\",\"dragons\",\"salman\",\"blatantly\",\"dud\",\"rats\",\"jaws\",\"shelf\",\"ugly\",\"oh\",\"slightest\",\"puppets\",\"gimmick\",\"explanation\",\"excuses\",\"robbers\",\"cow\",\"boom\",\"failed\",\"cringe\",\"physics\",\"bitten\",\"clueless\",\"blatant\",\"token\",\"clue\",\"bored\",\"parsons\",\"cheated\",\"cgi\",\"sat\",\"awfully\",\"paid\",\"unlikable\",\"warn\",\"fooled\",\"rotten\",\"painful\",\"yep\",\"subjected\",\"cue\",\"nowhere\",\"wandering\",\"bore\",\"absurd\",\"overlong\",\"flies\",\"paint\",\"porn\",\"paper\",\"predictable\",\"bargain\",\"ninja\",\"pseudo\",\"repetitive\",\"bashing\",\"stranded\",\"dismal\",\"outer\",\"brain\",\"sorry\",\"harold\",\"vampire\",\"ignorant\",\"motivation\",\"unrealistic\",\"sentences\",\"shaggy\",\"kidnap\",\"cody\",\"scripting\",\"exposition\",\"wrestling\",\"overrated\",\"aliens\",\"halfway\",\"save\",\"santa\",\"mall\",\"security\",\"contrived\",\"freaking\",\"btw\",\"sums\",\"lacks\",\"whale\",\"gore\",\"bunch\",\"hype\",\"murky\",\"flat\",\"noise\",\"below\",\"messing\",\"clone\",\"plain\",\"spending\",\"bothered\",\"mute\",\"annoyed\",\"sounded\",\"honestly\",\"lance\",\"dolph\",\"minutes\",\"murray\",\"contempt\",\"wreck\",\"lesbian\",\"chick\",\"phony\",\"dollar\",\"min\",\"f\",\"secondly\",\"wanna\",\"remove\",\"messy\",\"stale\",\"carradine\",\"rat\",\"errors\",\"shallow\",\"assuming\",\"misleading\",\"synopsis\",\"breasts\",\"gray\",\"splatter\",\"stilted\",\"chest\",\"yeah\",\"indication\",\"filler\",\"clay\",\"nonsense\",\"originals\",\"daylight\",\"button\",\"unnecessary\",\"swear\",\"grave\",\"ruined\",\"somebody\",\"yelling\",\"elvis\",\"mindless\",\"orange\",\"irrelevant\",\"mouths\",\"commits\",\"terribly\",\"continuity\",\"hoping\",\"ha\",\"nudity\",\"endless\",\"chased\",\"revolt\"],\"x1\":{\"__ndarray__\":\"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\",\"dtype\":\"float64\",\"shape\":[999]},\"x2\":{\"__ndarray__\":\"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\",\"dtype\":\"float64\",\"shape\":[999]}}},\"id\":\"d60395cd-1528-4fd1-ae1b-0673db392846\",\"type\":\"ColumnDataSource\"},{\"attributes\":{\"below\":[{\"id\":\"5ffebdef-b0c4-4009-a645-77fa69b8a7dd\",\"type\":\"LinearAxis\"}],\"left\":[{\"id\":\"fbde6b31-0da8-4ce6-84c6-c090ef8a280b\",\"type\":\"LinearAxis\"}],\"renderers\":[{\"id\":\"5ffebdef-b0c4-4009-a645-77fa69b8a7dd\",\"type\":\"LinearAxis\"},{\"id\":\"84b41d49-1b8c-4d45-918c-958ada19919c\",\"type\":\"Grid\"},{\"id\":\"fbde6b31-0da8-4ce6-84c6-c090ef8a280b\",\"type\":\"LinearAxis\"},{\"id\":\"46a89b13-3b3f-41b6-9e8e-2b1f2ae121c7\",\"type\":\"Grid\"},{\"id\":\"ddbb3ffd-dbc0-4463-bbf6-a6786def07d6\",\"type\":\"GlyphRenderer\"},{\"id\":\"8c7fe729-ced8-48ee-87fb-2eed9b2dbdeb\",\"type\":\"LabelSet\"}],\"title\":{\"id\":\"6adda3dc-b0b1-4d82-96ab-52d4aa3c4809\",\"type\":\"Title\"},\"tool_events\":{\"id\":\"5daa12ba-7f57-43e1-99e0-c7f78bcef08f\",\"type\":\"ToolEvents\"},\"toolbar\":{\"id\":\"661138e6-bd4c-454e-83a6-517fc8f8d414\",\"type\":\"Toolbar\"},\"toolbar_location\":\"above\",\"x_range\":{\"id\":\"00d28c61-d394-4ba5-bac6-16bddca80452\",\"type\":\"DataRange1d\"},\"y_range\":{\"id\":\"c36d5599-d6bf-402e-929f-853cf3504962\",\"type\":\"DataRange1d\"}},\"id\":\"255b3904-5ede-4473-a0dd-dff6a70210dc\",\"subtype\":\"Figure\",\"type\":\"Plot\"},{\"attributes\":{\"plot\":{\"id\":\"255b3904-5ede-4473-a0dd-dff6a70210dc\",\"subtype\":\"Figure\",\"type\":\"Plot\"}},\"id\":\"5adbb4b4-c7b1-42f3-bf1c-6c029c0d9d2e\",\"type\":\"WheelZoomTool\"},{\"attributes\":{\"plot\":{\"id\":\"255b3904-5ede-4473-a0dd-dff6a70210dc\",\"subtype\":\"Figure\",\"type\":\"Plot\"}},\"id\":\"000624a2-040b-4008-95c8-6deb0ec9cda1\",\"type\":\"ResetTool\"},{\"attributes\":{\"plot\":{\"id\":\"255b3904-5ede-4473-a0dd-dff6a70210dc\",\"subtype\":\"Figure\",\"type\":\"Plot\"}},\"id\":\"6e037712-07d5-4fde-bb7b-1888de4f71b5\",\"type\":\"SaveTool\"},{\"attributes\":{\"formatter\":{\"id\":\"90399ade-d8db-41c7-a204-9f4ac2f30277\",\"type\":\"BasicTickFormatter\"},\"plot\":{\"id\":\"255b3904-5ede-4473-a0dd-dff6a70210dc\",\"subtype\":\"Figure\",\"type\":\"Plot\"},\"ticker\":{\"id\":\"d25d2529-8ce0-4fa7-9548-19a6694eb26c\",\"type\":\"BasicTicker\"}},\"id\":\"5ffebdef-b0c4-4009-a645-77fa69b8a7dd\",\"type\":\"LinearAxis\"}],\"root_ids\":[\"255b3904-5ede-4473-a0dd-dff6a70210dc\"]},\"title\":\"Bokeh Application\",\"version\":\"0.12.4\"}};\n",
       "            var render_items = [{\"docid\":\"6357dce5-352f-4127-b0dd-d8c809235647\",\"elementid\":\"56935635-576e-4b65-a711-8fd719447b79\",\"modelid\":\"255b3904-5ede-4473-a0dd-dff6a70210dc\"}];\n",
       "            \n",
       "            Bokeh.embed.embed_items(docs_json, render_items);\n",
       "          };\n",
       "          if (document.readyState != \"loading\") fn();\n",
       "          else document.addEventListener(\"DOMContentLoaded\", fn);\n",
       "        })();\n",
       "      },\n",
       "      function(Bokeh) {\n",
       "      }\n",
       "    ];\n",
       "  \n",
       "    function run_inline_js() {\n",
       "      \n",
       "      if ((window.Bokeh !== undefined) || (force === true)) {\n",
       "        for (var i = 0; i < inline_js.length; i++) {\n",
       "          inline_js[i](window.Bokeh);\n",
       "        }if (force === true) {\n",
       "          display_loaded();\n",
       "        }} else if (Date.now() < window._bokeh_timeout) {\n",
       "        setTimeout(run_inline_js, 100);\n",
       "      } else if (!window._bokeh_failed_load) {\n",
       "        console.log(\"Bokeh: BokehJS failed to load within specified timeout.\");\n",
       "        window._bokeh_failed_load = true;\n",
       "      } else if (force !== true) {\n",
       "        var cell = $(document.getElementById(\"56935635-576e-4b65-a711-8fd719447b79\")).parents('.cell').data().cell;\n",
       "        cell.output_area.append_execute_result(NB_LOAD_WARNING)\n",
       "      }\n",
       "  \n",
       "    }\n",
       "  \n",
       "    if (window._bokeh_is_loading === 0) {\n",
       "      console.log(\"Bokeh: BokehJS loaded, going straight to plotting\");\n",
       "      run_inline_js();\n",
       "    } else {\n",
       "      load_libs(js_urls, function() {\n",
       "        console.log(\"Bokeh: BokehJS plotting callback run at\", now());\n",
       "        run_inline_js();\n",
       "      });\n",
       "    }\n",
       "  }(this));\n",
       "</script>"
      ]
     },
     "metadata": {},
     "output_type": "display_data"
    }
   ],
   "source": [
    "from bokeh.models import ColumnDataSource, LabelSet\n",
    "from bokeh.plotting import figure, show, output_file\n",
    "from bokeh.io import output_notebook\n",
    "output_notebook()\n",
    "p = figure(tools=\"pan,wheel_zoom,reset,save\",\n",
    "           toolbar_location=\"above\",\n",
    "           title=\"vector T-SNE for most polarized words\")\n",
    "\n",
    "source = ColumnDataSource(data=dict(x1=words_top_ted_tsne[:,0],\n",
    "                                    x2=words_top_ted_tsne[:,1],\n",
    "                                    names=words_to_visualize))\n",
    "\n",
    "p.scatter(x=\"x1\", y=\"x2\", size=8, source=source,color=colors_list)\n",
    "\n",
    "word_labels = LabelSet(x=\"x1\", y=\"x2\", text=\"names\", y_offset=6,\n",
    "                  text_font_size=\"8pt\", text_color=\"#555555\",\n",
    "                  source=source, text_align='center')\n",
    "p.add_layout(word_labels)\n",
    "\n",
    "show(p)\n",
    "\n",
    "# green indicates positive words, black indicates negative words"
   ]
  }
 ],
 "metadata": {
  "anaconda-cloud": {},
  "kernelspec": {
   "display_name": "Python 3",
   "language": "python",
   "name": "python3"
  },
  "language_info": {
   "codemirror_mode": {
    "name": "ipython",
    "version": 3
   },
   "file_extension": ".py",
   "mimetype": "text/x-python",
   "name": "python",
   "nbconvert_exporter": "python",
   "pygments_lexer": "ipython3",
   "version": "3.6.0"
  }
 },
 "nbformat": 4,
 "nbformat_minor": 1
}
