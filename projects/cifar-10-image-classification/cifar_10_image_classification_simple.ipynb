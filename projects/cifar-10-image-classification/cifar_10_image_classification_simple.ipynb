{
 "cells": [
  {
   "cell_type": "markdown",
   "metadata": {
    "collapsed": true
   },
   "source": [
    "# Image Classification\n",
    "\n",
    "#### Author: Gan Tu\n",
    "In this project, I'll classify images from the [CIFAR-10 dataset](https://www.cs.toronto.edu/~kriz/cifar.html).  The dataset consists of airplanes, dogs, cats, and other objects. I'll preprocess the images, then train a convolutional neural network on all the samples. I first normalize the images and one-hot encode the labels. Then, I build a network with convolutional, max pooling, dropout, and fully connected layers. \n",
    "## Get the Data\n",
    "Run the following cell to download the [CIFAR-10 dataset for python](https://www.cs.toronto.edu/~kriz/cifar-10-python.tar.gz)."
   ]
  },
  {
   "cell_type": "code",
   "execution_count": 70,
   "metadata": {},
   "outputs": [
    {
     "name": "stdout",
     "output_type": "stream",
     "text": [
      "All files found!\n"
     ]
    }
   ],
   "source": [
    "\"\"\"\n",
    "DON'T MODIFY ANYTHING IN THIS CELL THAT IS BELOW THIS LINE\n",
    "\"\"\"\n",
    "from urllib.request import urlretrieve\n",
    "from os.path import isfile, isdir\n",
    "from tqdm import tqdm\n",
    "import problem_unittests as tests\n",
    "import tarfile\n",
    "\n",
    "cifar10_dataset_folder_path = 'cifar-10-batches-py'\n",
    "\n",
    "# Use Floyd's cifar-10 dataset if present\n",
    "floyd_cifar10_location = '/input/cifar-10/python.tar.gz'\n",
    "if isfile(floyd_cifar10_location):\n",
    "    tar_gz_path = floyd_cifar10_location\n",
    "else:\n",
    "    tar_gz_path = 'cifar-10-python.tar.gz'\n",
    "\n",
    "class DLProgress(tqdm):\n",
    "    last_block = 0\n",
    "\n",
    "    def hook(self, block_num=1, block_size=1, total_size=None):\n",
    "        self.total = total_size\n",
    "        self.update((block_num - self.last_block) * block_size)\n",
    "        self.last_block = block_num\n",
    "\n",
    "if not isfile(tar_gz_path):\n",
    "    with DLProgress(unit='B', unit_scale=True, miniters=1, desc='CIFAR-10 Dataset') as pbar:\n",
    "        urlretrieve(\n",
    "            'https://www.cs.toronto.edu/~kriz/cifar-10-python.tar.gz',\n",
    "            tar_gz_path,\n",
    "            pbar.hook)\n",
    "\n",
    "if not isdir(cifar10_dataset_folder_path):\n",
    "    with tarfile.open(tar_gz_path) as tar:\n",
    "        tar.extractall()\n",
    "        tar.close()\n",
    "\n",
    "\n",
    "tests.test_folder_path(cifar10_dataset_folder_path)"
   ]
  },
  {
   "cell_type": "markdown",
   "metadata": {},
   "source": [
    "## Explore the Data\n",
    "The dataset is broken into batches to prevent your machine from running out of memory.  The CIFAR-10 dataset consists of 5 batches, named `data_batch_1`, `data_batch_2`, etc.. Each batch contains the labels and images that are one of the following:\n",
    "* airplane\n",
    "* automobile\n",
    "* bird\n",
    "* cat\n",
    "* deer\n",
    "* dog\n",
    "* frog\n",
    "* horse\n",
    "* ship\n",
    "* truck\n",
    "\n",
    "Understanding a dataset is part of making predictions on the data.  Feel free to play around with the code cell below by changing the `batch_id` and `sample_id`. The `batch_id` is the id for a batch (1-5). The `sample_id` is the id for a image and label pair in the batch."
   ]
  },
  {
   "cell_type": "code",
   "execution_count": 71,
   "metadata": {},
   "outputs": [
    {
     "name": "stdout",
     "output_type": "stream",
     "text": [
      "\n",
      "Stats of batch 1:\n",
      "Samples: 10000\n",
      "Label Counts: {0: 1005, 1: 974, 2: 1032, 3: 1016, 4: 999, 5: 937, 6: 1030, 7: 1001, 8: 1025, 9: 981}\n",
      "First 20 Labels: [6, 9, 9, 4, 1, 1, 2, 7, 8, 3, 4, 7, 7, 2, 9, 9, 9, 3, 2, 6]\n",
      "\n",
      "Example of Image 5:\n",
      "Image - Min Value: 0 Max Value: 252\n",
      "Image - Shape: (32, 32, 3)\n",
      "Label - Label Id: 1 Name: automobile\n"
     ]
    },
    {
     "data": {
      "image/png": "[encoded data removed]",
      "text/plain": [
       "<matplotlib.figure.Figure at 0x7fa2058e4da0>"
      ]
     },
     "metadata": {
      "image/png": {
       "height": 250,
       "width": 253
      }
     },
     "output_type": "display_data"
    }
   ],
   "source": [
    "%matplotlib inline\n",
    "%config InlineBackend.figure_format = 'retina'\n",
    "\n",
    "import helper\n",
    "import numpy as np\n",
    "\n",
    "# Explore the dataset\n",
    "batch_id = 1\n",
    "sample_id = 5\n",
    "helper.display_stats(cifar10_dataset_folder_path, batch_id, sample_id)"
   ]
  },
  {
   "cell_type": "markdown",
   "metadata": {},
   "source": [
    "## Implement Preprocess Functions\n",
    "### Normalize\n",
    "In the cell below, the `normalize` function takes in image data, `x`, and return it as a normalized Numpy array. The values are in the range of 0 to 1, inclusive.  The return object is the same shape as `x`."
   ]
  },
  {
   "cell_type": "code",
   "execution_count": 73,
   "metadata": {},
   "outputs": [
    {
     "name": "stdout",
     "output_type": "stream",
     "text": [
      "Tests Passed\n"
     ]
    }
   ],
   "source": [
    "def normalize(x):\n",
    "    \"\"\"\n",
    "    Normalize a list of sample image data in the range of 0 to 1\n",
    "    : x: List of image data.  The image shape is (32, 32, 3)\n",
    "    : return: Numpy array of normalize data\n",
    "    \"\"\"\n",
    "    return x / 255\n",
    "\n",
    "\n",
    "\"\"\"\n",
    "DON'T MODIFY ANYTHING IN THIS CELL THAT IS BELOW THIS LINE\n",
    "\"\"\"\n",
    "tests.test_normalize(normalize)"
   ]
  },
  {
   "cell_type": "markdown",
   "metadata": {},
   "source": [
    "### One-hot encode\n",
    "This is preprocessing function `one_hot_encode`. The input, `x`, are a list of labels.  The function returns the list of labels as One-Hot encoded Numpy array.  The possible values for labels are 0 to 9. The one-hot encoding function returns the same encoding for each value between each call to `one_hot_encode`."
   ]
  },
  {
   "cell_type": "code",
   "execution_count": 74,
   "metadata": {},
   "outputs": [
    {
     "name": "stdout",
     "output_type": "stream",
     "text": [
      "Tests Passed\n"
     ]
    }
   ],
   "source": [
    "# Mapping of encodings\n",
    "encoding_map = dict()\n",
    "for i in range(10):\n",
    "    encoding_map[i] = np.zeros(10)\n",
    "    encoding_map[i][i] = 1\n",
    "    \n",
    "def one_hot_encode(x):\n",
    "    \"\"\"\n",
    "    One hot encode a list of sample labels. Return a one-hot encoded vector for each label.\n",
    "    : x: List of sample Labels\n",
    "    : return: Numpy array of one-hot encoded labels\n",
    "    \"\"\"\n",
    "    labels = list()\n",
    "    for label in x:\n",
    "        labels.append(encoding_map[label])\n",
    "    return np.array(labels)\n",
    "\n",
    "\n",
    "\"\"\"\n",
    "DON'T MODIFY ANYTHING IN THIS CELL THAT IS BELOW THIS LINE\n",
    "\"\"\"\n",
    "tests.test_one_hot_encode(one_hot_encode)"
   ]
  },
  {
   "cell_type": "markdown",
   "metadata": {},
   "source": [
    "### Randomize Data\n",
    "The order of the samples are randomized already, but it doesn't hurt to randomize it again if you want."
   ]
  },
  {
   "cell_type": "markdown",
   "metadata": {},
   "source": [
    "## Preprocess all the data and save it\n",
    "The code cell below preprocesses all the CIFAR-10 data and save it to file. \n",
    "The code below also uses 10% of the training data for validation."
   ]
  },
  {
   "cell_type": "code",
   "execution_count": 75,
   "metadata": {
    "collapsed": true
   },
   "outputs": [],
   "source": [
    "\"\"\"\n",
    "DON'T MODIFY ANYTHING IN THIS CELL\n",
    "\"\"\"\n",
    "# Preprocess Training, Validation, and Testing Data\n",
    "helper.preprocess_and_save_data(cifar10_dataset_folder_path, normalize, one_hot_encode)"
   ]
  },
  {
   "cell_type": "markdown",
   "metadata": {},
   "source": [
    "# Check Point\n",
    "This is the first checkpoint.  If you ever decide to come back to this notebook or have to restart the notebook, you can start from here.  The preprocessed data has been saved to disk."
   ]
  },
  {
   "cell_type": "code",
   "execution_count": 1,
   "metadata": {
    "collapsed": true
   },
   "outputs": [],
   "source": [
    "\"\"\"\n",
    "DON'T MODIFY ANYTHING IN THIS CELL\n",
    "\"\"\"\n",
    "import pickle\n",
    "import problem_unittests as tests\n",
    "import helper\n",
    "\n",
    "# Load the Preprocessed Validation data\n",
    "valid_features, valid_labels = pickle.load(open('preprocess_validation.p', mode='rb'))"
   ]
  },
  {
   "cell_type": "markdown",
   "metadata": {},
   "source": [
    "## Build the network\n",
    "For the neural network, I'll build each layer into a function.  \n",
    "\n",
    "### Input\n",
    "The neural network needs to read the image data, one-hot encoded labels, and dropout keep probability. \n",
    "\n",
    "Note: `None` for shapes in TensorFlow allow for a dynamic size."
   ]
  },
  {
   "cell_type": "code",
   "execution_count": 2,
   "metadata": {},
   "outputs": [
    {
     "name": "stdout",
     "output_type": "stream",
     "text": [
      "Image Input Tests Passed.\n",
      "Label Input Tests Passed.\n",
      "Keep Prob Tests Passed.\n"
     ]
    }
   ],
   "source": [
    "import tensorflow as tf\n",
    "\n",
    "def neural_net_image_input(image_shape):\n",
    "    \"\"\"\n",
    "    Return a Tensor for a batch of image input\n",
    "    : image_shape: Shape of the images\n",
    "    : return: Tensor for image input.\n",
    "    \"\"\"\n",
    "    return tf.placeholder(tf.float32, shape=(None, *image_shape), name=\"x\")\n",
    "\n",
    "\n",
    "def neural_net_label_input(n_classes):\n",
    "    \"\"\"\n",
    "    Return a Tensor for a batch of label input\n",
    "    : n_classes: Number of classes\n",
    "    : return: Tensor for label input.\n",
    "    \"\"\"\n",
    "    return tf.placeholder(tf.float32, shape=[None, n_classes], name=\"y\")\n",
    "\n",
    "\n",
    "def neural_net_keep_prob_input():\n",
    "    \"\"\"\n",
    "    Return a Tensor for keep probability\n",
    "    : return: Tensor for keep probability.\n",
    "    \"\"\"\n",
    "    return tf.placeholder(tf.float32, name=\"keep_prob\")\n",
    "\n",
    "\n",
    "\"\"\"\n",
    "DON'T MODIFY ANYTHING IN THIS CELL THAT IS BELOW THIS LINE\n",
    "\"\"\"\n",
    "tf.reset_default_graph()\n",
    "tests.test_nn_image_inputs(neural_net_image_input)\n",
    "tests.test_nn_label_inputs(neural_net_label_input)\n",
    "tests.test_nn_keep_prob_inputs(neural_net_keep_prob_input)"
   ]
  },
  {
   "cell_type": "markdown",
   "metadata": {},
   "source": [
    "### Convolution and Max Pooling Layer\n",
    "The function `conv2d_maxpool` applies convolution then max pooling:\n",
    "\n",
    "**Note:** I **won't** use [TensorFlow Layers](https://www.tensorflow.org/api_docs/python/tf/layers) or [TensorFlow Layers (contrib)](https://www.tensorflow.org/api_guides/python/contrib.layers) for **this** layer but TensorFlow's [Neural Network](https://www.tensorflow.org/api_docs/python/tf/nn) package. I'll use the shortcut option for all the **other** layers."
   ]
  },
  {
   "cell_type": "code",
   "execution_count": 3,
   "metadata": {},
   "outputs": [
    {
     "name": "stdout",
     "output_type": "stream",
     "text": [
      "Tests Passed\n"
     ]
    }
   ],
   "source": [
    "def conv2d_maxpool(x_tensor, conv_num_outputs, conv_ksize, conv_strides, pool_ksize, pool_strides):\n",
    "    \"\"\"\n",
    "    Apply convolution then max pooling to x_tensor\n",
    "    :param x_tensor: TensorFlow Tensor\n",
    "    :param conv_num_outputs: Number of outputs for the convolutional layer\n",
    "    :param conv_ksize: kernal size 2-D Tuple for the convolutional layer\n",
    "    :param conv_strides: Stride 2-D Tuple for convolution\n",
    "    :param pool_ksize: kernal size 2-D Tuple for pool\n",
    "    :param pool_strides: Stride 2-D Tuple for pool\n",
    "    : return: A tensor that represents convolution and max pooling of x_tensor\n",
    "    \"\"\"\n",
    "    batch_size, input_height, input_width, input_depth = x_tensor.shape\n",
    "    W = tf.Variable(tf.truncated_normal([*conv_ksize, int(input_depth), conv_num_outputs], stddev=1/tf.sqrt(float(conv_num_outputs)), dtype=tf.float32))\n",
    "    b = tf.Variable(tf.zeros([conv_num_outputs], tf.float32))\n",
    "    x = tf.nn.conv2d(x_tensor, W, strides=[1, *conv_strides, 1], padding='SAME')\n",
    "    x = tf.nn.bias_add(x, b)\n",
    "    x = tf.nn.relu(x)\n",
    "    x = tf.nn.max_pool(x, ksize=[1, *pool_ksize, 1], strides=[1, *pool_strides, 1], padding='SAME')\n",
    "    return x\n",
    "\n",
    "\n",
    "\"\"\"\n",
    "DON'T MODIFY ANYTHING IN THIS CELL THAT IS BELOW THIS LINE\n",
    "\"\"\"\n",
    "tests.test_con_pool(conv2d_maxpool)"
   ]
  },
  {
   "cell_type": "markdown",
   "metadata": {},
   "source": [
    "### Flatten Layer\n",
    "The `flatten` function changes the dimension of `x_tensor` from a 4-D tensor to a 2-D tensor.  \n",
    "The output should be the shape (*Batch Size*, *Flattened Image Size*)."
   ]
  },
  {
   "cell_type": "code",
   "execution_count": 4,
   "metadata": {},
   "outputs": [
    {
     "name": "stdout",
     "output_type": "stream",
     "text": [
      "Tests Passed\n"
     ]
    }
   ],
   "source": [
    "def flatten(x_tensor):\n",
    "    \"\"\"\n",
    "    Flatten x_tensor to (Batch Size, Flattened Image Size)\n",
    "    : x_tensor: A tensor of size (Batch Size, ...), where ... are the image dimensions.\n",
    "    : return: A tensor of size (Batch Size, Flattened Image Size).\n",
    "    \"\"\"\n",
    "    batch_size, h, w, d = x_tensor.get_shape().as_list()\n",
    "    return tf.reshape(x_tensor, shape=[-1, h * w *d])\n",
    "\n",
    "\n",
    "\"\"\"\n",
    "DON'T MODIFY ANYTHING IN THIS CELL THAT IS BELOW THIS LINE\n",
    "\"\"\"\n",
    "tests.test_flatten(flatten)"
   ]
  },
  {
   "cell_type": "markdown",
   "metadata": {},
   "source": [
    "### Fully-Connected Layer\n",
    "The `fully_conn` function applies a fully connected layer to `x_tensor` with the shape (*Batch Size*, *num_outputs*)."
   ]
  },
  {
   "cell_type": "code",
   "execution_count": 5,
   "metadata": {},
   "outputs": [
    {
     "name": "stdout",
     "output_type": "stream",
     "text": [
      "Tests Passed\n"
     ]
    }
   ],
   "source": [
    "def fully_conn(x_tensor, num_outputs):\n",
    "    \"\"\"\n",
    "    Apply a fully connected layer to x_tensor using weight and bias\n",
    "    : x_tensor: A 2-D tensor where the first dimension is batch size.\n",
    "    : num_outputs: The number of output that the new tensor should be.\n",
    "    : return: A 2-D tensor where the second dimension is num_outputs.\n",
    "    \"\"\"\n",
    "    return tf.contrib.layers.fully_connected(x_tensor, num_outputs, activation_fn=tf.nn.relu)\n",
    "\n",
    "\n",
    "\"\"\"\n",
    "DON'T MODIFY ANYTHING IN THIS CELL THAT IS BELOW THIS LINE\n",
    "\"\"\"\n",
    "tests.test_fully_conn(fully_conn)"
   ]
  },
  {
   "cell_type": "markdown",
   "metadata": {},
   "source": [
    "### Output Layer\n",
    "The `output` function applies a fully connected layer to `x_tensor` with the shape (*Batch Size*, *num_outputs*)."
   ]
  },
  {
   "cell_type": "code",
   "execution_count": 6,
   "metadata": {},
   "outputs": [
    {
     "name": "stdout",
     "output_type": "stream",
     "text": [
      "Tests Passed\n"
     ]
    }
   ],
   "source": [
    "def output(x_tensor, num_outputs):\n",
    "    \"\"\"\n",
    "    Apply a output layer to x_tensor using weight and bias\n",
    "    : x_tensor: A 2-D tensor where the first dimension is batch size.\n",
    "    : num_outputs: The number of output that the new tensor should be.\n",
    "    : return: A 2-D tensor where the second dimension is num_outputs.\n",
    "    \"\"\"\n",
    "    # Use Linear Activation Function\n",
    "    return tf.contrib.layers.fully_connected(x_tensor, num_outputs, activation_fn=None)\n",
    "\n",
    "\n",
    "\"\"\"\n",
    "DON'T MODIFY ANYTHING IN THIS CELL THAT IS BELOW THIS LINE\n",
    "\"\"\"\n",
    "tests.test_output(output)"
   ]
  },
  {
   "cell_type": "markdown",
   "metadata": {},
   "source": [
    "### Create Convolutional Model\n",
    "The function `conv_net` creates a convolutional neural network model. \n",
    "\n",
    "The function takes in a batch of images, `x`, and outputs logits."
   ]
  },
  {
   "cell_type": "code",
   "execution_count": 7,
   "metadata": {},
   "outputs": [
    {
     "name": "stdout",
     "output_type": "stream",
     "text": [
      "Neural Network Built!\n"
     ]
    }
   ],
   "source": [
    "def conv_net(x, keep_prob):\n",
    "    \"\"\"\n",
    "    Create a convolutional neural network model\n",
    "    : x: Placeholder tensor that holds image data.\n",
    "    : keep_prob: Placeholder tensor that hold dropout keep probability.\n",
    "    : return: Tensor that represents logits\n",
    "    \"\"\"\n",
    "    x = conv2d_maxpool(x, 16, (5, 5), (1, 1), (2, 2), (2, 2))\n",
    "    x = conv2d_maxpool(x, 32, (5, 5), (1, 1), (2, 2), (2, 2))\n",
    "    x = conv2d_maxpool(x, 64, (5, 5), (1, 1), (2, 2), (2, 2))\n",
    "    x = tf.nn.dropout(x, keep_prob)\n",
    "    x = flatten(x)\n",
    "    x = fully_conn(x, 256)\n",
    "    x = tf.nn.dropout(x, keep_prob)\n",
    "    x = fully_conn(x, 64)\n",
    "    x = tf.nn.dropout(x, keep_prob)\n",
    "    x = output(x, 10)\n",
    "    return x\n",
    "\n",
    "\n",
    "\"\"\"\n",
    "DON'T MODIFY ANYTHING IN THIS CELL THAT IS BELOW THIS LINE\n",
    "\"\"\"\n",
    "\n",
    "##############################\n",
    "## Build the Neural Network ##\n",
    "##############################\n",
    "\n",
    "# Remove previous weights, bias, inputs, etc..\n",
    "tf.reset_default_graph()\n",
    "\n",
    "# Inputs\n",
    "x = neural_net_image_input((32, 32, 3))\n",
    "y = neural_net_label_input(10)\n",
    "keep_prob = neural_net_keep_prob_input()\n",
    "\n",
    "# Model\n",
    "logits = conv_net(x, keep_prob)\n",
    "\n",
    "# Name logits Tensor, so that is can be loaded from disk after training\n",
    "logits = tf.identity(logits, name='logits')\n",
    "\n",
    "# Loss and Optimizer\n",
    "cost = tf.reduce_mean(tf.nn.softmax_cross_entropy_with_logits(logits=logits, labels=y))\n",
    "optimizer = tf.train.AdamOptimizer().minimize(cost)\n",
    "\n",
    "# Accuracy\n",
    "correct_pred = tf.equal(tf.argmax(logits, 1), tf.argmax(y, 1))\n",
    "accuracy = tf.reduce_mean(tf.cast(correct_pred, tf.float32), name='accuracy')\n",
    "\n",
    "tests.test_conv_net(conv_net)"
   ]
  },
  {
   "cell_type": "markdown",
   "metadata": {},
   "source": [
    "## Train the Neural Network\n",
    "### Single Optimization\n",
    "The function `train_neural_network` does a single optimization. \n",
    "\n",
    "This function will be called for each batch, so `tf.global_variables_initializer()` has already been called.\n",
    "\n",
    "Note: Nothing needs to be returned. This function is only optimizing the neural network."
   ]
  },
  {
   "cell_type": "code",
   "execution_count": 8,
   "metadata": {},
   "outputs": [
    {
     "name": "stdout",
     "output_type": "stream",
     "text": [
      "Tests Passed\n"
     ]
    }
   ],
   "source": [
    "def train_neural_network(session, optimizer, keep_probability, feature_batch, label_batch):\n",
    "    \"\"\"\n",
    "    Optimize the session on a batch of images and labels\n",
    "    : session: Current TensorFlow session\n",
    "    : optimizer: TensorFlow optimizer function\n",
    "    : keep_probability: keep probability\n",
    "    : feature_batch: Batch of Numpy image data\n",
    "    : label_batch: Batch of Numpy label data\n",
    "    \"\"\"\n",
    "    session.run(optimizer, feed_dict={x: feature_batch, y: label_batch, keep_prob: keep_probability})\n",
    "\n",
    "\"\"\"\n",
    "DON'T MODIFY ANYTHING IN THIS CELL THAT IS BELOW THIS LINE\n",
    "\"\"\"\n",
    "tests.test_train_nn(train_neural_network)"
   ]
  },
  {
   "cell_type": "markdown",
   "metadata": {},
   "source": [
    "### Show Stats\n",
    "The function `print_stats` prints loss and validation accuracy.  \n",
    "\n",
    "I use the global variables `valid_features` and `valid_labels` to calculate validation accuracy.  \n",
    "\n",
    "Use a keep probability of `1.0` to calculate the loss and validation accuracy."
   ]
  },
  {
   "cell_type": "code",
   "execution_count": 9,
   "metadata": {
    "collapsed": true
   },
   "outputs": [],
   "source": [
    "def print_stats(session, feature_batch, label_batch, cost, accuracy):\n",
    "    \"\"\"\n",
    "    Print information about loss and validation accuracy\n",
    "    : session: Current TensorFlow session\n",
    "    : feature_batch: Batch of Numpy image data\n",
    "    : label_batch: Batch of Numpy label data\n",
    "    : cost: TensorFlow cost function\n",
    "    : accuracy: TensorFlow accuracy function\n",
    "    \"\"\"\n",
    "    loss = session.run(cost, feed_dict={x: feature_batch, y: label_batch, keep_prob: 1.})\n",
    "    accuracy = session.run(accuracy, feed_dict={x: valid_features, y: valid_labels, keep_prob: 1.})\n",
    "    print(\"Loss: {0:.5f}; Validation Accuracy: {1:.5f}\".format(loss, accuracy))"
   ]
  },
  {
   "cell_type": "markdown",
   "metadata": {},
   "source": [
    "### Hyperparameters\n",
    "Tune the following parameters:\n",
    "* `epochs`: the number of iterations until the network stops learning or start overfitting\n",
    "* `batch_size`: the highest number that your machine has memory for.  \n",
    "* `keep_probability`: the probability of keeping a node using dropout"
   ]
  },
  {
   "cell_type": "code",
   "execution_count": 128,
   "metadata": {
    "collapsed": true
   },
   "outputs": [],
   "source": [
    "epochs = 45\n",
    "batch_size = 128\n",
    "keep_probability = 0.55"
   ]
  },
  {
   "cell_type": "markdown",
   "metadata": {},
   "source": [
    "### Train on a Single CIFAR-10 Batch\n",
    "Instead of training the neural network on all the CIFAR-10 batches of data, let's use a single batch. This should save time while we iterate on the model to get a better accuracy.  Once the final validation accuracy is 50% or greater, run the model on all the data in the next section."
   ]
  },
  {
   "cell_type": "code",
   "execution_count": 129,
   "metadata": {},
   "outputs": [
    {
     "name": "stdout",
     "output_type": "stream",
     "text": [
      "Checking the Training on a Single Batch...\n",
      "Epoch  1, CIFAR-10 Batch 1:  Loss: 2.31374; Validation Accuracy: 0.12680\n",
      "Epoch  2, CIFAR-10 Batch 1:  Loss: 2.26729; Validation Accuracy: 0.16420\n",
      "Epoch  3, CIFAR-10 Batch 1:  Loss: 2.17727; Validation Accuracy: 0.25200\n",
      "Epoch  4, CIFAR-10 Batch 1:  Loss: 2.16242; Validation Accuracy: 0.29360\n",
      "Epoch  5, CIFAR-10 Batch 1:  Loss: 2.08108; Validation Accuracy: 0.34160\n",
      "Epoch  6, CIFAR-10 Batch 1:  Loss: 1.97501; Validation Accuracy: 0.34420\n",
      "Epoch  7, CIFAR-10 Batch 1:  Loss: 1.92793; Validation Accuracy: 0.38540\n",
      "Epoch  8, CIFAR-10 Batch 1:  Loss: 1.89503; Validation Accuracy: 0.37200\n",
      "Epoch  9, CIFAR-10 Batch 1:  Loss: 1.81047; Validation Accuracy: 0.41680\n",
      "Epoch 10, CIFAR-10 Batch 1:  Loss: 1.70823; Validation Accuracy: 0.42340\n",
      "Epoch 11, CIFAR-10 Batch 1:  Loss: 1.65075; Validation Accuracy: 0.42540\n",
      "Epoch 12, CIFAR-10 Batch 1:  Loss: 1.58465; Validation Accuracy: 0.44780\n",
      "Epoch 13, CIFAR-10 Batch 1:  Loss: 1.52984; Validation Accuracy: 0.45700\n",
      "Epoch 14, CIFAR-10 Batch 1:  Loss: 1.49866; Validation Accuracy: 0.46060\n",
      "Epoch 15, CIFAR-10 Batch 1:  Loss: 1.38406; Validation Accuracy: 0.46280\n",
      "Epoch 16, CIFAR-10 Batch 1:  Loss: 1.30737; Validation Accuracy: 0.47860\n",
      "Epoch 17, CIFAR-10 Batch 1:  Loss: 1.28497; Validation Accuracy: 0.47480\n",
      "Epoch 18, CIFAR-10 Batch 1:  Loss: 1.22754; Validation Accuracy: 0.46940\n",
      "Epoch 19, CIFAR-10 Batch 1:  Loss: 1.13976; Validation Accuracy: 0.50240\n",
      "Epoch 20, CIFAR-10 Batch 1:  Loss: 1.16489; Validation Accuracy: 0.49220\n",
      "Epoch 21, CIFAR-10 Batch 1:  Loss: 1.11135; Validation Accuracy: 0.47480\n",
      "Epoch 22, CIFAR-10 Batch 1:  Loss: 1.04294; Validation Accuracy: 0.50520\n",
      "Epoch 23, CIFAR-10 Batch 1:  Loss: 0.94038; Validation Accuracy: 0.52000\n",
      "Epoch 24, CIFAR-10 Batch 1:  Loss: 0.93436; Validation Accuracy: 0.52060\n",
      "Epoch 25, CIFAR-10 Batch 1:  Loss: 0.88047; Validation Accuracy: 0.50960\n",
      "Epoch 26, CIFAR-10 Batch 1:  Loss: 0.85134; Validation Accuracy: 0.50080\n",
      "Epoch 27, CIFAR-10 Batch 1:  Loss: 0.75823; Validation Accuracy: 0.52440\n",
      "Epoch 28, CIFAR-10 Batch 1:  Loss: 0.76119; Validation Accuracy: 0.51780\n",
      "Epoch 29, CIFAR-10 Batch 1:  Loss: 0.71977; Validation Accuracy: 0.53220\n",
      "Epoch 30, CIFAR-10 Batch 1:  Loss: 0.66053; Validation Accuracy: 0.54340\n",
      "Epoch 31, CIFAR-10 Batch 1:  Loss: 0.66925; Validation Accuracy: 0.53560\n",
      "Epoch 32, CIFAR-10 Batch 1:  Loss: 0.66616; Validation Accuracy: 0.52900\n",
      "Epoch 33, CIFAR-10 Batch 1:  Loss: 0.60039; Validation Accuracy: 0.54300\n",
      "Epoch 34, CIFAR-10 Batch 1:  Loss: 0.56573; Validation Accuracy: 0.55020\n",
      "Epoch 35, CIFAR-10 Batch 1:  Loss: 0.58727; Validation Accuracy: 0.54680\n",
      "Epoch 36, CIFAR-10 Batch 1:  Loss: 0.52316; Validation Accuracy: 0.54980\n",
      "Epoch 37, CIFAR-10 Batch 1:  Loss: 0.52036; Validation Accuracy: 0.54700\n",
      "Epoch 38, CIFAR-10 Batch 1:  Loss: 0.49016; Validation Accuracy: 0.54760\n",
      "Epoch 39, CIFAR-10 Batch 1:  Loss: 0.53655; Validation Accuracy: 0.55280\n",
      "Epoch 40, CIFAR-10 Batch 1:  Loss: 0.48541; Validation Accuracy: 0.55220\n",
      "Epoch 41, CIFAR-10 Batch 1:  Loss: 0.45378; Validation Accuracy: 0.54780\n",
      "Epoch 42, CIFAR-10 Batch 1:  Loss: 0.43992; Validation Accuracy: 0.53700\n",
      "Epoch 43, CIFAR-10 Batch 1:  Loss: 0.39698; Validation Accuracy: 0.55520\n",
      "Epoch 44, CIFAR-10 Batch 1:  Loss: 0.44761; Validation Accuracy: 0.54040\n",
      "Epoch 45, CIFAR-10 Batch 1:  Loss: 0.37463; Validation Accuracy: 0.55440\n"
     ]
    }
   ],
   "source": [
    "\"\"\"\n",
    "DON'T MODIFY ANYTHING IN THIS CELL\n",
    "\"\"\"\n",
    "print('Checking the Training on a Single Batch...')\n",
    "with tf.Session() as sess:\n",
    "    # Initializing the variables\n",
    "    sess.run(tf.global_variables_initializer())\n",
    "    \n",
    "    # Training cycle\n",
    "    for epoch in range(epochs):\n",
    "        batch_i = 1\n",
    "        for batch_features, batch_labels in helper.load_preprocess_training_batch(batch_i, batch_size):\n",
    "            train_neural_network(sess, optimizer, keep_probability, batch_features, batch_labels)\n",
    "        print('Epoch {:>2}, CIFAR-10 Batch {}:  '.format(epoch + 1, batch_i), end='')\n",
    "        print_stats(sess, batch_features, batch_labels, cost, accuracy)"
   ]
  },
  {
   "cell_type": "markdown",
   "metadata": {},
   "source": [
    "### Fully Train the Model\n",
    "Now that we got a fair accuracy with a single CIFAR-10 batch, try it with all five batches."
   ]
  },
  {
   "cell_type": "code",
   "execution_count": 130,
   "metadata": {},
   "outputs": [
    {
     "name": "stdout",
     "output_type": "stream",
     "text": [
      "Training...\n",
      "Epoch  1, CIFAR-10 Batch 1:  Loss: 2.29066; Validation Accuracy: 0.15920\n",
      "Epoch  1, CIFAR-10 Batch 2:  Loss: 2.15733; Validation Accuracy: 0.22720\n",
      "Epoch  1, CIFAR-10 Batch 3:  Loss: 2.00855; Validation Accuracy: 0.29060\n",
      "Epoch  1, CIFAR-10 Batch 4:  Loss: 1.93108; Validation Accuracy: 0.34260\n",
      "Epoch  1, CIFAR-10 Batch 5:  Loss: 1.86021; Validation Accuracy: 0.37160\n",
      "Epoch  2, CIFAR-10 Batch 1:  Loss: 1.92380; Validation Accuracy: 0.36860\n",
      "Epoch  2, CIFAR-10 Batch 2:  Loss: 1.74541; Validation Accuracy: 0.41280\n",
      "Epoch  2, CIFAR-10 Batch 3:  Loss: 1.50653; Validation Accuracy: 0.41220\n",
      "Epoch  2, CIFAR-10 Batch 4:  Loss: 1.63966; Validation Accuracy: 0.42340\n",
      "Epoch  2, CIFAR-10 Batch 5:  Loss: 1.65433; Validation Accuracy: 0.44200\n",
      "Epoch  3, CIFAR-10 Batch 1:  Loss: 1.77884; Validation Accuracy: 0.45640\n",
      "Epoch  3, CIFAR-10 Batch 2:  Loss: 1.55757; Validation Accuracy: 0.45840\n",
      "Epoch  3, CIFAR-10 Batch 3:  Loss: 1.30005; Validation Accuracy: 0.46100\n",
      "Epoch  3, CIFAR-10 Batch 4:  Loss: 1.49119; Validation Accuracy: 0.47000\n",
      "Epoch  3, CIFAR-10 Batch 5:  Loss: 1.53154; Validation Accuracy: 0.46860\n",
      "Epoch  4, CIFAR-10 Batch 1:  Loss: 1.55813; Validation Accuracy: 0.48880\n",
      "Epoch  4, CIFAR-10 Batch 2:  Loss: 1.44141; Validation Accuracy: 0.49000\n",
      "Epoch  4, CIFAR-10 Batch 3:  Loss: 1.17575; Validation Accuracy: 0.48960\n",
      "Epoch  4, CIFAR-10 Batch 4:  Loss: 1.33355; Validation Accuracy: 0.49960\n",
      "Epoch  4, CIFAR-10 Batch 5:  Loss: 1.39565; Validation Accuracy: 0.51260\n",
      "Epoch  5, CIFAR-10 Batch 1:  Loss: 1.40589; Validation Accuracy: 0.51360\n",
      "Epoch  5, CIFAR-10 Batch 2:  Loss: 1.26197; Validation Accuracy: 0.52620\n",
      "Epoch  5, CIFAR-10 Batch 3:  Loss: 1.12200; Validation Accuracy: 0.52140\n",
      "Epoch  5, CIFAR-10 Batch 4:  Loss: 1.26917; Validation Accuracy: 0.53320\n",
      "Epoch  5, CIFAR-10 Batch 5:  Loss: 1.27515; Validation Accuracy: 0.53900\n",
      "Epoch  6, CIFAR-10 Batch 1:  Loss: 1.33497; Validation Accuracy: 0.52260\n",
      "Epoch  6, CIFAR-10 Batch 2:  Loss: 1.18381; Validation Accuracy: 0.52380\n",
      "Epoch  6, CIFAR-10 Batch 3:  Loss: 0.99525; Validation Accuracy: 0.53620\n",
      "Epoch  6, CIFAR-10 Batch 4:  Loss: 1.18098; Validation Accuracy: 0.54500\n",
      "Epoch  6, CIFAR-10 Batch 5:  Loss: 1.25832; Validation Accuracy: 0.54900\n",
      "Epoch  7, CIFAR-10 Batch 1:  Loss: 1.20813; Validation Accuracy: 0.55600\n",
      "Epoch  7, CIFAR-10 Batch 2:  Loss: 1.09829; Validation Accuracy: 0.55360\n",
      "Epoch  7, CIFAR-10 Batch 3:  Loss: 0.90414; Validation Accuracy: 0.54800\n",
      "Epoch  7, CIFAR-10 Batch 4:  Loss: 1.09108; Validation Accuracy: 0.56220\n",
      "Epoch  7, CIFAR-10 Batch 5:  Loss: 1.11231; Validation Accuracy: 0.56880\n",
      "Epoch  8, CIFAR-10 Batch 1:  Loss: 1.11783; Validation Accuracy: 0.56500\n",
      "Epoch  8, CIFAR-10 Batch 2:  Loss: 1.06548; Validation Accuracy: 0.56420\n",
      "Epoch  8, CIFAR-10 Batch 3:  Loss: 0.83613; Validation Accuracy: 0.56920\n",
      "Epoch  8, CIFAR-10 Batch 4:  Loss: 1.01651; Validation Accuracy: 0.57740\n",
      "Epoch  8, CIFAR-10 Batch 5:  Loss: 1.07025; Validation Accuracy: 0.58520\n",
      "Epoch  9, CIFAR-10 Batch 1:  Loss: 1.04110; Validation Accuracy: 0.58260\n",
      "Epoch  9, CIFAR-10 Batch 2:  Loss: 1.02026; Validation Accuracy: 0.58140\n",
      "Epoch  9, CIFAR-10 Batch 3:  Loss: 0.81766; Validation Accuracy: 0.57920\n",
      "Epoch  9, CIFAR-10 Batch 4:  Loss: 0.98489; Validation Accuracy: 0.58920\n",
      "Epoch  9, CIFAR-10 Batch 5:  Loss: 0.99797; Validation Accuracy: 0.58780\n",
      "Epoch 10, CIFAR-10 Batch 1:  Loss: 0.97529; Validation Accuracy: 0.59620\n",
      "Epoch 10, CIFAR-10 Batch 2:  Loss: 0.93949; Validation Accuracy: 0.59260\n",
      "Epoch 10, CIFAR-10 Batch 3:  Loss: 0.73754; Validation Accuracy: 0.58560\n",
      "Epoch 10, CIFAR-10 Batch 4:  Loss: 0.95242; Validation Accuracy: 0.59520\n",
      "Epoch 10, CIFAR-10 Batch 5:  Loss: 0.90109; Validation Accuracy: 0.59080\n",
      "Epoch 11, CIFAR-10 Batch 1:  Loss: 0.92056; Validation Accuracy: 0.60200\n",
      "Epoch 11, CIFAR-10 Batch 2:  Loss: 0.92642; Validation Accuracy: 0.60620\n",
      "Epoch 11, CIFAR-10 Batch 3:  Loss: 0.65480; Validation Accuracy: 0.60620\n",
      "Epoch 11, CIFAR-10 Batch 4:  Loss: 0.92758; Validation Accuracy: 0.59860\n",
      "Epoch 11, CIFAR-10 Batch 5:  Loss: 0.84607; Validation Accuracy: 0.61080\n",
      "Epoch 12, CIFAR-10 Batch 1:  Loss: 0.87177; Validation Accuracy: 0.61280\n",
      "Epoch 12, CIFAR-10 Batch 2:  Loss: 0.85395; Validation Accuracy: 0.59980\n",
      "Epoch 12, CIFAR-10 Batch 3:  Loss: 0.70325; Validation Accuracy: 0.60560\n",
      "Epoch 12, CIFAR-10 Batch 4:  Loss: 0.84139; Validation Accuracy: 0.61100\n",
      "Epoch 12, CIFAR-10 Batch 5:  Loss: 0.79701; Validation Accuracy: 0.61200\n",
      "Epoch 13, CIFAR-10 Batch 1:  Loss: 0.82654; Validation Accuracy: 0.61220\n",
      "Epoch 13, CIFAR-10 Batch 2:  Loss: 0.86024; Validation Accuracy: 0.61780\n",
      "Epoch 13, CIFAR-10 Batch 3:  Loss: 0.66993; Validation Accuracy: 0.60620\n",
      "Epoch 13, CIFAR-10 Batch 4:  Loss: 0.83027; Validation Accuracy: 0.60720\n",
      "Epoch 13, CIFAR-10 Batch 5:  Loss: 0.77081; Validation Accuracy: 0.61620\n",
      "Epoch 14, CIFAR-10 Batch 1:  Loss: 0.76930; Validation Accuracy: 0.62420\n",
      "Epoch 14, CIFAR-10 Batch 2:  Loss: 0.80428; Validation Accuracy: 0.62640\n",
      "Epoch 14, CIFAR-10 Batch 3:  Loss: 0.61451; Validation Accuracy: 0.63340\n",
      "Epoch 14, CIFAR-10 Batch 4:  Loss: 0.75565; Validation Accuracy: 0.63080\n",
      "Epoch 14, CIFAR-10 Batch 5:  Loss: 0.68053; Validation Accuracy: 0.63120\n",
      "Epoch 15, CIFAR-10 Batch 1:  Loss: 0.76189; Validation Accuracy: 0.62200\n",
      "Epoch 15, CIFAR-10 Batch 2:  Loss: 0.70440; Validation Accuracy: 0.62720\n",
      "Epoch 15, CIFAR-10 Batch 3:  Loss: 0.56865; Validation Accuracy: 0.63940\n",
      "Epoch 15, CIFAR-10 Batch 4:  Loss: 0.75529; Validation Accuracy: 0.63340\n",
      "Epoch 15, CIFAR-10 Batch 5:  Loss: 0.63136; Validation Accuracy: 0.62540\n",
      "Epoch 16, CIFAR-10 Batch 1:  Loss: 0.72595; Validation Accuracy: 0.63280\n",
      "Epoch 16, CIFAR-10 Batch 2:  Loss: 0.68744; Validation Accuracy: 0.64740\n",
      "Epoch 16, CIFAR-10 Batch 3:  Loss: 0.55100; Validation Accuracy: 0.63760\n",
      "Epoch 16, CIFAR-10 Batch 4:  Loss: 0.72273; Validation Accuracy: 0.63700\n",
      "Epoch 16, CIFAR-10 Batch 5:  Loss: 0.54989; Validation Accuracy: 0.64620\n",
      "Epoch 17, CIFAR-10 Batch 1:  Loss: 0.63458; Validation Accuracy: 0.63380\n",
      "Epoch 17, CIFAR-10 Batch 2:  Loss: 0.68008; Validation Accuracy: 0.64040\n",
      "Epoch 17, CIFAR-10 Batch 3:  Loss: 0.52070; Validation Accuracy: 0.63560\n",
      "Epoch 17, CIFAR-10 Batch 4:  Loss: 0.72764; Validation Accuracy: 0.63860\n",
      "Epoch 17, CIFAR-10 Batch 5:  Loss: 0.60289; Validation Accuracy: 0.64020\n",
      "Epoch 18, CIFAR-10 Batch 1:  Loss: 0.61761; Validation Accuracy: 0.64840\n",
      "Epoch 18, CIFAR-10 Batch 2:  Loss: 0.63899; Validation Accuracy: 0.65680\n",
      "Epoch 18, CIFAR-10 Batch 3:  Loss: 0.49714; Validation Accuracy: 0.64080\n",
      "Epoch 18, CIFAR-10 Batch 4:  Loss: 0.67130; Validation Accuracy: 0.64480\n",
      "Epoch 18, CIFAR-10 Batch 5:  Loss: 0.53404; Validation Accuracy: 0.64700\n",
      "Epoch 19, CIFAR-10 Batch 1:  Loss: 0.61707; Validation Accuracy: 0.64900\n",
      "Epoch 19, CIFAR-10 Batch 2:  Loss: 0.59705; Validation Accuracy: 0.65520\n",
      "Epoch 19, CIFAR-10 Batch 3:  Loss: 0.45182; Validation Accuracy: 0.65880\n",
      "Epoch 19, CIFAR-10 Batch 4:  Loss: 0.66216; Validation Accuracy: 0.63980\n",
      "Epoch 19, CIFAR-10 Batch 5:  Loss: 0.49567; Validation Accuracy: 0.65100\n",
      "Epoch 20, CIFAR-10 Batch 1:  Loss: 0.59094; Validation Accuracy: 0.65800\n",
      "Epoch 20, CIFAR-10 Batch 2:  Loss: 0.62717; Validation Accuracy: 0.66260\n",
      "Epoch 20, CIFAR-10 Batch 3:  Loss: 0.48445; Validation Accuracy: 0.65340\n",
      "Epoch 20, CIFAR-10 Batch 4:  Loss: 0.63335; Validation Accuracy: 0.66060\n",
      "Epoch 20, CIFAR-10 Batch 5:  Loss: 0.48067; Validation Accuracy: 0.66180\n",
      "Epoch 21, CIFAR-10 Batch 1:  Loss: 0.60344; Validation Accuracy: 0.66060\n",
      "Epoch 21, CIFAR-10 Batch 2:  Loss: 0.54925; Validation Accuracy: 0.66620\n",
      "Epoch 21, CIFAR-10 Batch 3:  Loss: 0.47608; Validation Accuracy: 0.66620\n",
      "Epoch 21, CIFAR-10 Batch 4:  Loss: 0.58740; Validation Accuracy: 0.66120\n",
      "Epoch 21, CIFAR-10 Batch 5:  Loss: 0.47059; Validation Accuracy: 0.65900\n",
      "Epoch 22, CIFAR-10 Batch 1:  Loss: 0.53947; Validation Accuracy: 0.66480\n",
      "Epoch 22, CIFAR-10 Batch 2:  Loss: 0.66415; Validation Accuracy: 0.66720\n",
      "Epoch 22, CIFAR-10 Batch 3:  Loss: 0.51492; Validation Accuracy: 0.65280\n",
      "Epoch 22, CIFAR-10 Batch 4:  Loss: 0.58579; Validation Accuracy: 0.66800\n",
      "Epoch 22, CIFAR-10 Batch 5:  Loss: 0.42284; Validation Accuracy: 0.67020\n",
      "Epoch 23, CIFAR-10 Batch 1:  Loss: 0.51663; Validation Accuracy: 0.65200\n",
      "Epoch 23, CIFAR-10 Batch 2:  Loss: 0.50499; Validation Accuracy: 0.66720\n",
      "Epoch 23, CIFAR-10 Batch 3:  Loss: 0.38322; Validation Accuracy: 0.66880\n",
      "Epoch 23, CIFAR-10 Batch 4:  Loss: 0.58495; Validation Accuracy: 0.66180\n",
      "Epoch 23, CIFAR-10 Batch 5:  Loss: 0.44644; Validation Accuracy: 0.66620\n",
      "Epoch 24, CIFAR-10 Batch 1:  Loss: 0.48665; Validation Accuracy: 0.66700\n",
      "Epoch 24, CIFAR-10 Batch 2:  Loss: 0.51909; Validation Accuracy: 0.67760\n",
      "Epoch 24, CIFAR-10 Batch 3:  Loss: 0.39904; Validation Accuracy: 0.67340\n",
      "Epoch 24, CIFAR-10 Batch 4:  Loss: 0.66478; Validation Accuracy: 0.66020\n",
      "Epoch 24, CIFAR-10 Batch 5:  Loss: 0.42720; Validation Accuracy: 0.66060\n",
      "Epoch 25, CIFAR-10 Batch 1:  Loss: 0.49875; Validation Accuracy: 0.66580\n",
      "Epoch 25, CIFAR-10 Batch 2:  Loss: 0.57981; Validation Accuracy: 0.67400\n",
      "Epoch 25, CIFAR-10 Batch 3:  Loss: 0.38267; Validation Accuracy: 0.67340\n",
      "Epoch 25, CIFAR-10 Batch 4:  Loss: 0.52539; Validation Accuracy: 0.66880\n",
      "Epoch 25, CIFAR-10 Batch 5:  Loss: 0.37726; Validation Accuracy: 0.67240\n",
      "Epoch 26, CIFAR-10 Batch 1:  Loss: 0.48311; Validation Accuracy: 0.66500\n",
      "Epoch 26, CIFAR-10 Batch 2:  Loss: 0.45416; Validation Accuracy: 0.68500\n",
      "Epoch 26, CIFAR-10 Batch 3:  Loss: 0.34898; Validation Accuracy: 0.68200\n",
      "Epoch 26, CIFAR-10 Batch 4:  Loss: 0.54287; Validation Accuracy: 0.67520\n",
      "Epoch 26, CIFAR-10 Batch 5:  Loss: 0.36518; Validation Accuracy: 0.66740\n",
      "Epoch 27, CIFAR-10 Batch 1:  Loss: 0.41374; Validation Accuracy: 0.67540\n",
      "Epoch 27, CIFAR-10 Batch 2:  Loss: 0.44677; Validation Accuracy: 0.67880\n",
      "Epoch 27, CIFAR-10 Batch 3:  Loss: 0.36579; Validation Accuracy: 0.67960\n",
      "Epoch 27, CIFAR-10 Batch 4:  Loss: 0.49024; Validation Accuracy: 0.67660\n",
      "Epoch 27, CIFAR-10 Batch 5:  Loss: 0.34447; Validation Accuracy: 0.67260\n",
      "Epoch 28, CIFAR-10 Batch 1:  Loss: 0.42823; Validation Accuracy: 0.67360\n",
      "Epoch 28, CIFAR-10 Batch 2:  Loss: 0.40358; Validation Accuracy: 0.68380\n",
      "Epoch 28, CIFAR-10 Batch 3:  Loss: 0.36887; Validation Accuracy: 0.68240\n",
      "Epoch 28, CIFAR-10 Batch 4:  Loss: 0.47769; Validation Accuracy: 0.68900\n",
      "Epoch 28, CIFAR-10 Batch 5:  Loss: 0.35046; Validation Accuracy: 0.68080\n",
      "Epoch 29, CIFAR-10 Batch 1:  Loss: 0.43325; Validation Accuracy: 0.68660\n",
      "Epoch 29, CIFAR-10 Batch 2:  Loss: 0.44803; Validation Accuracy: 0.68640\n",
      "Epoch 29, CIFAR-10 Batch 3:  Loss: 0.36784; Validation Accuracy: 0.67940\n",
      "Epoch 29, CIFAR-10 Batch 4:  Loss: 0.45265; Validation Accuracy: 0.68040\n",
      "Epoch 29, CIFAR-10 Batch 5:  Loss: 0.38045; Validation Accuracy: 0.67180\n",
      "Epoch 30, CIFAR-10 Batch 1:  Loss: 0.39842; Validation Accuracy: 0.68340\n",
      "Epoch 30, CIFAR-10 Batch 2:  Loss: 0.40246; Validation Accuracy: 0.69140\n",
      "Epoch 30, CIFAR-10 Batch 3:  Loss: 0.29024; Validation Accuracy: 0.69100\n",
      "Epoch 30, CIFAR-10 Batch 4:  Loss: 0.43086; Validation Accuracy: 0.67900\n",
      "Epoch 30, CIFAR-10 Batch 5:  Loss: 0.32471; Validation Accuracy: 0.68620\n",
      "Epoch 31, CIFAR-10 Batch 1:  Loss: 0.42129; Validation Accuracy: 0.67900\n",
      "Epoch 31, CIFAR-10 Batch 2:  Loss: 0.40331; Validation Accuracy: 0.69040\n",
      "Epoch 31, CIFAR-10 Batch 3:  Loss: 0.29327; Validation Accuracy: 0.67660\n",
      "Epoch 31, CIFAR-10 Batch 4:  Loss: 0.42478; Validation Accuracy: 0.69300\n",
      "Epoch 31, CIFAR-10 Batch 5:  Loss: 0.29648; Validation Accuracy: 0.67980\n",
      "Epoch 32, CIFAR-10 Batch 1:  Loss: 0.36536; Validation Accuracy: 0.68000\n",
      "Epoch 32, CIFAR-10 Batch 2:  Loss: 0.36534; Validation Accuracy: 0.68800\n",
      "Epoch 32, CIFAR-10 Batch 3:  Loss: 0.29960; Validation Accuracy: 0.68120\n",
      "Epoch 32, CIFAR-10 Batch 4:  Loss: 0.39909; Validation Accuracy: 0.67880\n",
      "Epoch 32, CIFAR-10 Batch 5:  Loss: 0.29366; Validation Accuracy: 0.68220\n",
      "Epoch 33, CIFAR-10 Batch 1:  Loss: 0.36784; Validation Accuracy: 0.67600\n",
      "Epoch 33, CIFAR-10 Batch 2:  Loss: 0.35833; Validation Accuracy: 0.67940\n",
      "Epoch 33, CIFAR-10 Batch 3:  Loss: 0.27865; Validation Accuracy: 0.68000\n",
      "Epoch 33, CIFAR-10 Batch 4:  Loss: 0.35510; Validation Accuracy: 0.68920\n",
      "Epoch 33, CIFAR-10 Batch 5:  Loss: 0.26853; Validation Accuracy: 0.68580\n",
      "Epoch 34, CIFAR-10 Batch 1:  Loss: 0.31577; Validation Accuracy: 0.68620\n",
      "Epoch 34, CIFAR-10 Batch 2:  Loss: 0.33211; Validation Accuracy: 0.69460\n",
      "Epoch 34, CIFAR-10 Batch 3:  Loss: 0.26830; Validation Accuracy: 0.69240\n",
      "Epoch 34, CIFAR-10 Batch 4:  Loss: 0.33779; Validation Accuracy: 0.68940\n",
      "Epoch 34, CIFAR-10 Batch 5:  Loss: 0.26789; Validation Accuracy: 0.69020\n",
      "Epoch 35, CIFAR-10 Batch 1:  Loss: 0.34886; Validation Accuracy: 0.68640\n",
      "Epoch 35, CIFAR-10 Batch 2:  Loss: 0.35275; Validation Accuracy: 0.69520\n",
      "Epoch 35, CIFAR-10 Batch 3:  Loss: 0.25826; Validation Accuracy: 0.68320\n",
      "Epoch 35, CIFAR-10 Batch 4:  Loss: 0.35984; Validation Accuracy: 0.68520\n",
      "Epoch 35, CIFAR-10 Batch 5:  Loss: 0.26939; Validation Accuracy: 0.68600\n",
      "Epoch 36, CIFAR-10 Batch 1:  Loss: 0.36641; Validation Accuracy: 0.68200\n",
      "Epoch 36, CIFAR-10 Batch 2:  Loss: 0.33464; Validation Accuracy: 0.68900\n",
      "Epoch 36, CIFAR-10 Batch 3:  Loss: 0.24561; Validation Accuracy: 0.68400\n",
      "Epoch 36, CIFAR-10 Batch 4:  Loss: 0.36304; Validation Accuracy: 0.68140\n",
      "Epoch 36, CIFAR-10 Batch 5:  Loss: 0.25111; Validation Accuracy: 0.69320\n",
      "Epoch 37, CIFAR-10 Batch 1:  Loss: 0.31249; Validation Accuracy: 0.69400\n",
      "Epoch 37, CIFAR-10 Batch 2:  Loss: 0.32642; Validation Accuracy: 0.69020\n",
      "Epoch 37, CIFAR-10 Batch 3:  Loss: 0.27705; Validation Accuracy: 0.68660\n",
      "Epoch 37, CIFAR-10 Batch 4:  Loss: 0.29588; Validation Accuracy: 0.69780\n",
      "Epoch 37, CIFAR-10 Batch 5:  Loss: 0.29301; Validation Accuracy: 0.68820\n",
      "Epoch 38, CIFAR-10 Batch 1:  Loss: 0.31067; Validation Accuracy: 0.68640\n",
      "Epoch 38, CIFAR-10 Batch 2:  Loss: 0.31911; Validation Accuracy: 0.70300\n",
      "Epoch 38, CIFAR-10 Batch 3:  Loss: 0.22726; Validation Accuracy: 0.69140\n",
      "Epoch 38, CIFAR-10 Batch 4:  Loss: 0.29274; Validation Accuracy: 0.69580\n",
      "Epoch 38, CIFAR-10 Batch 5:  Loss: 0.24336; Validation Accuracy: 0.69460\n",
      "Epoch 39, CIFAR-10 Batch 1:  Loss: 0.33086; Validation Accuracy: 0.70200\n",
      "Epoch 39, CIFAR-10 Batch 2:  Loss: 0.30972; Validation Accuracy: 0.70220\n",
      "Epoch 39, CIFAR-10 Batch 3:  Loss: 0.17066; Validation Accuracy: 0.68920\n",
      "Epoch 39, CIFAR-10 Batch 4:  Loss: 0.27376; Validation Accuracy: 0.69700\n",
      "Epoch 39, CIFAR-10 Batch 5:  Loss: 0.26552; Validation Accuracy: 0.69060\n",
      "Epoch 40, CIFAR-10 Batch 1:  Loss: 0.27633; Validation Accuracy: 0.69480\n",
      "Epoch 40, CIFAR-10 Batch 2:  Loss: 0.31218; Validation Accuracy: 0.69560\n",
      "Epoch 40, CIFAR-10 Batch 3:  Loss: 0.22140; Validation Accuracy: 0.68680\n",
      "Epoch 40, CIFAR-10 Batch 4:  Loss: 0.31412; Validation Accuracy: 0.69600\n",
      "Epoch 40, CIFAR-10 Batch 5:  Loss: 0.23841; Validation Accuracy: 0.69420\n",
      "Epoch 41, CIFAR-10 Batch 1:  Loss: 0.28704; Validation Accuracy: 0.69620\n",
      "Epoch 41, CIFAR-10 Batch 2:  Loss: 0.29126; Validation Accuracy: 0.68880\n",
      "Epoch 41, CIFAR-10 Batch 3:  Loss: 0.16605; Validation Accuracy: 0.69980\n",
      "Epoch 41, CIFAR-10 Batch 4:  Loss: 0.28284; Validation Accuracy: 0.69080\n",
      "Epoch 41, CIFAR-10 Batch 5:  Loss: 0.22521; Validation Accuracy: 0.69700\n",
      "Epoch 42, CIFAR-10 Batch 1:  Loss: 0.31129; Validation Accuracy: 0.70200\n",
      "Epoch 42, CIFAR-10 Batch 2:  Loss: 0.26544; Validation Accuracy: 0.69760\n",
      "Epoch 42, CIFAR-10 Batch 3:  Loss: 0.19699; Validation Accuracy: 0.69280\n",
      "Epoch 42, CIFAR-10 Batch 4:  Loss: 0.29535; Validation Accuracy: 0.70200\n",
      "Epoch 42, CIFAR-10 Batch 5:  Loss: 0.21840; Validation Accuracy: 0.69440\n",
      "Epoch 43, CIFAR-10 Batch 1:  Loss: 0.26454; Validation Accuracy: 0.69640\n",
      "Epoch 43, CIFAR-10 Batch 2:  Loss: 0.28628; Validation Accuracy: 0.69740\n",
      "Epoch 43, CIFAR-10 Batch 3:  Loss: 0.23355; Validation Accuracy: 0.69780\n",
      "Epoch 43, CIFAR-10 Batch 4:  Loss: 0.27974; Validation Accuracy: 0.70100\n",
      "Epoch 43, CIFAR-10 Batch 5:  Loss: 0.21015; Validation Accuracy: 0.70040\n",
      "Epoch 44, CIFAR-10 Batch 1:  Loss: 0.28913; Validation Accuracy: 0.69400\n",
      "Epoch 44, CIFAR-10 Batch 2:  Loss: 0.28823; Validation Accuracy: 0.69720\n",
      "Epoch 44, CIFAR-10 Batch 3:  Loss: 0.19734; Validation Accuracy: 0.69640\n",
      "Epoch 44, CIFAR-10 Batch 4:  Loss: 0.28208; Validation Accuracy: 0.70100\n",
      "Epoch 44, CIFAR-10 Batch 5:  Loss: 0.24714; Validation Accuracy: 0.70280\n",
      "Epoch 45, CIFAR-10 Batch 1:  Loss: 0.26783; Validation Accuracy: 0.70160\n",
      "Epoch 45, CIFAR-10 Batch 2:  Loss: 0.26871; Validation Accuracy: 0.69140\n",
      "Epoch 45, CIFAR-10 Batch 3:  Loss: 0.15116; Validation Accuracy: 0.69480\n",
      "Epoch 45, CIFAR-10 Batch 4:  Loss: 0.27475; Validation Accuracy: 0.69900\n",
      "Epoch 45, CIFAR-10 Batch 5:  Loss: 0.21957; Validation Accuracy: 0.70040\n"
     ]
    }
   ],
   "source": [
    "\"\"\"\n",
    "DON'T MODIFY ANYTHING IN THIS CELL\n",
    "\"\"\"\n",
    "save_model_path = './image_classification'\n",
    "\n",
    "print('Training...')\n",
    "with tf.Session() as sess:\n",
    "    # Initializing the variables\n",
    "    sess.run(tf.global_variables_initializer())\n",
    "    \n",
    "    # Training cycle\n",
    "    for epoch in range(epochs):\n",
    "        # Loop over all batches\n",
    "        n_batches = 5\n",
    "        for batch_i in range(1, n_batches + 1):\n",
    "            for batch_features, batch_labels in helper.load_preprocess_training_batch(batch_i, batch_size):\n",
    "                train_neural_network(sess, optimizer, keep_probability, batch_features, batch_labels)\n",
    "            print('Epoch {:>2}, CIFAR-10 Batch {}:  '.format(epoch + 1, batch_i), end='')\n",
    "            print_stats(sess, batch_features, batch_labels, cost, accuracy)\n",
    "            \n",
    "    # Save Model\n",
    "    saver = tf.train.Saver()\n",
    "    save_path = saver.save(sess, save_model_path)"
   ]
  },
  {
   "cell_type": "markdown",
   "metadata": {},
   "source": [
    "# Checkpoint\n",
    "The model has been saved to disk.\n",
    "## Test Model\n",
    "Test the model against the test dataset.  This will be our final accuracy."
   ]
  },
  {
   "cell_type": "code",
   "execution_count": 132,
   "metadata": {},
   "outputs": [
    {
     "name": "stdout",
     "output_type": "stream",
     "text": [
      "Testing Accuracy: 0.6954113924050633\n",
      "\n"
     ]
    },
    {
     "data": {
      "image/png": "[encoded data removed]",
      "text/plain": [
       "<matplotlib.figure.Figure at 0x7fb64414ee48>"
      ]
     },
     "metadata": {
      "image/png": {
       "height": 319,
       "width": 355
      }
     },
     "output_type": "display_data"
    }
   ],
   "source": [
    "\"\"\"\n",
    "DON'T MODIFY ANYTHING IN THIS CELL\n",
    "\"\"\"\n",
    "%matplotlib inline\n",
    "%config InlineBackend.figure_format = 'retina'\n",
    "\n",
    "import tensorflow as tf\n",
    "import pickle\n",
    "import helper\n",
    "import random\n",
    "\n",
    "# Set batch size if not already set\n",
    "try:\n",
    "    if batch_size:\n",
    "        pass\n",
    "except NameError:\n",
    "    batch_size = 64\n",
    "\n",
    "save_model_path = './image_classification'\n",
    "n_samples = 4\n",
    "top_n_predictions = 3\n",
    "\n",
    "def test_model():\n",
    "    \"\"\"\n",
    "    Test the saved model against the test dataset\n",
    "    \"\"\"\n",
    "\n",
    "    test_features, test_labels = pickle.load(open('preprocess_test.p', mode='rb'))\n",
    "    loaded_graph = tf.Graph()\n",
    "\n",
    "    with tf.Session(graph=loaded_graph) as sess:\n",
    "        # Load model\n",
    "        loader = tf.train.import_meta_graph(save_model_path + '.meta')\n",
    "        loader.restore(sess, save_model_path)\n",
    "\n",
    "        # Get Tensors from loaded model\n",
    "        loaded_x = loaded_graph.get_tensor_by_name('x:0')\n",
    "        loaded_y = loaded_graph.get_tensor_by_name('y:0')\n",
    "        loaded_keep_prob = loaded_graph.get_tensor_by_name('keep_prob:0')\n",
    "        loaded_logits = loaded_graph.get_tensor_by_name('logits:0')\n",
    "        loaded_acc = loaded_graph.get_tensor_by_name('accuracy:0')\n",
    "        \n",
    "        # Get accuracy in batches for memory limitations\n",
    "        test_batch_acc_total = 0\n",
    "        test_batch_count = 0\n",
    "        \n",
    "        for test_feature_batch, test_label_batch in helper.batch_features_labels(test_features, test_labels, batch_size):\n",
    "            test_batch_acc_total += sess.run(\n",
    "                loaded_acc,\n",
    "                feed_dict={loaded_x: test_feature_batch, loaded_y: test_label_batch, loaded_keep_prob: 1.0})\n",
    "            test_batch_count += 1\n",
    "\n",
    "        print('Testing Accuracy: {}\\n'.format(test_batch_acc_total/test_batch_count))\n",
    "\n",
    "        # Print Random Samples\n",
    "        random_test_features, random_test_labels = tuple(zip(*random.sample(list(zip(test_features, test_labels)), n_samples)))\n",
    "        random_test_predictions = sess.run(\n",
    "            tf.nn.top_k(tf.nn.softmax(loaded_logits), top_n_predictions),\n",
    "            feed_dict={loaded_x: random_test_features, loaded_y: random_test_labels, loaded_keep_prob: 1.0})\n",
    "        helper.display_image_predictions(random_test_features, random_test_labels, random_test_predictions)\n",
    "\n",
    "\n",
    "test_model()"
   ]
  },
  {
   "cell_type": "markdown",
   "metadata": {},
   "source": [
    "## Why 50-80% Accuracy?\n",
    "You might be wondering why I can't get an accuracy any higher. First things first, 50% isn't bad for a simple CNN.  Pure guessing would get us 10% accuracy. However, you might notice people are getting scores [well above 80%](http://rodrigob.github.io/are_we_there_yet/build/classification_datasets_results.html#43494641522d3130).  That's because I haven't learned all there is about neural networks. I will update the net after I learned more techniques"
   ]
  }
 ],
 "metadata": {
  "kernelspec": {
   "display_name": "Python 3",
   "language": "python",
   "name": "python3"
  },
  "language_info": {
   "codemirror_mode": {
    "name": "ipython",
    "version": 3
   },
   "file_extension": ".py",
   "mimetype": "text/x-python",
   "name": "python",
   "nbconvert_exporter": "python",
   "pygments_lexer": "ipython3",
   "version": "3.5.3"
  }
 },
 "nbformat": 4,
 "nbformat_minor": 1
}
