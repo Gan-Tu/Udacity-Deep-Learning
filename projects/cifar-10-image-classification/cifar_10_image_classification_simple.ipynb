{
 "cells": [
  {
   "cell_type": "markdown",
   "metadata": {
    "collapsed": true
   },
   "source": [
    "# Image Classification\n",
    "\n",
    "#### Author: Gan Tu\n",
    "In this project, I'll classify images from the [CIFAR-10 dataset](https://www.cs.toronto.edu/~kriz/cifar.html).  The dataset consists of airplanes, dogs, cats, and other objects. I'll preprocess the images, then train a convolutional neural network on all the samples. I first normalize the images and one-hot encode the labels. Then, I build a network with convolutional, max pooling, dropout, and fully connected layers. \n",
    "## Get the Data\n",
    "Run the following cell to download the [CIFAR-10 dataset for python](https://www.cs.toronto.edu/~kriz/cifar-10-python.tar.gz)."
   ]
  },
  {
   "cell_type": "code",
   "execution_count": 70,
   "metadata": {},
   "outputs": [
    {
     "name": "stdout",
     "output_type": "stream",
     "text": [
      "All files found!\n"
     ]
    }
   ],
   "source": [
    "\"\"\"\n",
    "DON'T MODIFY ANYTHING IN THIS CELL THAT IS BELOW THIS LINE\n",
    "\"\"\"\n",
    "from urllib.request import urlretrieve\n",
    "from os.path import isfile, isdir\n",
    "from tqdm import tqdm\n",
    "import problem_unittests as tests\n",
    "import tarfile\n",
    "\n",
    "cifar10_dataset_folder_path = 'cifar-10-batches-py'\n",
    "\n",
    "# Use Floyd's cifar-10 dataset if present\n",
    "floyd_cifar10_location = '/input/cifar-10/python.tar.gz'\n",
    "if isfile(floyd_cifar10_location):\n",
    "    tar_gz_path = floyd_cifar10_location\n",
    "else:\n",
    "    tar_gz_path = 'cifar-10-python.tar.gz'\n",
    "\n",
    "class DLProgress(tqdm):\n",
    "    last_block = 0\n",
    "\n",
    "    def hook(self, block_num=1, block_size=1, total_size=None):\n",
    "        self.total = total_size\n",
    "        self.update((block_num - self.last_block) * block_size)\n",
    "        self.last_block = block_num\n",
    "\n",
    "if not isfile(tar_gz_path):\n",
    "    with DLProgress(unit='B', unit_scale=True, miniters=1, desc='CIFAR-10 Dataset') as pbar:\n",
    "        urlretrieve(\n",
    "            'https://www.cs.toronto.edu/~kriz/cifar-10-python.tar.gz',\n",
    "            tar_gz_path,\n",
    "            pbar.hook)\n",
    "\n",
    "if not isdir(cifar10_dataset_folder_path):\n",
    "    with tarfile.open(tar_gz_path) as tar:\n",
    "        tar.extractall()\n",
    "        tar.close()\n",
    "\n",
    "\n",
    "tests.test_folder_path(cifar10_dataset_folder_path)"
   ]
  },
  {
   "cell_type": "markdown",
   "metadata": {},
   "source": [
    "## Explore the Data\n",
    "The dataset is broken into batches to prevent your machine from running out of memory.  The CIFAR-10 dataset consists of 5 batches, named `data_batch_1`, `data_batch_2`, etc.. Each batch contains the labels and images that are one of the following:\n",
    "* airplane\n",
    "* automobile\n",
    "* bird\n",
    "* cat\n",
    "* deer\n",
    "* dog\n",
    "* frog\n",
    "* horse\n",
    "* ship\n",
    "* truck\n",
    "\n",
    "Understanding a dataset is part of making predictions on the data.  Feel free to play around with the code cell below by changing the `batch_id` and `sample_id`. The `batch_id` is the id for a batch (1-5). The `sample_id` is the id for a image and label pair in the batch."
   ]
  },
  {
   "cell_type": "code",
   "execution_count": 71,
   "metadata": {},
   "outputs": [
    {
     "name": "stdout",
     "output_type": "stream",
     "text": [
      "\n",
      "Stats of batch 1:\n",
      "Samples: 10000\n",
      "Label Counts: {0: 1005, 1: 974, 2: 1032, 3: 1016, 4: 999, 5: 937, 6: 1030, 7: 1001, 8: 1025, 9: 981}\n",
      "First 20 Labels: [6, 9, 9, 4, 1, 1, 2, 7, 8, 3, 4, 7, 7, 2, 9, 9, 9, 3, 2, 6]\n",
      "\n",
      "Example of Image 5:\n",
      "Image - Min Value: 0 Max Value: 252\n",
      "Image - Shape: (32, 32, 3)\n",
      "Label - Label Id: 1 Name: automobile\n"
     ]
    },
    {
     "data": {
      "image/png": "[encoded data removed]",
      "text/plain": [
       "<matplotlib.figure.Figure at 0x7fa2058e4da0>"
      ]
     },
     "metadata": {
      "image/png": {
       "height": 250,
       "width": 253
      }
     },
     "output_type": "display_data"
    }
   ],
   "source": [
    "%matplotlib inline\n",
    "%config InlineBackend.figure_format = 'retina'\n",
    "\n",
    "import helper\n",
    "import numpy as np\n",
    "\n",
    "# Explore the dataset\n",
    "batch_id = 1\n",
    "sample_id = 5\n",
    "helper.display_stats(cifar10_dataset_folder_path, batch_id, sample_id)"
   ]
  },
  {
   "cell_type": "markdown",
   "metadata": {},
   "source": [
    "## Implement Preprocess Functions\n",
    "### Normalize\n",
    "In the cell below, the `normalize` function takes in image data, `x`, and return it as a normalized Numpy array. The values are in the range of 0 to 1, inclusive.  The return object is the same shape as `x`."
   ]
  },
  {
   "cell_type": "code",
   "execution_count": 73,
   "metadata": {},
   "outputs": [
    {
     "name": "stdout",
     "output_type": "stream",
     "text": [
      "Tests Passed\n"
     ]
    }
   ],
   "source": [
    "def normalize(x):\n",
    "    \"\"\"\n",
    "    Normalize a list of sample image data in the range of 0 to 1\n",
    "    : x: List of image data.  The image shape is (32, 32, 3)\n",
    "    : return: Numpy array of normalize data\n",
    "    \"\"\"\n",
    "    return x / 255\n",
    "\n",
    "\n",
    "\"\"\"\n",
    "DON'T MODIFY ANYTHING IN THIS CELL THAT IS BELOW THIS LINE\n",
    "\"\"\"\n",
    "tests.test_normalize(normalize)"
   ]
  },
  {
   "cell_type": "markdown",
   "metadata": {},
   "source": [
    "### One-hot encode\n",
    "This is preprocessing function `one_hot_encode`. The input, `x`, are a list of labels.  The function returns the list of labels as One-Hot encoded Numpy array.  The possible values for labels are 0 to 9. The one-hot encoding function returns the same encoding for each value between each call to `one_hot_encode`."
   ]
  },
  {
   "cell_type": "code",
   "execution_count": 74,
   "metadata": {},
   "outputs": [
    {
     "name": "stdout",
     "output_type": "stream",
     "text": [
      "Tests Passed\n"
     ]
    }
   ],
   "source": [
    "# Mapping of encodings\n",
    "encoding_map = dict()\n",
    "for i in range(10):\n",
    "    encoding_map[i] = np.zeros(10)\n",
    "    encoding_map[i][i] = 1\n",
    "    \n",
    "def one_hot_encode(x):\n",
    "    \"\"\"\n",
    "    One hot encode a list of sample labels. Return a one-hot encoded vector for each label.\n",
    "    : x: List of sample Labels\n",
    "    : return: Numpy array of one-hot encoded labels\n",
    "    \"\"\"\n",
    "    labels = list()\n",
    "    for label in x:\n",
    "        labels.append(encoding_map[label])\n",
    "    return np.array(labels)\n",
    "\n",
    "\n",
    "\"\"\"\n",
    "DON'T MODIFY ANYTHING IN THIS CELL THAT IS BELOW THIS LINE\n",
    "\"\"\"\n",
    "tests.test_one_hot_encode(one_hot_encode)"
   ]
  },
  {
   "cell_type": "markdown",
   "metadata": {},
   "source": [
    "### Randomize Data\n",
    "The order of the samples are randomized already, but it doesn't hurt to randomize it again if you want."
   ]
  },
  {
   "cell_type": "markdown",
   "metadata": {},
   "source": [
    "## Preprocess all the data and save it\n",
    "The code cell below preprocesses all the CIFAR-10 data and save it to file. \n",
    "The code below also uses 10% of the training data for validation."
   ]
  },
  {
   "cell_type": "code",
   "execution_count": 75,
   "metadata": {
    "collapsed": true
   },
   "outputs": [],
   "source": [
    "\"\"\"\n",
    "DON'T MODIFY ANYTHING IN THIS CELL\n",
    "\"\"\"\n",
    "# Preprocess Training, Validation, and Testing Data\n",
    "helper.preprocess_and_save_data(cifar10_dataset_folder_path, normalize, one_hot_encode)"
   ]
  },
  {
   "cell_type": "markdown",
   "metadata": {},
   "source": [
    "# Check Point\n",
    "This is the first checkpoint.  If you ever decide to come back to this notebook or have to restart the notebook, you can start from here.  The preprocessed data has been saved to disk."
   ]
  },
  {
   "cell_type": "code",
   "execution_count": 1,
   "metadata": {},
   "outputs": [],
   "source": [
    "\"\"\"\n",
    "DON'T MODIFY ANYTHING IN THIS CELL\n",
    "\"\"\"\n",
    "import pickle\n",
    "import problem_unittests as tests\n",
    "import helper\n",
    "\n",
    "# Load the Preprocessed Validation data\n",
    "valid_features, valid_labels = pickle.load(open('preprocess_validation.p', mode='rb'))"
   ]
  },
  {
   "cell_type": "markdown",
   "metadata": {},
   "source": [
    "## Build the network\n",
    "For the neural network, I'll build each layer into a function.  \n",
    "\n",
    "### Input\n",
    "The neural network needs to read the image data, one-hot encoded labels, and dropout keep probability. \n",
    "\n",
    "Note: `None` for shapes in TensorFlow allow for a dynamic size."
   ]
  },
  {
   "cell_type": "code",
   "execution_count": 2,
   "metadata": {},
   "outputs": [
    {
     "name": "stdout",
     "output_type": "stream",
     "text": [
      "Image Input Tests Passed.\n",
      "Label Input Tests Passed.\n",
      "Keep Prob Tests Passed.\n"
     ]
    }
   ],
   "source": [
    "import tensorflow as tf\n",
    "\n",
    "def neural_net_image_input(image_shape):\n",
    "    \"\"\"\n",
    "    Return a Tensor for a batch of image input\n",
    "    : image_shape: Shape of the images\n",
    "    : return: Tensor for image input.\n",
    "    \"\"\"\n",
    "    return tf.placeholder(tf.float32, shape=(None, *image_shape), name=\"x\")\n",
    "\n",
    "\n",
    "def neural_net_label_input(n_classes):\n",
    "    \"\"\"\n",
    "    Return a Tensor for a batch of label input\n",
    "    : n_classes: Number of classes\n",
    "    : return: Tensor for label input.\n",
    "    \"\"\"\n",
    "    return tf.placeholder(tf.float32, shape=[None, n_classes], name=\"y\")\n",
    "\n",
    "\n",
    "def neural_net_keep_prob_input():\n",
    "    \"\"\"\n",
    "    Return a Tensor for keep probability\n",
    "    : return: Tensor for keep probability.\n",
    "    \"\"\"\n",
    "    return tf.placeholder(tf.float32, name=\"keep_prob\")\n",
    "\n",
    "\n",
    "\"\"\"\n",
    "DON'T MODIFY ANYTHING IN THIS CELL THAT IS BELOW THIS LINE\n",
    "\"\"\"\n",
    "tf.reset_default_graph()\n",
    "tests.test_nn_image_inputs(neural_net_image_input)\n",
    "tests.test_nn_label_inputs(neural_net_label_input)\n",
    "tests.test_nn_keep_prob_inputs(neural_net_keep_prob_input)"
   ]
  },
  {
   "cell_type": "markdown",
   "metadata": {},
   "source": [
    "### Convolution and Max Pooling Layer\n",
    "The function `conv2d_maxpool` applies convolution then max pooling:\n",
    "\n",
    "**Note:** I **won't** use [TensorFlow Layers](https://www.tensorflow.org/api_docs/python/tf/layers) or [TensorFlow Layers (contrib)](https://www.tensorflow.org/api_guides/python/contrib.layers) for **this** layer but TensorFlow's [Neural Network](https://www.tensorflow.org/api_docs/python/tf/nn) package. I'll use the shortcut option for all the **other** layers."
   ]
  },
  {
   "cell_type": "code",
   "execution_count": 3,
   "metadata": {},
   "outputs": [
    {
     "name": "stdout",
     "output_type": "stream",
     "text": [
      "Tests Passed\n"
     ]
    }
   ],
   "source": [
    "def conv2d_maxpool(x_tensor, conv_num_outputs, conv_ksize, conv_strides, pool_ksize, pool_strides):\n",
    "    \"\"\"\n",
    "    Apply convolution then max pooling to x_tensor\n",
    "    :param x_tensor: TensorFlow Tensor\n",
    "    :param conv_num_outputs: Number of outputs for the convolutional layer\n",
    "    :param conv_ksize: kernal size 2-D Tuple for the convolutional layer\n",
    "    :param conv_strides: Stride 2-D Tuple for convolution\n",
    "    :param pool_ksize: kernal size 2-D Tuple for pool\n",
    "    :param pool_strides: Stride 2-D Tuple for pool\n",
    "    : return: A tensor that represents convolution and max pooling of x_tensor\n",
    "    \"\"\"\n",
    "    batch_size, input_height, input_width, input_depth = x_tensor.shape\n",
    "    W = tf.Variable(tf.truncated_normal([*conv_ksize, int(input_depth), conv_num_outputs], stddev=1/tf.sqrt(float(conv_num_outputs)), dtype=tf.float32))\n",
    "    b = tf.Variable(tf.random_normal([conv_num_outputs]))\n",
    "    x = tf.nn.conv2d(x_tensor, W, strides=[1, *conv_strides, 1], padding='SAME')\n",
    "    x = tf.nn.bias_add(x, b)\n",
    "    x = tf.nn.relu(x)\n",
    "    x = tf.nn.max_pool(x, ksize=[1, *pool_ksize, 1], strides=[1, *pool_strides, 1], padding='SAME')\n",
    "    return x\n",
    "\n",
    "\n",
    "\"\"\"\n",
    "DON'T MODIFY ANYTHING IN THIS CELL THAT IS BELOW THIS LINE\n",
    "\"\"\"\n",
    "tests.test_con_pool(conv2d_maxpool)"
   ]
  },
  {
   "cell_type": "markdown",
   "metadata": {},
   "source": [
    "### Flatten Layer\n",
    "The `flatten` function changes the dimension of `x_tensor` from a 4-D tensor to a 2-D tensor.  \n",
    "The output should be the shape (*Batch Size*, *Flattened Image Size*)."
   ]
  },
  {
   "cell_type": "code",
   "execution_count": 4,
   "metadata": {},
   "outputs": [
    {
     "name": "stdout",
     "output_type": "stream",
     "text": [
      "Tests Passed\n"
     ]
    }
   ],
   "source": [
    "def flatten(x_tensor):\n",
    "    \"\"\"\n",
    "    Flatten x_tensor to (Batch Size, Flattened Image Size)\n",
    "    : x_tensor: A tensor of size (Batch Size, ...), where ... are the image dimensions.\n",
    "    : return: A tensor of size (Batch Size, Flattened Image Size).\n",
    "    \"\"\"\n",
    "    batch_size, h, w, d = x_tensor.get_shape().as_list()\n",
    "    return tf.reshape(x_tensor, shape=[-1, h * w *d])\n",
    "\n",
    "\n",
    "\"\"\"\n",
    "DON'T MODIFY ANYTHING IN THIS CELL THAT IS BELOW THIS LINE\n",
    "\"\"\"\n",
    "tests.test_flatten(flatten)"
   ]
  },
  {
   "cell_type": "markdown",
   "metadata": {},
   "source": [
    "### Fully-Connected Layer\n",
    "The `fully_conn` function applies a fully connected layer to `x_tensor` with the shape (*Batch Size*, *num_outputs*)."
   ]
  },
  {
   "cell_type": "code",
   "execution_count": 5,
   "metadata": {},
   "outputs": [
    {
     "name": "stdout",
     "output_type": "stream",
     "text": [
      "Tests Passed\n"
     ]
    }
   ],
   "source": [
    "def fully_conn(x_tensor, num_outputs):\n",
    "    \"\"\"\n",
    "    Apply a fully connected layer to x_tensor using weight and bias\n",
    "    : x_tensor: A 2-D tensor where the first dimension is batch size.\n",
    "    : num_outputs: The number of output that the new tensor should be.\n",
    "    : return: A 2-D tensor where the second dimension is num_outputs.\n",
    "    \"\"\"\n",
    "    return tf.layers.dense(x_tensor, num_outputs)\n",
    "\n",
    "\n",
    "\"\"\"\n",
    "DON'T MODIFY ANYTHING IN THIS CELL THAT IS BELOW THIS LINE\n",
    "\"\"\"\n",
    "tests.test_fully_conn(fully_conn)"
   ]
  },
  {
   "cell_type": "markdown",
   "metadata": {},
   "source": [
    "### Output Layer\n",
    "The `output` function applies a fully connected layer to `x_tensor` with the shape (*Batch Size*, *num_outputs*)."
   ]
  },
  {
   "cell_type": "code",
   "execution_count": 6,
   "metadata": {},
   "outputs": [
    {
     "name": "stdout",
     "output_type": "stream",
     "text": [
      "Tests Passed\n"
     ]
    }
   ],
   "source": [
    "def output(x_tensor, num_outputs):\n",
    "    \"\"\"\n",
    "    Apply a output layer to x_tensor using weight and bias\n",
    "    : x_tensor: A 2-D tensor where the first dimension is batch size.\n",
    "    : num_outputs: The number of output that the new tensor should be.\n",
    "    : return: A 2-D tensor where the second dimension is num_outputs.\n",
    "    \"\"\"\n",
    "    # Use Linear Activation Function\n",
    "    return tf.layers.dense(x_tensor, num_outputs, activation=None)\n",
    "\n",
    "\n",
    "\"\"\"\n",
    "DON'T MODIFY ANYTHING IN THIS CELL THAT IS BELOW THIS LINE\n",
    "\"\"\"\n",
    "tests.test_output(output)"
   ]
  },
  {
   "cell_type": "markdown",
   "metadata": {},
   "source": [
    "### Create Convolutional Model\n",
    "The function `conv_net` creates a convolutional neural network model. \n",
    "\n",
    "The function takes in a batch of images, `x`, and outputs logits."
   ]
  },
  {
   "cell_type": "code",
   "execution_count": 7,
   "metadata": {},
   "outputs": [
    {
     "name": "stdout",
     "output_type": "stream",
     "text": [
      "Neural Network Built!\n"
     ]
    }
   ],
   "source": [
    "def conv_net(x, keep_prob):\n",
    "    \"\"\"\n",
    "    Create a convolutional neural network model\n",
    "    : x: Placeholder tensor that holds image data.\n",
    "    : keep_prob: Placeholder tensor that hold dropout keep probability.\n",
    "    : return: Tensor that represents logits\n",
    "    \"\"\"\n",
    "    x = conv2d_maxpool(x, 16, (5, 5), (1, 1), (2, 2), (2, 2))\n",
    "    x = conv2d_maxpool(x, 32, (5, 5), (1, 1), (2, 2), (2, 2))\n",
    "    x = conv2d_maxpool(x, 64, (5, 5), (1, 1), (2, 2), (2, 2))\n",
    "    x = tf.nn.dropout(x, keep_prob)\n",
    "    x = flatten(x)\n",
    "    x = fully_conn(x, 256)\n",
    "    x = tf.nn.dropout(x, keep_prob)\n",
    "    x = fully_conn(x, 64)\n",
    "    x = tf.nn.dropout(x, keep_prob)\n",
    "    x = output(x, 10)\n",
    "    return x\n",
    "\n",
    "\n",
    "\"\"\"\n",
    "DON'T MODIFY ANYTHING IN THIS CELL THAT IS BELOW THIS LINE\n",
    "\"\"\"\n",
    "\n",
    "##############################\n",
    "## Build the Neural Network ##\n",
    "##############################\n",
    "\n",
    "# Remove previous weights, bias, inputs, etc..\n",
    "tf.reset_default_graph()\n",
    "\n",
    "# Inputs\n",
    "x = neural_net_image_input((32, 32, 3))\n",
    "y = neural_net_label_input(10)\n",
    "keep_prob = neural_net_keep_prob_input()\n",
    "\n",
    "# Model\n",
    "logits = conv_net(x, keep_prob)\n",
    "\n",
    "# Name logits Tensor, so that is can be loaded from disk after training\n",
    "logits = tf.identity(logits, name='logits')\n",
    "\n",
    "# Loss and Optimizer\n",
    "cost = tf.reduce_mean(tf.nn.softmax_cross_entropy_with_logits(logits=logits, labels=y))\n",
    "optimizer = tf.train.AdamOptimizer().minimize(cost)\n",
    "\n",
    "# Accuracy\n",
    "correct_pred = tf.equal(tf.argmax(logits, 1), tf.argmax(y, 1))\n",
    "accuracy = tf.reduce_mean(tf.cast(correct_pred, tf.float32), name='accuracy')\n",
    "\n",
    "tests.test_conv_net(conv_net)"
   ]
  },
  {
   "cell_type": "markdown",
   "metadata": {},
   "source": [
    "## Train the Neural Network\n",
    "### Single Optimization\n",
    "The function `train_neural_network` does a single optimization. \n",
    "\n",
    "This function will be called for each batch, so `tf.global_variables_initializer()` has already been called.\n",
    "\n",
    "Note: Nothing needs to be returned. This function is only optimizing the neural network."
   ]
  },
  {
   "cell_type": "code",
   "execution_count": 8,
   "metadata": {},
   "outputs": [
    {
     "name": "stdout",
     "output_type": "stream",
     "text": [
      "Tests Passed\n"
     ]
    }
   ],
   "source": [
    "def train_neural_network(session, optimizer, keep_probability, feature_batch, label_batch):\n",
    "    \"\"\"\n",
    "    Optimize the session on a batch of images and labels\n",
    "    : session: Current TensorFlow session\n",
    "    : optimizer: TensorFlow optimizer function\n",
    "    : keep_probability: keep probability\n",
    "    : feature_batch: Batch of Numpy image data\n",
    "    : label_batch: Batch of Numpy label data\n",
    "    \"\"\"\n",
    "    session.run(optimizer, feed_dict={x: feature_batch, y: label_batch, keep_prob: keep_probability})\n",
    "\n",
    "\"\"\"\n",
    "DON'T MODIFY ANYTHING IN THIS CELL THAT IS BELOW THIS LINE\n",
    "\"\"\"\n",
    "tests.test_train_nn(train_neural_network)"
   ]
  },
  {
   "cell_type": "markdown",
   "metadata": {},
   "source": [
    "### Show Stats\n",
    "The function `print_stats` prints loss and validation accuracy.  \n",
    "\n",
    "I use the global variables `valid_features` and `valid_labels` to calculate validation accuracy.  \n",
    "\n",
    "Use a keep probability of `1.0` to calculate the loss and validation accuracy."
   ]
  },
  {
   "cell_type": "code",
   "execution_count": 9,
   "metadata": {
    "collapsed": true
   },
   "outputs": [],
   "source": [
    "def print_stats(session, feature_batch, label_batch, cost, accuracy):\n",
    "    \"\"\"\n",
    "    Print information about loss and validation accuracy\n",
    "    : session: Current TensorFlow session\n",
    "    : feature_batch: Batch of Numpy image data\n",
    "    : label_batch: Batch of Numpy label data\n",
    "    : cost: TensorFlow cost function\n",
    "    : accuracy: TensorFlow accuracy function\n",
    "    \"\"\"\n",
    "    loss = session.run(cost, feed_dict={x: feature_batch, y: label_batch, keep_prob: 1.})\n",
    "    accuracy = session.run(accuracy, feed_dict={x: valid_features, y: valid_labels, keep_prob: 1.})\n",
    "    print(\"Loss: {0:.5f}; Validation Accuracy: {1:.5f}\".format(loss, accuracy))"
   ]
  },
  {
   "cell_type": "markdown",
   "metadata": {},
   "source": [
    "### Hyperparameters\n",
    "Tune the following parameters:\n",
    "* `epochs`: the number of iterations until the network stops learning or start overfitting\n",
    "* `batch_size`: the highest number that your machine has memory for.  \n",
    "* `keep_probability`: the probability of keeping a node using dropout"
   ]
  },
  {
   "cell_type": "code",
   "execution_count": 128,
   "metadata": {
    "collapsed": true
   },
   "outputs": [],
   "source": [
    "epochs = 30\n",
    "batch_size = 128\n",
    "keep_probability = 0.5"
   ]
  },
  {
   "cell_type": "markdown",
   "metadata": {},
   "source": [
    "### Train on a Single CIFAR-10 Batch\n",
    "Instead of training the neural network on all the CIFAR-10 batches of data, let's use a single batch. This should save time while we iterate on the model to get a better accuracy.  Once the final validation accuracy is 50% or greater, run the model on all the data in the next section."
   ]
  },
  {
   "cell_type": "code",
   "execution_count": 129,
   "metadata": {},
   "outputs": [
    {
     "name": "stdout",
     "output_type": "stream",
     "text": [
      "Checking the Training on a Single Batch...\n",
      "Epoch  1, CIFAR-10 Batch 1:  Loss: 2.23647; Validation Accuracy: 0.16820\n",
      "Epoch  2, CIFAR-10 Batch 1:  Loss: 2.18895; Validation Accuracy: 0.21760\n",
      "Epoch  3, CIFAR-10 Batch 1:  Loss: 2.17102; Validation Accuracy: 0.24020\n",
      "Epoch  4, CIFAR-10 Batch 1:  Loss: 2.14247; Validation Accuracy: 0.27760\n",
      "Epoch  5, CIFAR-10 Batch 1:  Loss: 2.06124; Validation Accuracy: 0.29400\n",
      "Epoch  6, CIFAR-10 Batch 1:  Loss: 2.01403; Validation Accuracy: 0.33220\n",
      "Epoch  7, CIFAR-10 Batch 1:  Loss: 1.91777; Validation Accuracy: 0.34140\n",
      "Epoch  8, CIFAR-10 Batch 1:  Loss: 1.92869; Validation Accuracy: 0.35280\n",
      "Epoch  9, CIFAR-10 Batch 1:  Loss: 1.87972; Validation Accuracy: 0.35560\n",
      "Epoch 10, CIFAR-10 Batch 1:  Loss: 1.85169; Validation Accuracy: 0.35600\n",
      "Epoch 11, CIFAR-10 Batch 1:  Loss: 1.80125; Validation Accuracy: 0.36460\n",
      "Epoch 12, CIFAR-10 Batch 1:  Loss: 1.76940; Validation Accuracy: 0.37420\n",
      "Epoch 13, CIFAR-10 Batch 1:  Loss: 1.75575; Validation Accuracy: 0.37860\n",
      "Epoch 14, CIFAR-10 Batch 1:  Loss: 1.67459; Validation Accuracy: 0.37900\n",
      "Epoch 15, CIFAR-10 Batch 1:  Loss: 1.69104; Validation Accuracy: 0.38940\n",
      "Epoch 16, CIFAR-10 Batch 1:  Loss: 1.59777; Validation Accuracy: 0.39680\n",
      "Epoch 17, CIFAR-10 Batch 1:  Loss: 1.62471; Validation Accuracy: 0.41340\n",
      "Epoch 18, CIFAR-10 Batch 1:  Loss: 1.63707; Validation Accuracy: 0.39940\n",
      "Epoch 19, CIFAR-10 Batch 1:  Loss: 1.50794; Validation Accuracy: 0.42480\n",
      "Epoch 20, CIFAR-10 Batch 1:  Loss: 1.54636; Validation Accuracy: 0.41060\n",
      "Epoch 21, CIFAR-10 Batch 1:  Loss: 1.45062; Validation Accuracy: 0.43120\n",
      "Epoch 22, CIFAR-10 Batch 1:  Loss: 1.43793; Validation Accuracy: 0.43360\n",
      "Epoch 23, CIFAR-10 Batch 1:  Loss: 1.36993; Validation Accuracy: 0.43920\n",
      "Epoch 24, CIFAR-10 Batch 1:  Loss: 1.31864; Validation Accuracy: 0.42880\n",
      "Epoch 25, CIFAR-10 Batch 1:  Loss: 1.36562; Validation Accuracy: 0.44480\n",
      "Epoch 26, CIFAR-10 Batch 1:  Loss: 1.38621; Validation Accuracy: 0.44660\n",
      "Epoch 27, CIFAR-10 Batch 1:  Loss: 1.29561; Validation Accuracy: 0.45460\n",
      "Epoch 28, CIFAR-10 Batch 1:  Loss: 1.31620; Validation Accuracy: 0.44140\n",
      "Epoch 29, CIFAR-10 Batch 1:  Loss: 1.25037; Validation Accuracy: 0.45820\n",
      "Epoch 30, CIFAR-10 Batch 1:  Loss: 1.21978; Validation Accuracy: 0.45800\n"
     ]
    }
   ],
   "source": [
    "\"\"\"\n",
    "DON'T MODIFY ANYTHING IN THIS CELL\n",
    "\"\"\"\n",
    "print('Checking the Training on a Single Batch...')\n",
    "with tf.Session() as sess:\n",
    "    # Initializing the variables\n",
    "    sess.run(tf.global_variables_initializer())\n",
    "    \n",
    "    # Training cycle\n",
    "    for epoch in range(epochs):\n",
    "        batch_i = 1\n",
    "        for batch_features, batch_labels in helper.load_preprocess_training_batch(batch_i, batch_size):\n",
    "            train_neural_network(sess, optimizer, keep_probability, batch_features, batch_labels)\n",
    "        print('Epoch {:>2}, CIFAR-10 Batch {}:  '.format(epoch + 1, batch_i), end='')\n",
    "        print_stats(sess, batch_features, batch_labels, cost, accuracy)"
   ]
  },
  {
   "cell_type": "markdown",
   "metadata": {},
   "source": [
    "### Fully Train the Model\n",
    "Now that we got a fair accuracy with a single CIFAR-10 batch, try it with all five batches."
   ]
  },
  {
   "cell_type": "code",
   "execution_count": 130,
   "metadata": {},
   "outputs": [
    {
     "name": "stdout",
     "output_type": "stream",
     "text": [
      "Training...\n",
      "Epoch  1, CIFAR-10 Batch 1:  Loss: 2.20250; Validation Accuracy: 0.23700\n",
      "Epoch  1, CIFAR-10 Batch 2:  Loss: 2.10460; Validation Accuracy: 0.29400\n",
      "Epoch  1, CIFAR-10 Batch 3:  Loss: 1.91529; Validation Accuracy: 0.31620\n",
      "Epoch  1, CIFAR-10 Batch 4:  Loss: 1.86288; Validation Accuracy: 0.34040\n",
      "Epoch  1, CIFAR-10 Batch 5:  Loss: 1.86855; Validation Accuracy: 0.37020\n",
      "Epoch  2, CIFAR-10 Batch 1:  Loss: 1.88802; Validation Accuracy: 0.37680\n",
      "Epoch  2, CIFAR-10 Batch 2:  Loss: 1.81299; Validation Accuracy: 0.38820\n",
      "Epoch  2, CIFAR-10 Batch 3:  Loss: 1.65688; Validation Accuracy: 0.38940\n",
      "Epoch  2, CIFAR-10 Batch 4:  Loss: 1.63262; Validation Accuracy: 0.40480\n",
      "Epoch  2, CIFAR-10 Batch 5:  Loss: 1.64511; Validation Accuracy: 0.41060\n",
      "Epoch  3, CIFAR-10 Batch 1:  Loss: 1.80204; Validation Accuracy: 0.41660\n",
      "Epoch  3, CIFAR-10 Batch 2:  Loss: 1.74857; Validation Accuracy: 0.42880\n",
      "Epoch  3, CIFAR-10 Batch 3:  Loss: 1.46975; Validation Accuracy: 0.43260\n",
      "Epoch  3, CIFAR-10 Batch 4:  Loss: 1.49875; Validation Accuracy: 0.43940\n",
      "Epoch  3, CIFAR-10 Batch 5:  Loss: 1.55224; Validation Accuracy: 0.43940\n",
      "Epoch  4, CIFAR-10 Batch 1:  Loss: 1.64291; Validation Accuracy: 0.43940\n",
      "Epoch  4, CIFAR-10 Batch 2:  Loss: 1.57384; Validation Accuracy: 0.45000\n",
      "Epoch  4, CIFAR-10 Batch 3:  Loss: 1.40208; Validation Accuracy: 0.45320\n",
      "Epoch  4, CIFAR-10 Batch 4:  Loss: 1.38283; Validation Accuracy: 0.45620\n",
      "Epoch  4, CIFAR-10 Batch 5:  Loss: 1.48562; Validation Accuracy: 0.45980\n",
      "Epoch  5, CIFAR-10 Batch 1:  Loss: 1.56826; Validation Accuracy: 0.46460\n",
      "Epoch  5, CIFAR-10 Batch 2:  Loss: 1.45054; Validation Accuracy: 0.47680\n",
      "Epoch  5, CIFAR-10 Batch 3:  Loss: 1.24079; Validation Accuracy: 0.46960\n",
      "Epoch  5, CIFAR-10 Batch 4:  Loss: 1.32137; Validation Accuracy: 0.48180\n",
      "Epoch  5, CIFAR-10 Batch 5:  Loss: 1.44465; Validation Accuracy: 0.47620\n",
      "Epoch  6, CIFAR-10 Batch 1:  Loss: 1.56176; Validation Accuracy: 0.48280\n",
      "Epoch  6, CIFAR-10 Batch 2:  Loss: 1.38546; Validation Accuracy: 0.49300\n",
      "Epoch  6, CIFAR-10 Batch 3:  Loss: 1.21688; Validation Accuracy: 0.48260\n",
      "Epoch  6, CIFAR-10 Batch 4:  Loss: 1.28511; Validation Accuracy: 0.49320\n",
      "Epoch  6, CIFAR-10 Batch 5:  Loss: 1.33293; Validation Accuracy: 0.50080\n",
      "Epoch  7, CIFAR-10 Batch 1:  Loss: 1.44603; Validation Accuracy: 0.50360\n",
      "Epoch  7, CIFAR-10 Batch 2:  Loss: 1.30125; Validation Accuracy: 0.49700\n",
      "Epoch  7, CIFAR-10 Batch 3:  Loss: 1.15979; Validation Accuracy: 0.50140\n",
      "Epoch  7, CIFAR-10 Batch 4:  Loss: 1.27283; Validation Accuracy: 0.50320\n",
      "Epoch  7, CIFAR-10 Batch 5:  Loss: 1.35238; Validation Accuracy: 0.50900\n",
      "Epoch  8, CIFAR-10 Batch 1:  Loss: 1.40751; Validation Accuracy: 0.51000\n",
      "Epoch  8, CIFAR-10 Batch 2:  Loss: 1.28078; Validation Accuracy: 0.52060\n",
      "Epoch  8, CIFAR-10 Batch 3:  Loss: 1.08014; Validation Accuracy: 0.52320\n",
      "Epoch  8, CIFAR-10 Batch 4:  Loss: 1.18400; Validation Accuracy: 0.53100\n",
      "Epoch  8, CIFAR-10 Batch 5:  Loss: 1.18793; Validation Accuracy: 0.52660\n",
      "Epoch  9, CIFAR-10 Batch 1:  Loss: 1.33465; Validation Accuracy: 0.53080\n",
      "Epoch  9, CIFAR-10 Batch 2:  Loss: 1.16561; Validation Accuracy: 0.52800\n",
      "Epoch  9, CIFAR-10 Batch 3:  Loss: 1.00947; Validation Accuracy: 0.53300\n",
      "Epoch  9, CIFAR-10 Batch 4:  Loss: 1.15347; Validation Accuracy: 0.54080\n",
      "Epoch  9, CIFAR-10 Batch 5:  Loss: 1.14187; Validation Accuracy: 0.53780\n",
      "Epoch 10, CIFAR-10 Batch 1:  Loss: 1.25628; Validation Accuracy: 0.53620\n",
      "Epoch 10, CIFAR-10 Batch 2:  Loss: 1.15996; Validation Accuracy: 0.54780\n",
      "Epoch 10, CIFAR-10 Batch 3:  Loss: 0.98553; Validation Accuracy: 0.53660\n",
      "Epoch 10, CIFAR-10 Batch 4:  Loss: 1.15963; Validation Accuracy: 0.54160\n",
      "Epoch 10, CIFAR-10 Batch 5:  Loss: 1.07475; Validation Accuracy: 0.54360\n",
      "Epoch 11, CIFAR-10 Batch 1:  Loss: 1.21426; Validation Accuracy: 0.55160\n",
      "Epoch 11, CIFAR-10 Batch 2:  Loss: 1.03039; Validation Accuracy: 0.56100\n",
      "Epoch 11, CIFAR-10 Batch 3:  Loss: 0.94779; Validation Accuracy: 0.54680\n",
      "Epoch 11, CIFAR-10 Batch 4:  Loss: 1.09695; Validation Accuracy: 0.55660\n",
      "Epoch 11, CIFAR-10 Batch 5:  Loss: 1.02306; Validation Accuracy: 0.55040\n",
      "Epoch 12, CIFAR-10 Batch 1:  Loss: 1.19690; Validation Accuracy: 0.56320\n",
      "Epoch 12, CIFAR-10 Batch 2:  Loss: 0.99272; Validation Accuracy: 0.56380\n",
      "Epoch 12, CIFAR-10 Batch 3:  Loss: 0.91416; Validation Accuracy: 0.55480\n",
      "Epoch 12, CIFAR-10 Batch 4:  Loss: 1.06159; Validation Accuracy: 0.56840\n",
      "Epoch 12, CIFAR-10 Batch 5:  Loss: 1.00312; Validation Accuracy: 0.57000\n",
      "Epoch 13, CIFAR-10 Batch 1:  Loss: 1.18454; Validation Accuracy: 0.55780\n",
      "Epoch 13, CIFAR-10 Batch 2:  Loss: 0.92642; Validation Accuracy: 0.57680\n",
      "Epoch 13, CIFAR-10 Batch 3:  Loss: 0.87379; Validation Accuracy: 0.56740\n",
      "Epoch 13, CIFAR-10 Batch 4:  Loss: 0.96286; Validation Accuracy: 0.57740\n",
      "Epoch 13, CIFAR-10 Batch 5:  Loss: 0.92817; Validation Accuracy: 0.58340\n",
      "Epoch 14, CIFAR-10 Batch 1:  Loss: 1.11171; Validation Accuracy: 0.57800\n",
      "Epoch 14, CIFAR-10 Batch 2:  Loss: 0.93140; Validation Accuracy: 0.58620\n",
      "Epoch 14, CIFAR-10 Batch 3:  Loss: 0.79678; Validation Accuracy: 0.56960\n",
      "Epoch 14, CIFAR-10 Batch 4:  Loss: 0.90401; Validation Accuracy: 0.58880\n",
      "Epoch 14, CIFAR-10 Batch 5:  Loss: 0.87772; Validation Accuracy: 0.57900\n",
      "Epoch 15, CIFAR-10 Batch 1:  Loss: 1.07007; Validation Accuracy: 0.58800\n",
      "Epoch 15, CIFAR-10 Batch 2:  Loss: 0.84293; Validation Accuracy: 0.58960\n",
      "Epoch 15, CIFAR-10 Batch 3:  Loss: 0.73898; Validation Accuracy: 0.59300\n",
      "Epoch 15, CIFAR-10 Batch 4:  Loss: 0.88107; Validation Accuracy: 0.58820\n",
      "Epoch 15, CIFAR-10 Batch 5:  Loss: 0.80855; Validation Accuracy: 0.59160\n",
      "Epoch 16, CIFAR-10 Batch 1:  Loss: 1.01420; Validation Accuracy: 0.59900\n",
      "Epoch 16, CIFAR-10 Batch 2:  Loss: 0.86106; Validation Accuracy: 0.59560\n",
      "Epoch 16, CIFAR-10 Batch 3:  Loss: 0.76418; Validation Accuracy: 0.59640\n",
      "Epoch 16, CIFAR-10 Batch 4:  Loss: 0.87573; Validation Accuracy: 0.59960\n",
      "Epoch 16, CIFAR-10 Batch 5:  Loss: 0.75505; Validation Accuracy: 0.60700\n",
      "Epoch 17, CIFAR-10 Batch 1:  Loss: 0.95021; Validation Accuracy: 0.60220\n",
      "Epoch 17, CIFAR-10 Batch 2:  Loss: 0.83708; Validation Accuracy: 0.61220\n",
      "Epoch 17, CIFAR-10 Batch 3:  Loss: 0.64588; Validation Accuracy: 0.60120\n",
      "Epoch 17, CIFAR-10 Batch 4:  Loss: 0.82430; Validation Accuracy: 0.60600\n",
      "Epoch 17, CIFAR-10 Batch 5:  Loss: 0.72301; Validation Accuracy: 0.60860\n",
      "Epoch 18, CIFAR-10 Batch 1:  Loss: 0.96322; Validation Accuracy: 0.61420\n",
      "Epoch 18, CIFAR-10 Batch 2:  Loss: 0.80608; Validation Accuracy: 0.61380\n",
      "Epoch 18, CIFAR-10 Batch 3:  Loss: 0.64163; Validation Accuracy: 0.60200\n",
      "Epoch 18, CIFAR-10 Batch 4:  Loss: 0.70525; Validation Accuracy: 0.61780\n",
      "Epoch 18, CIFAR-10 Batch 5:  Loss: 0.68813; Validation Accuracy: 0.62100\n",
      "Epoch 19, CIFAR-10 Batch 1:  Loss: 0.89501; Validation Accuracy: 0.61740\n",
      "Epoch 19, CIFAR-10 Batch 2:  Loss: 0.75656; Validation Accuracy: 0.62260\n",
      "Epoch 19, CIFAR-10 Batch 3:  Loss: 0.59781; Validation Accuracy: 0.61620\n",
      "Epoch 19, CIFAR-10 Batch 4:  Loss: 0.74840; Validation Accuracy: 0.61280\n",
      "Epoch 19, CIFAR-10 Batch 5:  Loss: 0.65036; Validation Accuracy: 0.61980\n",
      "Epoch 20, CIFAR-10 Batch 1:  Loss: 0.90020; Validation Accuracy: 0.61960\n",
      "Epoch 20, CIFAR-10 Batch 2:  Loss: 0.71483; Validation Accuracy: 0.62300\n",
      "Epoch 20, CIFAR-10 Batch 3:  Loss: 0.52445; Validation Accuracy: 0.61680\n",
      "Epoch 20, CIFAR-10 Batch 4:  Loss: 0.79982; Validation Accuracy: 0.61820\n",
      "Epoch 20, CIFAR-10 Batch 5:  Loss: 0.65939; Validation Accuracy: 0.62280\n",
      "Epoch 21, CIFAR-10 Batch 1:  Loss: 0.87243; Validation Accuracy: 0.63080\n",
      "Epoch 21, CIFAR-10 Batch 2:  Loss: 0.71614; Validation Accuracy: 0.63140\n",
      "Epoch 21, CIFAR-10 Batch 3:  Loss: 0.54421; Validation Accuracy: 0.62620\n",
      "Epoch 21, CIFAR-10 Batch 4:  Loss: 0.67045; Validation Accuracy: 0.62140\n",
      "Epoch 21, CIFAR-10 Batch 5:  Loss: 0.59948; Validation Accuracy: 0.62560\n",
      "Epoch 22, CIFAR-10 Batch 1:  Loss: 0.81789; Validation Accuracy: 0.62900\n",
      "Epoch 22, CIFAR-10 Batch 2:  Loss: 0.59785; Validation Accuracy: 0.63720\n",
      "Epoch 22, CIFAR-10 Batch 3:  Loss: 0.51743; Validation Accuracy: 0.62760\n",
      "Epoch 22, CIFAR-10 Batch 4:  Loss: 0.67358; Validation Accuracy: 0.62740\n",
      "Epoch 22, CIFAR-10 Batch 5:  Loss: 0.58179; Validation Accuracy: 0.62320\n",
      "Epoch 23, CIFAR-10 Batch 1:  Loss: 0.79087; Validation Accuracy: 0.63300\n",
      "Epoch 23, CIFAR-10 Batch 2:  Loss: 0.63661; Validation Accuracy: 0.62700\n",
      "Epoch 23, CIFAR-10 Batch 3:  Loss: 0.52030; Validation Accuracy: 0.63760\n",
      "Epoch 23, CIFAR-10 Batch 4:  Loss: 0.66196; Validation Accuracy: 0.64060\n",
      "Epoch 23, CIFAR-10 Batch 5:  Loss: 0.54278; Validation Accuracy: 0.64600\n",
      "Epoch 24, CIFAR-10 Batch 1:  Loss: 0.76839; Validation Accuracy: 0.63740\n",
      "Epoch 24, CIFAR-10 Batch 2:  Loss: 0.59846; Validation Accuracy: 0.64060\n",
      "Epoch 24, CIFAR-10 Batch 3:  Loss: 0.46228; Validation Accuracy: 0.64540\n",
      "Epoch 24, CIFAR-10 Batch 4:  Loss: 0.65025; Validation Accuracy: 0.63420\n",
      "Epoch 24, CIFAR-10 Batch 5:  Loss: 0.50627; Validation Accuracy: 0.64180\n",
      "Epoch 25, CIFAR-10 Batch 1:  Loss: 0.72384; Validation Accuracy: 0.63460\n",
      "Epoch 25, CIFAR-10 Batch 2:  Loss: 0.54658; Validation Accuracy: 0.64220\n",
      "Epoch 25, CIFAR-10 Batch 3:  Loss: 0.46689; Validation Accuracy: 0.64620\n",
      "Epoch 25, CIFAR-10 Batch 4:  Loss: 0.64232; Validation Accuracy: 0.64560\n",
      "Epoch 25, CIFAR-10 Batch 5:  Loss: 0.49234; Validation Accuracy: 0.64960\n",
      "Epoch 26, CIFAR-10 Batch 1:  Loss: 0.70792; Validation Accuracy: 0.64640\n",
      "Epoch 26, CIFAR-10 Batch 2:  Loss: 0.55716; Validation Accuracy: 0.64720\n",
      "Epoch 26, CIFAR-10 Batch 3:  Loss: 0.38380; Validation Accuracy: 0.64860\n",
      "Epoch 26, CIFAR-10 Batch 4:  Loss: 0.54271; Validation Accuracy: 0.64480\n",
      "Epoch 26, CIFAR-10 Batch 5:  Loss: 0.47717; Validation Accuracy: 0.64460\n",
      "Epoch 27, CIFAR-10 Batch 1:  Loss: 0.68653; Validation Accuracy: 0.63680\n",
      "Epoch 27, CIFAR-10 Batch 2:  Loss: 0.50426; Validation Accuracy: 0.65040\n",
      "Epoch 27, CIFAR-10 Batch 3:  Loss: 0.44499; Validation Accuracy: 0.65500\n",
      "Epoch 27, CIFAR-10 Batch 4:  Loss: 0.63260; Validation Accuracy: 0.63960\n",
      "Epoch 27, CIFAR-10 Batch 5:  Loss: 0.47610; Validation Accuracy: 0.65180\n",
      "Epoch 28, CIFAR-10 Batch 1:  Loss: 0.67219; Validation Accuracy: 0.64060\n",
      "Epoch 28, CIFAR-10 Batch 2:  Loss: 0.52314; Validation Accuracy: 0.64540\n",
      "Epoch 28, CIFAR-10 Batch 3:  Loss: 0.41976; Validation Accuracy: 0.64460\n",
      "Epoch 28, CIFAR-10 Batch 4:  Loss: 0.52290; Validation Accuracy: 0.65200\n",
      "Epoch 28, CIFAR-10 Batch 5:  Loss: 0.42560; Validation Accuracy: 0.64620\n",
      "Epoch 29, CIFAR-10 Batch 1:  Loss: 0.65963; Validation Accuracy: 0.64740\n",
      "Epoch 29, CIFAR-10 Batch 2:  Loss: 0.48303; Validation Accuracy: 0.65680\n",
      "Epoch 29, CIFAR-10 Batch 3:  Loss: 0.39711; Validation Accuracy: 0.64820\n",
      "Epoch 29, CIFAR-10 Batch 4:  Loss: 0.52238; Validation Accuracy: 0.64500\n",
      "Epoch 29, CIFAR-10 Batch 5:  Loss: 0.41401; Validation Accuracy: 0.65820\n",
      "Epoch 30, CIFAR-10 Batch 1:  Loss: 0.64776; Validation Accuracy: 0.65360\n",
      "Epoch 30, CIFAR-10 Batch 2:  Loss: 0.47135; Validation Accuracy: 0.65000\n",
      "Epoch 30, CIFAR-10 Batch 3:  Loss: 0.35681; Validation Accuracy: 0.65340\n",
      "Epoch 30, CIFAR-10 Batch 4:  Loss: 0.50537; Validation Accuracy: 0.65520\n",
      "Epoch 30, CIFAR-10 Batch 5:  Loss: 0.44613; Validation Accuracy: 0.63680\n"
     ]
    }
   ],
   "source": [
    "\"\"\"\n",
    "DON'T MODIFY ANYTHING IN THIS CELL\n",
    "\"\"\"\n",
    "save_model_path = './image_classification'\n",
    "\n",
    "print('Training...')\n",
    "with tf.Session() as sess:\n",
    "    # Initializing the variables\n",
    "    sess.run(tf.global_variables_initializer())\n",
    "    \n",
    "    # Training cycle\n",
    "    for epoch in range(epochs):\n",
    "        # Loop over all batches\n",
    "        n_batches = 5\n",
    "        for batch_i in range(1, n_batches + 1):\n",
    "            for batch_features, batch_labels in helper.load_preprocess_training_batch(batch_i, batch_size):\n",
    "                train_neural_network(sess, optimizer, keep_probability, batch_features, batch_labels)\n",
    "            print('Epoch {:>2}, CIFAR-10 Batch {}:  '.format(epoch + 1, batch_i), end='')\n",
    "            print_stats(sess, batch_features, batch_labels, cost, accuracy)\n",
    "            \n",
    "    # Save Model\n",
    "    saver = tf.train.Saver()\n",
    "    save_path = saver.save(sess, save_model_path)"
   ]
  },
  {
   "cell_type": "markdown",
   "metadata": {},
   "source": [
    "# Checkpoint\n",
    "The model has been saved to disk.\n",
    "## Test Model\n",
    "Test the model against the test dataset.  This will be our final accuracy."
   ]
  },
  {
   "cell_type": "code",
   "execution_count": 132,
   "metadata": {},
   "outputs": [
    {
     "name": "stdout",
     "output_type": "stream",
     "text": [
      "Testing Accuracy: 0.6324169303797469\n",
      "\n"
     ]
    },
    {
     "data": {
      "image/png": "[encoded data removed]",
      "text/plain": [
       "<matplotlib.figure.Figure at 0x7fa2a4b30710>"
      ]
     },
     "metadata": {
      "image/png": {
       "height": 319,
       "width": 355
      }
     },
     "output_type": "display_data"
    }
   ],
   "source": [
    "\"\"\"\n",
    "DON'T MODIFY ANYTHING IN THIS CELL\n",
    "\"\"\"\n",
    "%matplotlib inline\n",
    "%config InlineBackend.figure_format = 'retina'\n",
    "\n",
    "import tensorflow as tf\n",
    "import pickle\n",
    "import helper\n",
    "import random\n",
    "\n",
    "# Set batch size if not already set\n",
    "try:\n",
    "    if batch_size:\n",
    "        pass\n",
    "except NameError:\n",
    "    batch_size = 64\n",
    "\n",
    "save_model_path = './image_classification'\n",
    "n_samples = 4\n",
    "top_n_predictions = 3\n",
    "\n",
    "def test_model():\n",
    "    \"\"\"\n",
    "    Test the saved model against the test dataset\n",
    "    \"\"\"\n",
    "\n",
    "    test_features, test_labels = pickle.load(open('preprocess_test.p', mode='rb'))\n",
    "    loaded_graph = tf.Graph()\n",
    "\n",
    "    with tf.Session(graph=loaded_graph) as sess:\n",
    "        # Load model\n",
    "        loader = tf.train.import_meta_graph(save_model_path + '.meta')\n",
    "        loader.restore(sess, save_model_path)\n",
    "\n",
    "        # Get Tensors from loaded model\n",
    "        loaded_x = loaded_graph.get_tensor_by_name('x:0')\n",
    "        loaded_y = loaded_graph.get_tensor_by_name('y:0')\n",
    "        loaded_keep_prob = loaded_graph.get_tensor_by_name('keep_prob:0')\n",
    "        loaded_logits = loaded_graph.get_tensor_by_name('logits:0')\n",
    "        loaded_acc = loaded_graph.get_tensor_by_name('accuracy:0')\n",
    "        \n",
    "        # Get accuracy in batches for memory limitations\n",
    "        test_batch_acc_total = 0\n",
    "        test_batch_count = 0\n",
    "        \n",
    "        for test_feature_batch, test_label_batch in helper.batch_features_labels(test_features, test_labels, batch_size):\n",
    "            test_batch_acc_total += sess.run(\n",
    "                loaded_acc,\n",
    "                feed_dict={loaded_x: test_feature_batch, loaded_y: test_label_batch, loaded_keep_prob: 1.0})\n",
    "            test_batch_count += 1\n",
    "\n",
    "        print('Testing Accuracy: {}\\n'.format(test_batch_acc_total/test_batch_count))\n",
    "\n",
    "        # Print Random Samples\n",
    "        random_test_features, random_test_labels = tuple(zip(*random.sample(list(zip(test_features, test_labels)), n_samples)))\n",
    "        random_test_predictions = sess.run(\n",
    "            tf.nn.top_k(tf.nn.softmax(loaded_logits), top_n_predictions),\n",
    "            feed_dict={loaded_x: random_test_features, loaded_y: random_test_labels, loaded_keep_prob: 1.0})\n",
    "        helper.display_image_predictions(random_test_features, random_test_labels, random_test_predictions)\n",
    "\n",
    "\n",
    "test_model()"
   ]
  },
  {
   "cell_type": "markdown",
   "metadata": {},
   "source": [
    "## Why 50-80% Accuracy?\n",
    "You might be wondering why I can't get an accuracy any higher. First things first, 50% isn't bad for a simple CNN.  Pure guessing would get us 10% accuracy. However, you might notice people are getting scores [well above 80%](http://rodrigob.github.io/are_we_there_yet/build/classification_datasets_results.html#43494641522d3130).  That's because I haven't learned all there is about neural networks. I will update the net after I learned more techniques"
   ]
  },
  {
   "cell_type": "code",
   "execution_count": null,
   "metadata": {
    "collapsed": true
   },
   "outputs": [],
   "source": []
  }
 ],
 "metadata": {
  "kernelspec": {
   "display_name": "Python 3",
   "language": "python",
   "name": "python3"
  },
  "language_info": {
   "codemirror_mode": {
    "name": "ipython",
    "version": 3
   },
   "file_extension": ".py",
   "mimetype": "text/x-python",
   "name": "python",
   "nbconvert_exporter": "python",
   "pygments_lexer": "ipython3",
   "version": "3.5.3"
  }
 },
 "nbformat": 4,
 "nbformat_minor": 1
}
