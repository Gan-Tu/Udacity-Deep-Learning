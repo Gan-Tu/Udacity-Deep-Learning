{
 "cells": [
  {
   "cell_type": "markdown",
   "metadata": {
    "collapsed": true,
    "deletable": true,
    "editable": true
   },
   "source": [
    "# Image Classification\n",
    "In this project, you'll classify images from the [CIFAR-10 dataset](https://www.cs.toronto.edu/~kriz/cifar.html).  The dataset consists of airplanes, dogs, cats, and other objects. You'll preprocess the images, then train a convolutional neural network on all the samples. The images need to be normalized and the labels need to be one-hot encoded.  You'll get to apply what you learned and build a convolutional, max pooling, dropout, and fully connected layers.  At the end, you'll get to see your neural network's predictions on the sample images.\n",
    "## Get the Data\n",
    "Run the following cell to download the [CIFAR-10 dataset for python](https://www.cs.toronto.edu/~kriz/cifar-10-python.tar.gz)."
   ]
  },
  {
   "cell_type": "code",
   "execution_count": 70,
   "metadata": {
    "collapsed": false,
    "deletable": true,
    "editable": true
   },
   "outputs": [
    {
     "name": "stdout",
     "output_type": "stream",
     "text": [
      "All files found!\n"
     ]
    }
   ],
   "source": [
    "\"\"\"\n",
    "DON'T MODIFY ANYTHING IN THIS CELL THAT IS BELOW THIS LINE\n",
    "\"\"\"\n",
    "from urllib.request import urlretrieve\n",
    "from os.path import isfile, isdir\n",
    "from tqdm import tqdm\n",
    "import problem_unittests as tests\n",
    "import tarfile\n",
    "\n",
    "cifar10_dataset_folder_path = 'cifar-10-batches-py'\n",
    "\n",
    "# Use Floyd's cifar-10 dataset if present\n",
    "floyd_cifar10_location = '/input/cifar-10/python.tar.gz'\n",
    "if isfile(floyd_cifar10_location):\n",
    "    tar_gz_path = floyd_cifar10_location\n",
    "else:\n",
    "    tar_gz_path = 'cifar-10-python.tar.gz'\n",
    "\n",
    "class DLProgress(tqdm):\n",
    "    last_block = 0\n",
    "\n",
    "    def hook(self, block_num=1, block_size=1, total_size=None):\n",
    "        self.total = total_size\n",
    "        self.update((block_num - self.last_block) * block_size)\n",
    "        self.last_block = block_num\n",
    "\n",
    "if not isfile(tar_gz_path):\n",
    "    with DLProgress(unit='B', unit_scale=True, miniters=1, desc='CIFAR-10 Dataset') as pbar:\n",
    "        urlretrieve(\n",
    "            'https://www.cs.toronto.edu/~kriz/cifar-10-python.tar.gz',\n",
    "            tar_gz_path,\n",
    "            pbar.hook)\n",
    "\n",
    "if not isdir(cifar10_dataset_folder_path):\n",
    "    with tarfile.open(tar_gz_path) as tar:\n",
    "        tar.extractall()\n",
    "        tar.close()\n",
    "\n",
    "\n",
    "tests.test_folder_path(cifar10_dataset_folder_path)"
   ]
  },
  {
   "cell_type": "markdown",
   "metadata": {
    "deletable": true,
    "editable": true
   },
   "source": [
    "## Explore the Data\n",
    "The dataset is broken into batches to prevent your machine from running out of memory.  The CIFAR-10 dataset consists of 5 batches, named `data_batch_1`, `data_batch_2`, etc.. Each batch contains the labels and images that are one of the following:\n",
    "* airplane\n",
    "* automobile\n",
    "* bird\n",
    "* cat\n",
    "* deer\n",
    "* dog\n",
    "* frog\n",
    "* horse\n",
    "* ship\n",
    "* truck\n",
    "\n",
    "Understanding a dataset is part of making predictions on the data.  Play around with the code cell below by changing the `batch_id` and `sample_id`. The `batch_id` is the id for a batch (1-5). The `sample_id` is the id for a image and label pair in the batch.\n",
    "\n",
    "Ask yourself \"What are all possible labels?\", \"What is the range of values for the image data?\", \"Are the labels in order or random?\".  Answers to questions like these will help you preprocess the data and end up with better predictions."
   ]
  },
  {
   "cell_type": "code",
   "execution_count": 71,
   "metadata": {
    "collapsed": false,
    "deletable": true,
    "editable": true
   },
   "outputs": [
    {
     "name": "stdout",
     "output_type": "stream",
     "text": [
      "\n",
      "Stats of batch 1:\n",
      "Samples: 10000\n",
      "Label Counts: {0: 1005, 1: 974, 2: 1032, 3: 1016, 4: 999, 5: 937, 6: 1030, 7: 1001, 8: 1025, 9: 981}\n",
      "First 20 Labels: [6, 9, 9, 4, 1, 1, 2, 7, 8, 3, 4, 7, 7, 2, 9, 9, 9, 3, 2, 6]\n",
      "\n",
      "Example of Image 5:\n",
      "Image - Min Value: 0 Max Value: 252\n",
      "Image - Shape: (32, 32, 3)\n",
      "Label - Label Id: 1 Name: automobile\n"
     ]
    },
    {
     "data": {
      "image/png": "[encoded data removed]",
      "text/plain": [
       "<matplotlib.figure.Figure at 0x7fa2058e4da0>"
      ]
     },
     "metadata": {
      "image/png": {
       "height": 250,
       "width": 253
      }
     },
     "output_type": "display_data"
    }
   ],
   "source": [
    "%matplotlib inline\n",
    "%config InlineBackend.figure_format = 'retina'\n",
    "\n",
    "import helper\n",
    "import numpy as np\n",
    "\n",
    "# Explore the dataset\n",
    "batch_id = 1\n",
    "sample_id = 5\n",
    "helper.display_stats(cifar10_dataset_folder_path, batch_id, sample_id)"
   ]
  },
  {
   "cell_type": "markdown",
   "metadata": {
    "deletable": true,
    "editable": true
   },
   "source": [
    "## Implement Preprocess Functions\n",
    "### Normalize\n",
    "In the cell below, implement the `normalize` function to take in image data, `x`, and return it as a normalized Numpy array. The values should be in the range of 0 to 1, inclusive.  The return object should be the same shape as `x`."
   ]
  },
  {
   "cell_type": "code",
   "execution_count": 73,
   "metadata": {
    "collapsed": false,
    "deletable": true,
    "editable": true
   },
   "outputs": [
    {
     "name": "stdout",
     "output_type": "stream",
     "text": [
      "Tests Passed\n"
     ]
    }
   ],
   "source": [
    "def normalize(x):\n",
    "    \"\"\"\n",
    "    Normalize a list of sample image data in the range of 0 to 1\n",
    "    : x: List of image data.  The image shape is (32, 32, 3)\n",
    "    : return: Numpy array of normalize data\n",
    "    \"\"\"\n",
    "    # TODO: Implement Function\n",
    "    return x / 255\n",
    "\n",
    "\n",
    "\"\"\"\n",
    "DON'T MODIFY ANYTHING IN THIS CELL THAT IS BELOW THIS LINE\n",
    "\"\"\"\n",
    "tests.test_normalize(normalize)"
   ]
  },
  {
   "cell_type": "markdown",
   "metadata": {
    "deletable": true,
    "editable": true
   },
   "source": [
    "### One-hot encode\n",
    "Just like the previous code cell, you'll be implementing a function for preprocessing.  This time, you'll implement the `one_hot_encode` function. The input, `x`, are a list of labels.  Implement the function to return the list of labels as One-Hot encoded Numpy array.  The possible values for labels are 0 to 9. The one-hot encoding function should return the same encoding for each value between each call to `one_hot_encode`.  Make sure to save the map of encodings outside the function.\n",
    "\n",
    "Hint: Don't reinvent the wheel."
   ]
  },
  {
   "cell_type": "code",
   "execution_count": 74,
   "metadata": {
    "collapsed": false,
    "deletable": true,
    "editable": true
   },
   "outputs": [
    {
     "name": "stdout",
     "output_type": "stream",
     "text": [
      "Tests Passed\n"
     ]
    }
   ],
   "source": [
    "# Mapping of encodings\n",
    "encoding_map = dict()\n",
    "for i in range(10):\n",
    "    encoding_map[i] = np.zeros(10)\n",
    "    encoding_map[i][i] = 1\n",
    "    \n",
    "def one_hot_encode(x):\n",
    "    \"\"\"\n",
    "    One hot encode a list of sample labels. Return a one-hot encoded vector for each label.\n",
    "    : x: List of sample Labels\n",
    "    : return: Numpy array of one-hot encoded labels\n",
    "    \"\"\"\n",
    "    # TODO: Implement Function\n",
    "    labels = list()\n",
    "    for label in x:\n",
    "        labels.append(encoding_map[label])\n",
    "    return np.array(labels)\n",
    "\n",
    "\n",
    "\"\"\"\n",
    "DON'T MODIFY ANYTHING IN THIS CELL THAT IS BELOW THIS LINE\n",
    "\"\"\"\n",
    "tests.test_one_hot_encode(one_hot_encode)"
   ]
  },
  {
   "cell_type": "markdown",
   "metadata": {
    "deletable": true,
    "editable": true
   },
   "source": [
    "### Randomize Data\n",
    "As you saw from exploring the data above, the order of the samples are randomized.  It doesn't hurt to randomize it again, but you don't need to for this dataset."
   ]
  },
  {
   "cell_type": "markdown",
   "metadata": {
    "deletable": true,
    "editable": true
   },
   "source": [
    "## Preprocess all the data and save it\n",
    "Running the code cell below will preprocess all the CIFAR-10 data and save it to file. The code below also uses 10% of the training data for validation."
   ]
  },
  {
   "cell_type": "code",
   "execution_count": 75,
   "metadata": {
    "collapsed": true,
    "deletable": true,
    "editable": true
   },
   "outputs": [],
   "source": [
    "\"\"\"\n",
    "DON'T MODIFY ANYTHING IN THIS CELL\n",
    "\"\"\"\n",
    "# Preprocess Training, Validation, and Testing Data\n",
    "helper.preprocess_and_save_data(cifar10_dataset_folder_path, normalize, one_hot_encode)"
   ]
  },
  {
   "cell_type": "markdown",
   "metadata": {
    "deletable": true,
    "editable": true
   },
   "source": [
    "# Check Point\n",
    "This is your first checkpoint.  If you ever decide to come back to this notebook or have to restart the notebook, you can start from here.  The preprocessed data has been saved to disk."
   ]
  },
  {
   "cell_type": "code",
   "execution_count": 76,
   "metadata": {
    "collapsed": true,
    "deletable": true,
    "editable": true
   },
   "outputs": [],
   "source": [
    "\"\"\"\n",
    "DON'T MODIFY ANYTHING IN THIS CELL\n",
    "\"\"\"\n",
    "import pickle\n",
    "import problem_unittests as tests\n",
    "import helper\n",
    "\n",
    "# Load the Preprocessed Validation data\n",
    "valid_features, valid_labels = pickle.load(open('preprocess_validation.p', mode='rb'))"
   ]
  },
  {
   "cell_type": "markdown",
   "metadata": {
    "deletable": true,
    "editable": true
   },
   "source": [
    "## Build the network\n",
    "For the neural network, you'll build each layer into a function.  Most of the code you've seen has been outside of functions. To test your code more thoroughly, we require that you put each layer in a function.  This allows us to give you better feedback and test for simple mistakes using our unittests before you submit your project.\n",
    "\n",
    ">**Note:** If you're finding it hard to dedicate enough time for this course each week, we've provided a small shortcut to this part of the project. In the next couple of problems, you'll have the option to use classes from the [TensorFlow Layers](https://www.tensorflow.org/api_docs/python/tf/layers) or [TensorFlow Layers (contrib)](https://www.tensorflow.org/api_guides/python/contrib.layers) packages to build each layer, except the layers you build in the \"Convolutional and Max Pooling Layer\" section.  TF Layers is similar to Keras's and TFLearn's abstraction to layers, so it's easy to pickup.\n",
    "\n",
    ">However, if you would like to get the most out of this course, try to solve all the problems _without_ using anything from the TF Layers packages. You **can** still use classes from other packages that happen to have the same name as ones you find in TF Layers! For example, instead of using the TF Layers version of the `conv2d` class, [tf.layers.conv2d](https://www.tensorflow.org/api_docs/python/tf/layers/conv2d), you would want to use the TF Neural Network version of `conv2d`, [tf.nn.conv2d](https://www.tensorflow.org/api_docs/python/tf/nn/conv2d). \n",
    "\n",
    "Let's begin!\n",
    "\n",
    "### Input\n",
    "The neural network needs to read the image data, one-hot encoded labels, and dropout keep probability. Implement the following functions\n",
    "* Implement `neural_net_image_input`\n",
    " * Return a [TF Placeholder](https://www.tensorflow.org/api_docs/python/tf/placeholder)\n",
    " * Set the shape using `image_shape` with batch size set to `None`.\n",
    " * Name the TensorFlow placeholder \"x\" using the TensorFlow `name` parameter in the [TF Placeholder](https://www.tensorflow.org/api_docs/python/tf/placeholder).\n",
    "* Implement `neural_net_label_input`\n",
    " * Return a [TF Placeholder](https://www.tensorflow.org/api_docs/python/tf/placeholder)\n",
    " * Set the shape using `n_classes` with batch size set to `None`.\n",
    " * Name the TensorFlow placeholder \"y\" using the TensorFlow `name` parameter in the [TF Placeholder](https://www.tensorflow.org/api_docs/python/tf/placeholder).\n",
    "* Implement `neural_net_keep_prob_input`\n",
    " * Return a [TF Placeholder](https://www.tensorflow.org/api_docs/python/tf/placeholder) for dropout keep probability.\n",
    " * Name the TensorFlow placeholder \"keep_prob\" using the TensorFlow `name` parameter in the [TF Placeholder](https://www.tensorflow.org/api_docs/python/tf/placeholder).\n",
    "\n",
    "These names will be used at the end of the project to load your saved model.\n",
    "\n",
    "Note: `None` for shapes in TensorFlow allow for a dynamic size."
   ]
  },
  {
   "cell_type": "code",
   "execution_count": 77,
   "metadata": {
    "collapsed": false,
    "deletable": true,
    "editable": true
   },
   "outputs": [
    {
     "name": "stdout",
     "output_type": "stream",
     "text": [
      "Image Input Tests Passed.\n",
      "Label Input Tests Passed.\n",
      "Keep Prob Tests Passed.\n"
     ]
    }
   ],
   "source": [
    "import tensorflow as tf\n",
    "\n",
    "def neural_net_image_input(image_shape):\n",
    "    \"\"\"\n",
    "    Return a Tensor for a batch of image input\n",
    "    : image_shape: Shape of the images\n",
    "    : return: Tensor for image input.\n",
    "    \"\"\"\n",
    "    # TODO: Implement Function\n",
    "    return tf.placeholder(tf.float32, shape=(None, *image_shape), name=\"x\")\n",
    "\n",
    "\n",
    "def neural_net_label_input(n_classes):\n",
    "    \"\"\"\n",
    "    Return a Tensor for a batch of label input\n",
    "    : n_classes: Number of classes\n",
    "    : return: Tensor for label input.\n",
    "    \"\"\"\n",
    "    # TODO: Implement Function\n",
    "    return tf.placeholder(tf.float32, shape=[None, n_classes], name=\"y\")\n",
    "\n",
    "\n",
    "def neural_net_keep_prob_input():\n",
    "    \"\"\"\n",
    "    Return a Tensor for keep probability\n",
    "    : return: Tensor for keep probability.\n",
    "    \"\"\"\n",
    "    # TODO: Implement Function\n",
    "    return tf.placeholder(tf.float32, name=\"keep_prob\")\n",
    "\n",
    "\n",
    "\"\"\"\n",
    "DON'T MODIFY ANYTHING IN THIS CELL THAT IS BELOW THIS LINE\n",
    "\"\"\"\n",
    "tf.reset_default_graph()\n",
    "tests.test_nn_image_inputs(neural_net_image_input)\n",
    "tests.test_nn_label_inputs(neural_net_label_input)\n",
    "tests.test_nn_keep_prob_inputs(neural_net_keep_prob_input)"
   ]
  },
  {
   "cell_type": "markdown",
   "metadata": {
    "deletable": true,
    "editable": true
   },
   "source": [
    "### Convolution and Max Pooling Layer\n",
    "Convolution layers have a lot of success with images. For this code cell, you should implement the function `conv2d_maxpool` to apply convolution then max pooling:\n",
    "* Create the weight and bias using `conv_ksize`, `conv_num_outputs` and the shape of `x_tensor`.\n",
    "* Apply a convolution to `x_tensor` using weight and `conv_strides`.\n",
    " * We recommend you use same padding, but you're welcome to use any padding.\n",
    "* Add bias\n",
    "* Add a nonlinear activation to the convolution.\n",
    "* Apply Max Pooling using `pool_ksize` and `pool_strides`.\n",
    " * We recommend you use same padding, but you're welcome to use any padding.\n",
    "\n",
    "**Note:** You **can't** use [TensorFlow Layers](https://www.tensorflow.org/api_docs/python/tf/layers) or [TensorFlow Layers (contrib)](https://www.tensorflow.org/api_guides/python/contrib.layers) for **this** layer, but you can still use TensorFlow's [Neural Network](https://www.tensorflow.org/api_docs/python/tf/nn) package. You may still use the shortcut option for all the **other** layers."
   ]
  },
  {
   "cell_type": "code",
   "execution_count": 78,
   "metadata": {
    "collapsed": false,
    "deletable": true,
    "editable": true
   },
   "outputs": [
    {
     "name": "stdout",
     "output_type": "stream",
     "text": [
      "Tests Passed\n"
     ]
    }
   ],
   "source": [
    "def conv2d_maxpool(x_tensor, conv_num_outputs, conv_ksize, conv_strides, pool_ksize, pool_strides):\n",
    "    \"\"\"\n",
    "    Apply convolution then max pooling to x_tensor\n",
    "    :param x_tensor: TensorFlow Tensor\n",
    "    :param conv_num_outputs: Number of outputs for the convolutional layer\n",
    "    :param conv_ksize: kernal size 2-D Tuple for the convolutional layer\n",
    "    :param conv_strides: Stride 2-D Tuple for convolution\n",
    "    :param pool_ksize: kernal size 2-D Tuple for pool\n",
    "    :param pool_strides: Stride 2-D Tuple for pool\n",
    "    : return: A tensor that represents convolution and max pooling of x_tensor\n",
    "    \"\"\"\n",
    "    # TODO: Implement Function\n",
    "    batch_size, input_height, input_width, input_depth = x_tensor.shape\n",
    "    W = tf.Variable(tf.truncated_normal([*conv_ksize, int(input_depth), conv_num_outputs], stddev=1/tf.sqrt(float(conv_num_outputs)), dtype=tf.float32))\n",
    "    b = tf.Variable(tf.random_normal([conv_num_outputs]))\n",
    "    x = tf.nn.conv2d(x_tensor, W, strides=[1, *conv_strides, 1], padding='SAME')\n",
    "    x = tf.nn.bias_add(x, b)\n",
    "    x = tf.nn.relu(x)\n",
    "    x = tf.nn.max_pool(x, ksize=[1, *pool_ksize, 1], strides=[1, *pool_strides, 1], padding='SAME')\n",
    "    return x\n",
    "\n",
    "\n",
    "\"\"\"\n",
    "DON'T MODIFY ANYTHING IN THIS CELL THAT IS BELOW THIS LINE\n",
    "\"\"\"\n",
    "tests.test_con_pool(conv2d_maxpool)"
   ]
  },
  {
   "cell_type": "markdown",
   "metadata": {
    "deletable": true,
    "editable": true
   },
   "source": [
    "### Flatten Layer\n",
    "Implement the `flatten` function to change the dimension of `x_tensor` from a 4-D tensor to a 2-D tensor.  The output should be the shape (*Batch Size*, *Flattened Image Size*). Shortcut option: you can use classes from the [TensorFlow Layers](https://www.tensorflow.org/api_docs/python/tf/layers) or [TensorFlow Layers (contrib)](https://www.tensorflow.org/api_guides/python/contrib.layers) packages for this layer. For more of a challenge, only use other TensorFlow packages."
   ]
  },
  {
   "cell_type": "code",
   "execution_count": 79,
   "metadata": {
    "collapsed": false,
    "deletable": true,
    "editable": true
   },
   "outputs": [
    {
     "name": "stdout",
     "output_type": "stream",
     "text": [
      "Tests Passed\n"
     ]
    }
   ],
   "source": [
    "def flatten(x_tensor):\n",
    "    \"\"\"\n",
    "    Flatten x_tensor to (Batch Size, Flattened Image Size)\n",
    "    : x_tensor: A tensor of size (Batch Size, ...), where ... are the image dimensions.\n",
    "    : return: A tensor of size (Batch Size, Flattened Image Size).\n",
    "    \"\"\"\n",
    "    # TODO: Implement Function\n",
    "    batch_size, h, w, d = x_tensor.get_shape().as_list()\n",
    "    return tf.reshape(x_tensor, shape=[-1, h * w *d])\n",
    "\n",
    "\n",
    "\"\"\"\n",
    "DON'T MODIFY ANYTHING IN THIS CELL THAT IS BELOW THIS LINE\n",
    "\"\"\"\n",
    "tests.test_flatten(flatten)"
   ]
  },
  {
   "cell_type": "markdown",
   "metadata": {
    "deletable": true,
    "editable": true
   },
   "source": [
    "### Fully-Connected Layer\n",
    "Implement the `fully_conn` function to apply a fully connected layer to `x_tensor` with the shape (*Batch Size*, *num_outputs*). Shortcut option: you can use classes from the [TensorFlow Layers](https://www.tensorflow.org/api_docs/python/tf/layers) or [TensorFlow Layers (contrib)](https://www.tensorflow.org/api_guides/python/contrib.layers) packages for this layer. For more of a challenge, only use other TensorFlow packages."
   ]
  },
  {
   "cell_type": "code",
   "execution_count": 80,
   "metadata": {
    "collapsed": false,
    "deletable": true,
    "editable": true
   },
   "outputs": [
    {
     "name": "stdout",
     "output_type": "stream",
     "text": [
      "Tests Passed\n"
     ]
    }
   ],
   "source": [
    "def fully_conn(x_tensor, num_outputs):\n",
    "    \"\"\"\n",
    "    Apply a fully connected layer to x_tensor using weight and bias\n",
    "    : x_tensor: A 2-D tensor where the first dimension is batch size.\n",
    "    : num_outputs: The number of output that the new tensor should be.\n",
    "    : return: A 2-D tensor where the second dimension is num_outputs.\n",
    "    \"\"\"\n",
    "    # TODO: Implement Function\n",
    "    \n",
    "    return tf.layers.dense(x_tensor, num_outputs)\n",
    "\n",
    "\n",
    "\"\"\"\n",
    "DON'T MODIFY ANYTHING IN THIS CELL THAT IS BELOW THIS LINE\n",
    "\"\"\"\n",
    "tests.test_fully_conn(fully_conn)"
   ]
  },
  {
   "cell_type": "markdown",
   "metadata": {
    "deletable": true,
    "editable": true
   },
   "source": [
    "### Output Layer\n",
    "Implement the `output` function to apply a fully connected layer to `x_tensor` with the shape (*Batch Size*, *num_outputs*). Shortcut option: you can use classes from the [TensorFlow Layers](https://www.tensorflow.org/api_docs/python/tf/layers) or [TensorFlow Layers (contrib)](https://www.tensorflow.org/api_guides/python/contrib.layers) packages for this layer. For more of a challenge, only use other TensorFlow packages.\n",
    "\n",
    "**Note:** Activation, softmax, or cross entropy should **not** be applied to this."
   ]
  },
  {
   "cell_type": "code",
   "execution_count": 81,
   "metadata": {
    "collapsed": false,
    "deletable": true,
    "editable": true
   },
   "outputs": [
    {
     "name": "stdout",
     "output_type": "stream",
     "text": [
      "Tests Passed\n"
     ]
    }
   ],
   "source": [
    "def output(x_tensor, num_outputs):\n",
    "    \"\"\"\n",
    "    Apply a output layer to x_tensor using weight and bias\n",
    "    : x_tensor: A 2-D tensor where the first dimension is batch size.\n",
    "    : num_outputs: The number of output that the new tensor should be.\n",
    "    : return: A 2-D tensor where the second dimension is num_outputs.\n",
    "    \"\"\"\n",
    "    # TODO: Implement Function\n",
    "    return tf.layers.dense(x_tensor, num_outputs, activation=None)\n",
    "\n",
    "\n",
    "\"\"\"\n",
    "DON'T MODIFY ANYTHING IN THIS CELL THAT IS BELOW THIS LINE\n",
    "\"\"\"\n",
    "tests.test_output(output)"
   ]
  },
  {
   "cell_type": "markdown",
   "metadata": {
    "deletable": true,
    "editable": true
   },
   "source": [
    "### Create Convolutional Model\n",
    "Implement the function `conv_net` to create a convolutional neural network model. The function takes in a batch of images, `x`, and outputs logits.  Use the layers you created above to create this model:\n",
    "\n",
    "* Apply 1, 2, or 3 Convolution and Max Pool layers\n",
    "* Apply a Flatten Layer\n",
    "* Apply 1, 2, or 3 Fully Connected Layers\n",
    "* Apply an Output Layer\n",
    "* Return the output\n",
    "* Apply [TensorFlow's Dropout](https://www.tensorflow.org/api_docs/python/tf/nn/dropout) to one or more layers in the model using `keep_prob`. "
   ]
  },
  {
   "cell_type": "code",
   "execution_count": 97,
   "metadata": {
    "collapsed": false,
    "deletable": true,
    "editable": true
   },
   "outputs": [
    {
     "name": "stdout",
     "output_type": "stream",
     "text": [
      "Neural Network Built!\n"
     ]
    }
   ],
   "source": [
    "def conv_net(x, keep_prob):\n",
    "    \"\"\"\n",
    "    Create a convolutional neural network model\n",
    "    : x: Placeholder tensor that holds image data.\n",
    "    : keep_prob: Placeholder tensor that hold dropout keep probability.\n",
    "    : return: Tensor that represents logits\n",
    "    \"\"\"\n",
    "    # TODO: Apply 1, 2, or 3 Convolution and Max Pool layers\n",
    "    #    Play around with different number of outputs, kernel size and stride\n",
    "    # Function Definition from Above:\n",
    "    #    conv2d_maxpool(x_tensor, conv_num_outputs, conv_ksize, conv_strides, pool_ksize, pool_strides)\n",
    "    x = conv2d_maxpool(x, 32, (5, 5), (1, 1), (2, 2), (2, 2))\n",
    "    x = conv2d_maxpool(x, 64, (5, 5), (1, 1), (2, 2), (2, 2))\n",
    "    \n",
    "    # TODO: Apply a Flatten Layer\n",
    "    # Function Definition from Above:\n",
    "    #   flatten(x_tensor)\n",
    "    x = flatten(x)\n",
    "    \n",
    "\n",
    "    # TODO: Apply 1, 2, or 3 Fully Connected Layers\n",
    "    #    Play around with different number of outputs\n",
    "    # Function Definition from Above:\n",
    "    #   fully_conn(x_tensor, num_outputs)\n",
    "    x = fully_conn(x, 128)\n",
    "    x = fully_conn(x, 64)\n",
    "    x = tf.nn.dropout(x, keep_prob)\n",
    "    \n",
    "    \n",
    "    # TODO: Apply an Output Layer\n",
    "    #    Set this to the number of classes\n",
    "    # Function Definition from Above:\n",
    "    #   output(x_tensor, num_outputs)\n",
    "    x = output(x, 10)\n",
    "\n",
    "    # TODO: return output\n",
    "    return x\n",
    "\n",
    "\n",
    "\"\"\"\n",
    "DON'T MODIFY ANYTHING IN THIS CELL THAT IS BELOW THIS LINE\n",
    "\"\"\"\n",
    "\n",
    "##############################\n",
    "## Build the Neural Network ##\n",
    "##############################\n",
    "\n",
    "# Remove previous weights, bias, inputs, etc..\n",
    "tf.reset_default_graph()\n",
    "\n",
    "# Inputs\n",
    "x = neural_net_image_input((32, 32, 3))\n",
    "y = neural_net_label_input(10)\n",
    "keep_prob = neural_net_keep_prob_input()\n",
    "\n",
    "# Model\n",
    "logits = conv_net(x, keep_prob)\n",
    "\n",
    "# Name logits Tensor, so that is can be loaded from disk after training\n",
    "logits = tf.identity(logits, name='logits')\n",
    "\n",
    "# Loss and Optimizer\n",
    "cost = tf.reduce_mean(tf.nn.softmax_cross_entropy_with_logits(logits=logits, labels=y))\n",
    "optimizer = tf.train.AdamOptimizer().minimize(cost)\n",
    "\n",
    "# Accuracy\n",
    "correct_pred = tf.equal(tf.argmax(logits, 1), tf.argmax(y, 1))\n",
    "accuracy = tf.reduce_mean(tf.cast(correct_pred, tf.float32), name='accuracy')\n",
    "\n",
    "tests.test_conv_net(conv_net)"
   ]
  },
  {
   "cell_type": "markdown",
   "metadata": {
    "deletable": true,
    "editable": true
   },
   "source": [
    "## Train the Neural Network\n",
    "### Single Optimization\n",
    "Implement the function `train_neural_network` to do a single optimization.  The optimization should use `optimizer` to optimize in `session` with a `feed_dict` of the following:\n",
    "* `x` for image input\n",
    "* `y` for labels\n",
    "* `keep_prob` for keep probability for dropout\n",
    "\n",
    "This function will be called for each batch, so `tf.global_variables_initializer()` has already been called.\n",
    "\n",
    "Note: Nothing needs to be returned. This function is only optimizing the neural network."
   ]
  },
  {
   "cell_type": "code",
   "execution_count": 98,
   "metadata": {
    "collapsed": false,
    "deletable": true,
    "editable": true
   },
   "outputs": [
    {
     "name": "stdout",
     "output_type": "stream",
     "text": [
      "Tests Passed\n"
     ]
    }
   ],
   "source": [
    "def train_neural_network(session, optimizer, keep_probability, feature_batch, label_batch):\n",
    "    \"\"\"\n",
    "    Optimize the session on a batch of images and labels\n",
    "    : session: Current TensorFlow session\n",
    "    : optimizer: TensorFlow optimizer function\n",
    "    : keep_probability: keep probability\n",
    "    : feature_batch: Batch of Numpy image data\n",
    "    : label_batch: Batch of Numpy label data\n",
    "    \"\"\"\n",
    "    # TODO: Implement Function\n",
    "    # Training cycle\n",
    "    session.run(optimizer, feed_dict={x: feature_batch, y: label_batch, keep_prob: keep_probability})\n",
    "\n",
    "\"\"\"\n",
    "DON'T MODIFY ANYTHING IN THIS CELL THAT IS BELOW THIS LINE\n",
    "\"\"\"\n",
    "tests.test_train_nn(train_neural_network)"
   ]
  },
  {
   "cell_type": "markdown",
   "metadata": {
    "deletable": true,
    "editable": true
   },
   "source": [
    "### Show Stats\n",
    "Implement the function `print_stats` to print loss and validation accuracy.  Use the global variables `valid_features` and `valid_labels` to calculate validation accuracy.  Use a keep probability of `1.0` to calculate the loss and validation accuracy."
   ]
  },
  {
   "cell_type": "code",
   "execution_count": 99,
   "metadata": {
    "collapsed": true,
    "deletable": true,
    "editable": true
   },
   "outputs": [],
   "source": [
    "def print_stats(session, feature_batch, label_batch, cost, accuracy):\n",
    "    \"\"\"\n",
    "    Print information about loss and validation accuracy\n",
    "    : session: Current TensorFlow session\n",
    "    : feature_batch: Batch of Numpy image data\n",
    "    : label_batch: Batch of Numpy label data\n",
    "    : cost: TensorFlow cost function\n",
    "    : accuracy: TensorFlow accuracy function\n",
    "    \"\"\"\n",
    "    # TODO: Implement Function\n",
    "    loss = session.run(cost, feed_dict={x: feature_batch, y: label_batch, keep_prob: 1.})\n",
    "    accuracy = session.run(accuracy, feed_dict={x: valid_features, y: valid_labels, keep_prob: 1.})\n",
    "    print(\"Loss: {0:.5f}; Validation Accuracy: {1:.5f}\".format(loss, accuracy))"
   ]
  },
  {
   "cell_type": "markdown",
   "metadata": {
    "deletable": true,
    "editable": true
   },
   "source": [
    "### Hyperparameters\n",
    "Tune the following parameters:\n",
    "* Set `epochs` to the number of iterations until the network stops learning or start overfitting\n",
    "* Set `batch_size` to the highest number that your machine has memory for.  Most people set them to common sizes of memory:\n",
    " * 64\n",
    " * 128\n",
    " * 256\n",
    " * ...\n",
    "* Set `keep_probability` to the probability of keeping a node using dropout"
   ]
  },
  {
   "cell_type": "code",
   "execution_count": 102,
   "metadata": {
    "collapsed": true,
    "deletable": true,
    "editable": true
   },
   "outputs": [],
   "source": [
    "# TODO: Tune Parameters\n",
    "epochs = 30\n",
    "batch_size = 128\n",
    "keep_probability = 0.5"
   ]
  },
  {
   "cell_type": "markdown",
   "metadata": {
    "deletable": true,
    "editable": true
   },
   "source": [
    "### Train on a Single CIFAR-10 Batch\n",
    "Instead of training the neural network on all the CIFAR-10 batches of data, let's use a single batch. This should save time while you iterate on the model to get a better accuracy.  Once the final validation accuracy is 50% or greater, run the model on all the data in the next section."
   ]
  },
  {
   "cell_type": "code",
   "execution_count": 103,
   "metadata": {
    "collapsed": false,
    "deletable": true,
    "editable": true
   },
   "outputs": [
    {
     "name": "stdout",
     "output_type": "stream",
     "text": [
      "Checking the Training on a Single Batch...\n",
      "Epoch  1, CIFAR-10 Batch 1:  Loss: 2.26728; Validation Accuracy: 0.33840\n",
      "Epoch  2, CIFAR-10 Batch 1:  Loss: 2.07592; Validation Accuracy: 0.38460\n",
      "Epoch  3, CIFAR-10 Batch 1:  Loss: 1.83603; Validation Accuracy: 0.41580\n",
      "Epoch  4, CIFAR-10 Batch 1:  Loss: 1.66397; Validation Accuracy: 0.44340\n",
      "Epoch  5, CIFAR-10 Batch 1:  Loss: 1.49719; Validation Accuracy: 0.45780\n",
      "Epoch  6, CIFAR-10 Batch 1:  Loss: 1.40507; Validation Accuracy: 0.46240\n",
      "Epoch  7, CIFAR-10 Batch 1:  Loss: 1.25909; Validation Accuracy: 0.47140\n",
      "Epoch  8, CIFAR-10 Batch 1:  Loss: 1.15839; Validation Accuracy: 0.47600\n",
      "Epoch  9, CIFAR-10 Batch 1:  Loss: 1.08362; Validation Accuracy: 0.48360\n",
      "Epoch 10, CIFAR-10 Batch 1:  Loss: 0.99408; Validation Accuracy: 0.48320\n",
      "Epoch 11, CIFAR-10 Batch 1:  Loss: 0.90409; Validation Accuracy: 0.48420\n",
      "Epoch 12, CIFAR-10 Batch 1:  Loss: 0.83029; Validation Accuracy: 0.49060\n",
      "Epoch 13, CIFAR-10 Batch 1:  Loss: 0.83756; Validation Accuracy: 0.49600\n",
      "Epoch 14, CIFAR-10 Batch 1:  Loss: 0.81161; Validation Accuracy: 0.49640\n",
      "Epoch 15, CIFAR-10 Batch 1:  Loss: 0.82581; Validation Accuracy: 0.49800\n",
      "Epoch 16, CIFAR-10 Batch 1:  Loss: 0.75769; Validation Accuracy: 0.48720\n",
      "Epoch 17, CIFAR-10 Batch 1:  Loss: 0.76362; Validation Accuracy: 0.49360\n",
      "Epoch 18, CIFAR-10 Batch 1:  Loss: 0.70853; Validation Accuracy: 0.49020\n",
      "Epoch 19, CIFAR-10 Batch 1:  Loss: 0.62219; Validation Accuracy: 0.48760\n",
      "Epoch 20, CIFAR-10 Batch 1:  Loss: 0.56594; Validation Accuracy: 0.49000\n",
      "Epoch 21, CIFAR-10 Batch 1:  Loss: 0.47788; Validation Accuracy: 0.48260\n",
      "Epoch 22, CIFAR-10 Batch 1:  Loss: 0.44836; Validation Accuracy: 0.49280\n",
      "Epoch 23, CIFAR-10 Batch 1:  Loss: 0.45532; Validation Accuracy: 0.50680\n",
      "Epoch 24, CIFAR-10 Batch 1:  Loss: 0.46231; Validation Accuracy: 0.48420\n",
      "Epoch 25, CIFAR-10 Batch 1:  Loss: 0.38722; Validation Accuracy: 0.48580\n",
      "Epoch 26, CIFAR-10 Batch 1:  Loss: 0.38409; Validation Accuracy: 0.49580\n",
      "Epoch 27, CIFAR-10 Batch 1:  Loss: 0.27283; Validation Accuracy: 0.48860\n",
      "Epoch 28, CIFAR-10 Batch 1:  Loss: 0.23049; Validation Accuracy: 0.48240\n",
      "Epoch 29, CIFAR-10 Batch 1:  Loss: 0.16783; Validation Accuracy: 0.47940\n",
      "Epoch 30, CIFAR-10 Batch 1:  Loss: 0.15972; Validation Accuracy: 0.48840\n"
     ]
    }
   ],
   "source": [
    "\"\"\"\n",
    "DON'T MODIFY ANYTHING IN THIS CELL\n",
    "\"\"\"\n",
    "print('Checking the Training on a Single Batch...')\n",
    "with tf.Session() as sess:\n",
    "    # Initializing the variables\n",
    "    sess.run(tf.global_variables_initializer())\n",
    "    \n",
    "    # Training cycle\n",
    "    for epoch in range(epochs):\n",
    "        batch_i = 1\n",
    "        for batch_features, batch_labels in helper.load_preprocess_training_batch(batch_i, batch_size):\n",
    "            train_neural_network(sess, optimizer, keep_probability, batch_features, batch_labels)\n",
    "        print('Epoch {:>2}, CIFAR-10 Batch {}:  '.format(epoch + 1, batch_i), end='')\n",
    "        print_stats(sess, batch_features, batch_labels, cost, accuracy)"
   ]
  },
  {
   "cell_type": "markdown",
   "metadata": {
    "deletable": true,
    "editable": true
   },
   "source": [
    "### Fully Train the Model\n",
    "Now that you got a good accuracy with a single CIFAR-10 batch, try it with all five batches."
   ]
  },
  {
   "cell_type": "code",
   "execution_count": 104,
   "metadata": {
    "collapsed": false,
    "deletable": true,
    "editable": true
   },
   "outputs": [
    {
     "name": "stdout",
     "output_type": "stream",
     "text": [
      "Training...\n",
      "Epoch  1, CIFAR-10 Batch 1:  Loss: 2.10978; Validation Accuracy: 0.25980\n",
      "Epoch  1, CIFAR-10 Batch 2:  Loss: 1.95144; Validation Accuracy: 0.32420\n",
      "Epoch  1, CIFAR-10 Batch 3:  Loss: 1.75905; Validation Accuracy: 0.37180\n",
      "Epoch  1, CIFAR-10 Batch 4:  Loss: 1.59539; Validation Accuracy: 0.40040\n",
      "Epoch  1, CIFAR-10 Batch 5:  Loss: 1.73914; Validation Accuracy: 0.42240\n",
      "Epoch  2, CIFAR-10 Batch 1:  Loss: 1.79443; Validation Accuracy: 0.42720\n",
      "Epoch  2, CIFAR-10 Batch 2:  Loss: 1.63544; Validation Accuracy: 0.43220\n",
      "Epoch  2, CIFAR-10 Batch 3:  Loss: 1.50440; Validation Accuracy: 0.44040\n",
      "Epoch  2, CIFAR-10 Batch 4:  Loss: 1.41334; Validation Accuracy: 0.45960\n",
      "Epoch  2, CIFAR-10 Batch 5:  Loss: 1.57724; Validation Accuracy: 0.47420\n",
      "Epoch  3, CIFAR-10 Batch 1:  Loss: 1.60828; Validation Accuracy: 0.46900\n",
      "Epoch  3, CIFAR-10 Batch 2:  Loss: 1.45042; Validation Accuracy: 0.47800\n",
      "Epoch  3, CIFAR-10 Batch 3:  Loss: 1.44856; Validation Accuracy: 0.47840\n",
      "Epoch  3, CIFAR-10 Batch 4:  Loss: 1.33162; Validation Accuracy: 0.48560\n",
      "Epoch  3, CIFAR-10 Batch 5:  Loss: 1.44552; Validation Accuracy: 0.50100\n",
      "Epoch  4, CIFAR-10 Batch 1:  Loss: 1.48103; Validation Accuracy: 0.50740\n",
      "Epoch  4, CIFAR-10 Batch 2:  Loss: 1.29398; Validation Accuracy: 0.49280\n",
      "Epoch  4, CIFAR-10 Batch 3:  Loss: 1.19434; Validation Accuracy: 0.51960\n",
      "Epoch  4, CIFAR-10 Batch 4:  Loss: 1.22551; Validation Accuracy: 0.52620\n",
      "Epoch  4, CIFAR-10 Batch 5:  Loss: 1.32468; Validation Accuracy: 0.52080\n",
      "Epoch  5, CIFAR-10 Batch 1:  Loss: 1.33874; Validation Accuracy: 0.52280\n",
      "Epoch  5, CIFAR-10 Batch 2:  Loss: 1.17667; Validation Accuracy: 0.52780\n",
      "Epoch  5, CIFAR-10 Batch 3:  Loss: 1.04918; Validation Accuracy: 0.53100\n",
      "Epoch  5, CIFAR-10 Batch 4:  Loss: 1.14381; Validation Accuracy: 0.54320\n",
      "Epoch  5, CIFAR-10 Batch 5:  Loss: 1.22797; Validation Accuracy: 0.54900\n",
      "Epoch  6, CIFAR-10 Batch 1:  Loss: 1.28801; Validation Accuracy: 0.54140\n",
      "Epoch  6, CIFAR-10 Batch 2:  Loss: 1.09620; Validation Accuracy: 0.54020\n",
      "Epoch  6, CIFAR-10 Batch 3:  Loss: 0.90574; Validation Accuracy: 0.55600\n",
      "Epoch  6, CIFAR-10 Batch 4:  Loss: 1.04792; Validation Accuracy: 0.55900\n",
      "Epoch  6, CIFAR-10 Batch 5:  Loss: 1.12483; Validation Accuracy: 0.56580\n",
      "Epoch  7, CIFAR-10 Batch 1:  Loss: 1.17730; Validation Accuracy: 0.55500\n",
      "Epoch  7, CIFAR-10 Batch 2:  Loss: 1.04336; Validation Accuracy: 0.56400\n",
      "Epoch  7, CIFAR-10 Batch 3:  Loss: 0.86130; Validation Accuracy: 0.57060\n",
      "Epoch  7, CIFAR-10 Batch 4:  Loss: 0.97739; Validation Accuracy: 0.56840\n",
      "Epoch  7, CIFAR-10 Batch 5:  Loss: 1.02688; Validation Accuracy: 0.56920\n",
      "Epoch  8, CIFAR-10 Batch 1:  Loss: 1.06533; Validation Accuracy: 0.55860\n",
      "Epoch  8, CIFAR-10 Batch 2:  Loss: 0.95142; Validation Accuracy: 0.57880\n",
      "Epoch  8, CIFAR-10 Batch 3:  Loss: 0.70818; Validation Accuracy: 0.58820\n",
      "Epoch  8, CIFAR-10 Batch 4:  Loss: 0.96488; Validation Accuracy: 0.58780\n",
      "Epoch  8, CIFAR-10 Batch 5:  Loss: 0.91128; Validation Accuracy: 0.59020\n",
      "Epoch  9, CIFAR-10 Batch 1:  Loss: 1.04719; Validation Accuracy: 0.56380\n",
      "Epoch  9, CIFAR-10 Batch 2:  Loss: 0.90536; Validation Accuracy: 0.58400\n",
      "Epoch  9, CIFAR-10 Batch 3:  Loss: 0.66297; Validation Accuracy: 0.59700\n",
      "Epoch  9, CIFAR-10 Batch 4:  Loss: 0.88851; Validation Accuracy: 0.59920\n",
      "Epoch  9, CIFAR-10 Batch 5:  Loss: 0.77145; Validation Accuracy: 0.60960\n",
      "Epoch 10, CIFAR-10 Batch 1:  Loss: 0.95919; Validation Accuracy: 0.57120\n",
      "Epoch 10, CIFAR-10 Batch 2:  Loss: 0.82845; Validation Accuracy: 0.59680\n",
      "Epoch 10, CIFAR-10 Batch 3:  Loss: 0.59874; Validation Accuracy: 0.60220\n",
      "Epoch 10, CIFAR-10 Batch 4:  Loss: 0.75465; Validation Accuracy: 0.60620\n",
      "Epoch 10, CIFAR-10 Batch 5:  Loss: 0.67870; Validation Accuracy: 0.61220\n",
      "Epoch 11, CIFAR-10 Batch 1:  Loss: 0.88966; Validation Accuracy: 0.59440\n",
      "Epoch 11, CIFAR-10 Batch 2:  Loss: 0.75653; Validation Accuracy: 0.59860\n",
      "Epoch 11, CIFAR-10 Batch 3:  Loss: 0.55579; Validation Accuracy: 0.60560\n",
      "Epoch 11, CIFAR-10 Batch 4:  Loss: 0.70433; Validation Accuracy: 0.61660\n",
      "Epoch 11, CIFAR-10 Batch 5:  Loss: 0.61505; Validation Accuracy: 0.59660\n",
      "Epoch 12, CIFAR-10 Batch 1:  Loss: 0.83493; Validation Accuracy: 0.59880\n",
      "Epoch 12, CIFAR-10 Batch 2:  Loss: 0.69020; Validation Accuracy: 0.60220\n",
      "Epoch 12, CIFAR-10 Batch 3:  Loss: 0.46382; Validation Accuracy: 0.59680\n",
      "Epoch 12, CIFAR-10 Batch 4:  Loss: 0.73808; Validation Accuracy: 0.60900\n",
      "Epoch 12, CIFAR-10 Batch 5:  Loss: 0.58104; Validation Accuracy: 0.59240\n",
      "Epoch 13, CIFAR-10 Batch 1:  Loss: 0.77956; Validation Accuracy: 0.60060\n",
      "Epoch 13, CIFAR-10 Batch 2:  Loss: 0.63887; Validation Accuracy: 0.61240\n",
      "Epoch 13, CIFAR-10 Batch 3:  Loss: 0.37735; Validation Accuracy: 0.60960\n",
      "Epoch 13, CIFAR-10 Batch 4:  Loss: 0.61201; Validation Accuracy: 0.62240\n",
      "Epoch 13, CIFAR-10 Batch 5:  Loss: 0.50673; Validation Accuracy: 0.60780\n",
      "Epoch 14, CIFAR-10 Batch 1:  Loss: 0.68883; Validation Accuracy: 0.62480\n",
      "Epoch 14, CIFAR-10 Batch 2:  Loss: 0.63489; Validation Accuracy: 0.61200\n",
      "Epoch 14, CIFAR-10 Batch 3:  Loss: 0.38179; Validation Accuracy: 0.60760\n",
      "Epoch 14, CIFAR-10 Batch 4:  Loss: 0.57321; Validation Accuracy: 0.63000\n",
      "Epoch 14, CIFAR-10 Batch 5:  Loss: 0.47270; Validation Accuracy: 0.61520\n",
      "Epoch 15, CIFAR-10 Batch 1:  Loss: 0.62861; Validation Accuracy: 0.62460\n",
      "Epoch 15, CIFAR-10 Batch 2:  Loss: 0.55973; Validation Accuracy: 0.61580\n",
      "Epoch 15, CIFAR-10 Batch 3:  Loss: 0.32304; Validation Accuracy: 0.61840\n",
      "Epoch 15, CIFAR-10 Batch 4:  Loss: 0.50369; Validation Accuracy: 0.63340\n",
      "Epoch 15, CIFAR-10 Batch 5:  Loss: 0.43147; Validation Accuracy: 0.62220\n",
      "Epoch 16, CIFAR-10 Batch 1:  Loss: 0.59917; Validation Accuracy: 0.61540\n",
      "Epoch 16, CIFAR-10 Batch 2:  Loss: 0.50321; Validation Accuracy: 0.61860\n",
      "Epoch 16, CIFAR-10 Batch 3:  Loss: 0.30614; Validation Accuracy: 0.61440\n",
      "Epoch 16, CIFAR-10 Batch 4:  Loss: 0.52376; Validation Accuracy: 0.63800\n",
      "Epoch 16, CIFAR-10 Batch 5:  Loss: 0.35053; Validation Accuracy: 0.61960\n",
      "Epoch 17, CIFAR-10 Batch 1:  Loss: 0.50695; Validation Accuracy: 0.63100\n",
      "Epoch 17, CIFAR-10 Batch 2:  Loss: 0.48027; Validation Accuracy: 0.60540\n",
      "Epoch 17, CIFAR-10 Batch 3:  Loss: 0.32361; Validation Accuracy: 0.61800\n",
      "Epoch 17, CIFAR-10 Batch 4:  Loss: 0.46528; Validation Accuracy: 0.64140\n",
      "Epoch 17, CIFAR-10 Batch 5:  Loss: 0.34013; Validation Accuracy: 0.64020\n",
      "Epoch 18, CIFAR-10 Batch 1:  Loss: 0.44371; Validation Accuracy: 0.62480\n",
      "Epoch 18, CIFAR-10 Batch 2:  Loss: 0.40278; Validation Accuracy: 0.63040\n",
      "Epoch 18, CIFAR-10 Batch 3:  Loss: 0.30143; Validation Accuracy: 0.60600\n",
      "Epoch 18, CIFAR-10 Batch 4:  Loss: 0.47455; Validation Accuracy: 0.63560\n",
      "Epoch 18, CIFAR-10 Batch 5:  Loss: 0.31274; Validation Accuracy: 0.63920\n",
      "Epoch 19, CIFAR-10 Batch 1:  Loss: 0.38051; Validation Accuracy: 0.63160\n",
      "Epoch 19, CIFAR-10 Batch 2:  Loss: 0.39723; Validation Accuracy: 0.62800\n",
      "Epoch 19, CIFAR-10 Batch 3:  Loss: 0.24421; Validation Accuracy: 0.61960\n",
      "Epoch 19, CIFAR-10 Batch 4:  Loss: 0.40877; Validation Accuracy: 0.63220\n",
      "Epoch 19, CIFAR-10 Batch 5:  Loss: 0.30184; Validation Accuracy: 0.62640\n",
      "Epoch 20, CIFAR-10 Batch 1:  Loss: 0.36870; Validation Accuracy: 0.64480\n",
      "Epoch 20, CIFAR-10 Batch 2:  Loss: 0.38738; Validation Accuracy: 0.61580\n",
      "Epoch 20, CIFAR-10 Batch 3:  Loss: 0.25379; Validation Accuracy: 0.61140\n",
      "Epoch 20, CIFAR-10 Batch 4:  Loss: 0.33762; Validation Accuracy: 0.63700\n",
      "Epoch 20, CIFAR-10 Batch 5:  Loss: 0.32063; Validation Accuracy: 0.62460\n",
      "Epoch 21, CIFAR-10 Batch 1:  Loss: 0.31416; Validation Accuracy: 0.63160\n",
      "Epoch 21, CIFAR-10 Batch 2:  Loss: 0.38573; Validation Accuracy: 0.62940\n",
      "Epoch 21, CIFAR-10 Batch 3:  Loss: 0.20433; Validation Accuracy: 0.61380\n",
      "Epoch 21, CIFAR-10 Batch 4:  Loss: 0.30648; Validation Accuracy: 0.64260\n",
      "Epoch 21, CIFAR-10 Batch 5:  Loss: 0.23603; Validation Accuracy: 0.62780\n",
      "Epoch 22, CIFAR-10 Batch 1:  Loss: 0.27215; Validation Accuracy: 0.63000\n",
      "Epoch 22, CIFAR-10 Batch 2:  Loss: 0.30109; Validation Accuracy: 0.63100\n",
      "Epoch 22, CIFAR-10 Batch 3:  Loss: 0.22890; Validation Accuracy: 0.61420\n",
      "Epoch 22, CIFAR-10 Batch 4:  Loss: 0.28669; Validation Accuracy: 0.62920\n",
      "Epoch 22, CIFAR-10 Batch 5:  Loss: 0.25605; Validation Accuracy: 0.62660\n",
      "Epoch 23, CIFAR-10 Batch 1:  Loss: 0.29033; Validation Accuracy: 0.63820\n",
      "Epoch 23, CIFAR-10 Batch 2:  Loss: 0.32601; Validation Accuracy: 0.63720\n",
      "Epoch 23, CIFAR-10 Batch 3:  Loss: 0.20522; Validation Accuracy: 0.61360\n",
      "Epoch 23, CIFAR-10 Batch 4:  Loss: 0.30690; Validation Accuracy: 0.63280\n",
      "Epoch 23, CIFAR-10 Batch 5:  Loss: 0.23932; Validation Accuracy: 0.62540\n",
      "Epoch 24, CIFAR-10 Batch 1:  Loss: 0.24345; Validation Accuracy: 0.62980\n",
      "Epoch 24, CIFAR-10 Batch 2:  Loss: 0.26122; Validation Accuracy: 0.62660\n",
      "Epoch 24, CIFAR-10 Batch 3:  Loss: 0.16931; Validation Accuracy: 0.61280\n",
      "Epoch 24, CIFAR-10 Batch 4:  Loss: 0.25975; Validation Accuracy: 0.63000\n",
      "Epoch 24, CIFAR-10 Batch 5:  Loss: 0.21531; Validation Accuracy: 0.62780\n",
      "Epoch 25, CIFAR-10 Batch 1:  Loss: 0.26608; Validation Accuracy: 0.61900\n",
      "Epoch 25, CIFAR-10 Batch 2:  Loss: 0.27100; Validation Accuracy: 0.63020\n",
      "Epoch 25, CIFAR-10 Batch 3:  Loss: 0.14723; Validation Accuracy: 0.61660\n",
      "Epoch 25, CIFAR-10 Batch 4:  Loss: 0.27740; Validation Accuracy: 0.63300\n",
      "Epoch 25, CIFAR-10 Batch 5:  Loss: 0.23493; Validation Accuracy: 0.62420\n",
      "Epoch 26, CIFAR-10 Batch 1:  Loss: 0.22731; Validation Accuracy: 0.63340\n",
      "Epoch 26, CIFAR-10 Batch 2:  Loss: 0.26466; Validation Accuracy: 0.63980\n",
      "Epoch 26, CIFAR-10 Batch 3:  Loss: 0.10793; Validation Accuracy: 0.61040\n",
      "Epoch 26, CIFAR-10 Batch 4:  Loss: 0.24731; Validation Accuracy: 0.63360\n",
      "Epoch 26, CIFAR-10 Batch 5:  Loss: 0.21724; Validation Accuracy: 0.62920\n",
      "Epoch 27, CIFAR-10 Batch 1:  Loss: 0.18434; Validation Accuracy: 0.62760\n",
      "Epoch 27, CIFAR-10 Batch 2:  Loss: 0.28403; Validation Accuracy: 0.63580\n",
      "Epoch 27, CIFAR-10 Batch 3:  Loss: 0.14840; Validation Accuracy: 0.61280\n",
      "Epoch 27, CIFAR-10 Batch 4:  Loss: 0.22246; Validation Accuracy: 0.63160\n",
      "Epoch 27, CIFAR-10 Batch 5:  Loss: 0.16006; Validation Accuracy: 0.62260\n",
      "Epoch 28, CIFAR-10 Batch 1:  Loss: 0.14607; Validation Accuracy: 0.62820\n",
      "Epoch 28, CIFAR-10 Batch 2:  Loss: 0.23580; Validation Accuracy: 0.63540\n",
      "Epoch 28, CIFAR-10 Batch 3:  Loss: 0.18317; Validation Accuracy: 0.59680\n",
      "Epoch 28, CIFAR-10 Batch 4:  Loss: 0.21819; Validation Accuracy: 0.62680\n",
      "Epoch 28, CIFAR-10 Batch 5:  Loss: 0.18603; Validation Accuracy: 0.61100\n",
      "Epoch 29, CIFAR-10 Batch 1:  Loss: 0.17252; Validation Accuracy: 0.62400\n",
      "Epoch 29, CIFAR-10 Batch 2:  Loss: 0.18998; Validation Accuracy: 0.62600\n",
      "Epoch 29, CIFAR-10 Batch 3:  Loss: 0.14525; Validation Accuracy: 0.60640\n",
      "Epoch 29, CIFAR-10 Batch 4:  Loss: 0.24434; Validation Accuracy: 0.61320\n",
      "Epoch 29, CIFAR-10 Batch 5:  Loss: 0.15066; Validation Accuracy: 0.62060\n",
      "Epoch 30, CIFAR-10 Batch 1:  Loss: 0.19598; Validation Accuracy: 0.62520\n",
      "Epoch 30, CIFAR-10 Batch 2:  Loss: 0.17350; Validation Accuracy: 0.61460\n",
      "Epoch 30, CIFAR-10 Batch 3:  Loss: 0.11525; Validation Accuracy: 0.60400\n",
      "Epoch 30, CIFAR-10 Batch 4:  Loss: 0.19259; Validation Accuracy: 0.63080\n",
      "Epoch 30, CIFAR-10 Batch 5:  Loss: 0.14362; Validation Accuracy: 0.61320\n"
     ]
    }
   ],
   "source": [
    "\"\"\"\n",
    "DON'T MODIFY ANYTHING IN THIS CELL\n",
    "\"\"\"\n",
    "save_model_path = './image_classification'\n",
    "\n",
    "print('Training...')\n",
    "with tf.Session() as sess:\n",
    "    # Initializing the variables\n",
    "    sess.run(tf.global_variables_initializer())\n",
    "    \n",
    "    # Training cycle\n",
    "    for epoch in range(epochs):\n",
    "        # Loop over all batches\n",
    "        n_batches = 5\n",
    "        for batch_i in range(1, n_batches + 1):\n",
    "            for batch_features, batch_labels in helper.load_preprocess_training_batch(batch_i, batch_size):\n",
    "                train_neural_network(sess, optimizer, keep_probability, batch_features, batch_labels)\n",
    "            print('Epoch {:>2}, CIFAR-10 Batch {}:  '.format(epoch + 1, batch_i), end='')\n",
    "            print_stats(sess, batch_features, batch_labels, cost, accuracy)\n",
    "            \n",
    "    # Save Model\n",
    "    saver = tf.train.Saver()\n",
    "    save_path = saver.save(sess, save_model_path)"
   ]
  },
  {
   "cell_type": "markdown",
   "metadata": {
    "deletable": true,
    "editable": true
   },
   "source": [
    "# Checkpoint\n",
    "The model has been saved to disk.\n",
    "## Test Model\n",
    "Test your model against the test dataset.  This will be your final accuracy. You should have an accuracy greater than 50%. If you don't, keep tweaking the model architecture and parameters."
   ]
  },
  {
   "cell_type": "code",
   "execution_count": 105,
   "metadata": {
    "collapsed": false,
    "deletable": true,
    "editable": true
   },
   "outputs": [
    {
     "name": "stdout",
     "output_type": "stream",
     "text": [
      "Testing Accuracy: 0.623318829113924\n",
      "\n"
     ]
    },
    {
     "data": {
      "image/png": "[encoded data removed]",
      "text/plain": [
       "<matplotlib.figure.Figure at 0x7fa2058fde10>"
      ]
     },
     "metadata": {
      "image/png": {
       "height": 319,
       "width": 355
      }
     },
     "output_type": "display_data"
    }
   ],
   "source": [
    "\"\"\"\n",
    "DON'T MODIFY ANYTHING IN THIS CELL\n",
    "\"\"\"\n",
    "%matplotlib inline\n",
    "%config InlineBackend.figure_format = 'retina'\n",
    "\n",
    "import tensorflow as tf\n",
    "import pickle\n",
    "import helper\n",
    "import random\n",
    "\n",
    "# Set batch size if not already set\n",
    "try:\n",
    "    if batch_size:\n",
    "        pass\n",
    "except NameError:\n",
    "    batch_size = 64\n",
    "\n",
    "save_model_path = './image_classification'\n",
    "n_samples = 4\n",
    "top_n_predictions = 3\n",
    "\n",
    "def test_model():\n",
    "    \"\"\"\n",
    "    Test the saved model against the test dataset\n",
    "    \"\"\"\n",
    "\n",
    "    test_features, test_labels = pickle.load(open('preprocess_test.p', mode='rb'))\n",
    "    loaded_graph = tf.Graph()\n",
    "\n",
    "    with tf.Session(graph=loaded_graph) as sess:\n",
    "        # Load model\n",
    "        loader = tf.train.import_meta_graph(save_model_path + '.meta')\n",
    "        loader.restore(sess, save_model_path)\n",
    "\n",
    "        # Get Tensors from loaded model\n",
    "        loaded_x = loaded_graph.get_tensor_by_name('x:0')\n",
    "        loaded_y = loaded_graph.get_tensor_by_name('y:0')\n",
    "        loaded_keep_prob = loaded_graph.get_tensor_by_name('keep_prob:0')\n",
    "        loaded_logits = loaded_graph.get_tensor_by_name('logits:0')\n",
    "        loaded_acc = loaded_graph.get_tensor_by_name('accuracy:0')\n",
    "        \n",
    "        # Get accuracy in batches for memory limitations\n",
    "        test_batch_acc_total = 0\n",
    "        test_batch_count = 0\n",
    "        \n",
    "        for test_feature_batch, test_label_batch in helper.batch_features_labels(test_features, test_labels, batch_size):\n",
    "            test_batch_acc_total += sess.run(\n",
    "                loaded_acc,\n",
    "                feed_dict={loaded_x: test_feature_batch, loaded_y: test_label_batch, loaded_keep_prob: 1.0})\n",
    "            test_batch_count += 1\n",
    "\n",
    "        print('Testing Accuracy: {}\\n'.format(test_batch_acc_total/test_batch_count))\n",
    "\n",
    "        # Print Random Samples\n",
    "        random_test_features, random_test_labels = tuple(zip(*random.sample(list(zip(test_features, test_labels)), n_samples)))\n",
    "        random_test_predictions = sess.run(\n",
    "            tf.nn.top_k(tf.nn.softmax(loaded_logits), top_n_predictions),\n",
    "            feed_dict={loaded_x: random_test_features, loaded_y: random_test_labels, loaded_keep_prob: 1.0})\n",
    "        helper.display_image_predictions(random_test_features, random_test_labels, random_test_predictions)\n",
    "\n",
    "\n",
    "test_model()"
   ]
  },
  {
   "cell_type": "markdown",
   "metadata": {
    "deletable": true,
    "editable": true
   },
   "source": [
    "## Why 50-80% Accuracy?\n",
    "You might be wondering why you can't get an accuracy any higher. First things first, 50% isn't bad for a simple CNN.  Pure guessing would get you 10% accuracy. However, you might notice people are getting scores [well above 80%](http://rodrigob.github.io/are_we_there_yet/build/classification_datasets_results.html#43494641522d3130).  That's because we haven't taught you all there is to know about neural networks. We still need to cover a few more techniques.\n",
    "## Submitting This Project\n",
    "When submitting this project, make sure to run all the cells before saving the notebook.  Save the notebook file as \"dlnd_image_classification.ipynb\" and save it as a HTML file under \"File\" -> \"Download as\".  Include the \"helper.py\" and \"problem_unittests.py\" files in your submission."
   ]
  }
 ],
 "metadata": {
  "kernelspec": {
   "display_name": "Python 3",
   "language": "python",
   "name": "python3"
  },
  "language_info": {
   "codemirror_mode": {
    "name": "ipython",
    "version": 3
   },
   "file_extension": ".py",
   "mimetype": "text/x-python",
   "name": "python",
   "nbconvert_exporter": "python",
   "pygments_lexer": "ipython3",
   "version": "3.5.2"
  },
  "widgets": {
   "state": {},
   "version": "1.1.2"
  }
 },
 "nbformat": 4,
 "nbformat_minor": 1
}
